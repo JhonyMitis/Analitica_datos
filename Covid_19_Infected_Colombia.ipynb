{
  "nbformat": 4,
  "nbformat_minor": 0,
  "metadata": {
    "kernelspec": {
      "display_name": "Python 3.7.6 64-bit ('FG': virtualenv)",
      "language": "python",
      "name": "python37664bitfgvirtualenv5dc1badde07b4911ac66d98ef2dee124"
    },
    "language_info": {
      "codemirror_mode": {
        "name": "ipython",
        "version": 3
      },
      "file_extension": ".py",
      "mimetype": "text/x-python",
      "name": "python",
      "nbconvert_exporter": "python",
      "pygments_lexer": "ipython3",
      "version": "3.7.6"
    },
    "colab": {
      "name": "Covid_19_Infected_Colombia.ipynb",
      "provenance": [],
      "collapsed_sections": [],
      "include_colab_link": true
    }
  },
  "cells": [
    {
      "cell_type": "markdown",
      "metadata": {
        "id": "view-in-github",
        "colab_type": "text"
      },
      "source": [
        "<a href=\"https://colab.research.google.com/github/JhonyMitis/Analitica_datos/blob/master/Covid_19_Infected_Colombia.ipynb\" target=\"_parent\"><img src=\"https://colab.research.google.com/assets/colab-badge.svg\" alt=\"Open In Colab\"/></a>"
      ]
    },
    {
      "cell_type": "markdown",
      "metadata": {
        "id": "1wHi20l6G19t",
        "colab_type": "text"
      },
      "source": [
        "# Análisis base de datos del covid-19"
      ]
    },
    {
      "cell_type": "code",
      "metadata": {
        "id": "kCxDxQXIG19v",
        "colab_type": "code",
        "colab": {}
      },
      "source": [
        "import pandas as pd\n",
        "import numpy as np\n",
        "import matplotlib.pyplot as plt\n",
        "import warnings\n",
        "warnings.filterwarnings('ignore')\n",
        "\n",
        "from joblib import dump\n",
        "\n",
        "from sklearn.decomposition import PCA\n",
        "from sklearn.manifold import TSNE\n",
        "\n",
        "from sklearn.model_selection import train_test_split, GridSearchCV\n",
        "from sklearn.pipeline import Pipeline\n",
        "from sklearn.metrics import mean_absolute_error\n",
        "from sklearn.preprocessing import StandardScaler\n",
        "\n",
        "from sklearn.linear_model import LinearRegression, Ridge, Lasso, ElasticNet\n",
        "from sklearn.kernel_ridge import KernelRidge\n",
        "\n",
        "from sklearn.base import BaseEstimator, TransformerMixin\n",
        "from sklearn.neighbors import KNeighborsRegressor\n",
        "\n",
        "from scipy.stats import mode\n",
        "from datetime import date\n",
        "\n",
        "# To plot pretty figures\n",
        "%matplotlib inline\n",
        "import matplotlib as mpl\n",
        "import matplotlib.pyplot as plt\n",
        "plt.rc('axes', labelsize=14)\n",
        "plt.rc('xtick', labelsize=12)\n",
        "plt.rc('ytick', labelsize=12)\n"
      ],
      "execution_count": 0,
      "outputs": []
    },
    {
      "cell_type": "code",
      "metadata": {
        "id": "3eLfup1WG190",
        "colab_type": "code",
        "colab": {}
      },
      "source": [
        "#Clase t-SNE\n",
        "class tsne_map(BaseEstimator, TransformerMixin):\n",
        "    def __init__(self, n_components, perplexity, n_neighbors):\n",
        "        self.n_components = n_components\n",
        "        self.perplexity = perplexity\n",
        "        self.n_neighbors = n_neighbors\n",
        "        return None\n",
        "        \n",
        "    def fit(self, X, *_):\n",
        "        red = TSNE(n_components = self.n_components, perplexity = self.perplexity)\n",
        "        z = red.fit_transform(X)\n",
        "        \n",
        "        self.neigh = KNeighborsRegressor(n_neighbors = self.n_neighbors)\n",
        "        self.neigh.fit(X, z)\n",
        "        return self\n",
        "    \n",
        "    def transform(self, X):\n",
        "        return self.neigh.predict(X)\n",
        "    \n",
        "    def fit_transform(self, X, *_):\n",
        "        self.fit(X)\n",
        "        red = TSNE(n_components = self.n_components, perplexity = self.perplexity)\n",
        "        return self.transform(X)"
      ],
      "execution_count": 0,
      "outputs": []
    },
    {
      "cell_type": "code",
      "metadata": {
        "id": "ZsdMnoLJG193",
        "colab_type": "code",
        "colab": {
          "base_uri": "https://localhost:8080/",
          "height": 253
        },
        "outputId": "e6109692-b7d8-4c63-bc3f-fa03a1d3e6fa"
      },
      "source": [
        "# Novel\n",
        "csv_path_link = 'https://data.humdata.org/hxlproxy/api/data-preview.csv?url=https%3A%2F%2Fraw.githubusercontent.com%2FCSSEGISandData%2FCOVID-19%2Fmaster%2Fcsse_covid_19_data%2Fcsse_covid_19_time_series%2Ftime_series_covid19_confirmed_global.csv&filename=time_series_covid19_confirmed_global.csv'\n",
        "\n",
        "# Kaggle\n",
        "#csv_path_link = 'https://www.kaggle.com/sudalairajkumar/novel-corona-virus-2019-dataset#time_series_covid_19_confirmed.csv'\n",
        "\n",
        "Xdata = pd.read_csv(csv_path_link)\n",
        "Xdata.head()"
      ],
      "execution_count": 18,
      "outputs": [
        {
          "output_type": "execute_result",
          "data": {
            "text/html": [
              "<div>\n",
              "<style scoped>\n",
              "    .dataframe tbody tr th:only-of-type {\n",
              "        vertical-align: middle;\n",
              "    }\n",
              "\n",
              "    .dataframe tbody tr th {\n",
              "        vertical-align: top;\n",
              "    }\n",
              "\n",
              "    .dataframe thead th {\n",
              "        text-align: right;\n",
              "    }\n",
              "</style>\n",
              "<table border=\"1\" class=\"dataframe\">\n",
              "  <thead>\n",
              "    <tr style=\"text-align: right;\">\n",
              "      <th></th>\n",
              "      <th>Province/State</th>\n",
              "      <th>Country/Region</th>\n",
              "      <th>Lat</th>\n",
              "      <th>Long</th>\n",
              "      <th>1/22/20</th>\n",
              "      <th>1/23/20</th>\n",
              "      <th>1/24/20</th>\n",
              "      <th>1/25/20</th>\n",
              "      <th>1/26/20</th>\n",
              "      <th>1/27/20</th>\n",
              "      <th>1/28/20</th>\n",
              "      <th>1/29/20</th>\n",
              "      <th>1/30/20</th>\n",
              "      <th>1/31/20</th>\n",
              "      <th>2/1/20</th>\n",
              "      <th>2/2/20</th>\n",
              "      <th>2/3/20</th>\n",
              "      <th>2/4/20</th>\n",
              "      <th>2/5/20</th>\n",
              "      <th>2/6/20</th>\n",
              "      <th>2/7/20</th>\n",
              "      <th>2/8/20</th>\n",
              "      <th>2/9/20</th>\n",
              "      <th>2/10/20</th>\n",
              "      <th>2/11/20</th>\n",
              "      <th>2/12/20</th>\n",
              "      <th>2/13/20</th>\n",
              "      <th>2/14/20</th>\n",
              "      <th>2/15/20</th>\n",
              "      <th>2/16/20</th>\n",
              "      <th>2/17/20</th>\n",
              "      <th>2/18/20</th>\n",
              "      <th>2/19/20</th>\n",
              "      <th>2/20/20</th>\n",
              "      <th>2/21/20</th>\n",
              "      <th>2/22/20</th>\n",
              "      <th>2/23/20</th>\n",
              "      <th>2/24/20</th>\n",
              "      <th>2/25/20</th>\n",
              "      <th>2/26/20</th>\n",
              "      <th>...</th>\n",
              "      <th>3/31/20</th>\n",
              "      <th>4/1/20</th>\n",
              "      <th>4/2/20</th>\n",
              "      <th>4/3/20</th>\n",
              "      <th>4/4/20</th>\n",
              "      <th>4/5/20</th>\n",
              "      <th>4/6/20</th>\n",
              "      <th>4/7/20</th>\n",
              "      <th>4/8/20</th>\n",
              "      <th>4/9/20</th>\n",
              "      <th>4/10/20</th>\n",
              "      <th>4/11/20</th>\n",
              "      <th>4/12/20</th>\n",
              "      <th>4/13/20</th>\n",
              "      <th>4/14/20</th>\n",
              "      <th>4/15/20</th>\n",
              "      <th>4/16/20</th>\n",
              "      <th>4/17/20</th>\n",
              "      <th>4/18/20</th>\n",
              "      <th>4/19/20</th>\n",
              "      <th>4/20/20</th>\n",
              "      <th>4/21/20</th>\n",
              "      <th>4/22/20</th>\n",
              "      <th>4/23/20</th>\n",
              "      <th>4/24/20</th>\n",
              "      <th>4/25/20</th>\n",
              "      <th>4/26/20</th>\n",
              "      <th>4/27/20</th>\n",
              "      <th>4/28/20</th>\n",
              "      <th>4/29/20</th>\n",
              "      <th>4/30/20</th>\n",
              "      <th>5/1/20</th>\n",
              "      <th>5/2/20</th>\n",
              "      <th>5/3/20</th>\n",
              "      <th>5/4/20</th>\n",
              "      <th>5/5/20</th>\n",
              "      <th>5/6/20</th>\n",
              "      <th>5/7/20</th>\n",
              "      <th>5/8/20</th>\n",
              "      <th>5/9/20</th>\n",
              "    </tr>\n",
              "  </thead>\n",
              "  <tbody>\n",
              "    <tr>\n",
              "      <th>0</th>\n",
              "      <td>NaN</td>\n",
              "      <td>Afghanistan</td>\n",
              "      <td>33.0000</td>\n",
              "      <td>65.0000</td>\n",
              "      <td>0</td>\n",
              "      <td>0</td>\n",
              "      <td>0</td>\n",
              "      <td>0</td>\n",
              "      <td>0</td>\n",
              "      <td>0</td>\n",
              "      <td>0</td>\n",
              "      <td>0</td>\n",
              "      <td>0</td>\n",
              "      <td>0</td>\n",
              "      <td>0</td>\n",
              "      <td>0</td>\n",
              "      <td>0</td>\n",
              "      <td>0</td>\n",
              "      <td>0</td>\n",
              "      <td>0</td>\n",
              "      <td>0</td>\n",
              "      <td>0</td>\n",
              "      <td>0</td>\n",
              "      <td>0</td>\n",
              "      <td>0</td>\n",
              "      <td>0</td>\n",
              "      <td>0</td>\n",
              "      <td>0</td>\n",
              "      <td>0</td>\n",
              "      <td>0</td>\n",
              "      <td>0</td>\n",
              "      <td>0</td>\n",
              "      <td>0</td>\n",
              "      <td>0</td>\n",
              "      <td>0</td>\n",
              "      <td>0</td>\n",
              "      <td>0</td>\n",
              "      <td>1</td>\n",
              "      <td>1</td>\n",
              "      <td>1</td>\n",
              "      <td>...</td>\n",
              "      <td>174</td>\n",
              "      <td>237</td>\n",
              "      <td>273</td>\n",
              "      <td>281</td>\n",
              "      <td>299</td>\n",
              "      <td>349</td>\n",
              "      <td>367</td>\n",
              "      <td>423</td>\n",
              "      <td>444</td>\n",
              "      <td>484</td>\n",
              "      <td>521</td>\n",
              "      <td>555</td>\n",
              "      <td>607</td>\n",
              "      <td>665</td>\n",
              "      <td>714</td>\n",
              "      <td>784</td>\n",
              "      <td>840</td>\n",
              "      <td>906</td>\n",
              "      <td>933</td>\n",
              "      <td>996</td>\n",
              "      <td>1026</td>\n",
              "      <td>1092</td>\n",
              "      <td>1176</td>\n",
              "      <td>1279</td>\n",
              "      <td>1351</td>\n",
              "      <td>1463</td>\n",
              "      <td>1531</td>\n",
              "      <td>1703</td>\n",
              "      <td>1828</td>\n",
              "      <td>1939</td>\n",
              "      <td>2171</td>\n",
              "      <td>2335</td>\n",
              "      <td>2469</td>\n",
              "      <td>2704</td>\n",
              "      <td>2894</td>\n",
              "      <td>3224</td>\n",
              "      <td>3392</td>\n",
              "      <td>3563</td>\n",
              "      <td>3778</td>\n",
              "      <td>4033</td>\n",
              "    </tr>\n",
              "    <tr>\n",
              "      <th>1</th>\n",
              "      <td>NaN</td>\n",
              "      <td>Albania</td>\n",
              "      <td>41.1533</td>\n",
              "      <td>20.1683</td>\n",
              "      <td>0</td>\n",
              "      <td>0</td>\n",
              "      <td>0</td>\n",
              "      <td>0</td>\n",
              "      <td>0</td>\n",
              "      <td>0</td>\n",
              "      <td>0</td>\n",
              "      <td>0</td>\n",
              "      <td>0</td>\n",
              "      <td>0</td>\n",
              "      <td>0</td>\n",
              "      <td>0</td>\n",
              "      <td>0</td>\n",
              "      <td>0</td>\n",
              "      <td>0</td>\n",
              "      <td>0</td>\n",
              "      <td>0</td>\n",
              "      <td>0</td>\n",
              "      <td>0</td>\n",
              "      <td>0</td>\n",
              "      <td>0</td>\n",
              "      <td>0</td>\n",
              "      <td>0</td>\n",
              "      <td>0</td>\n",
              "      <td>0</td>\n",
              "      <td>0</td>\n",
              "      <td>0</td>\n",
              "      <td>0</td>\n",
              "      <td>0</td>\n",
              "      <td>0</td>\n",
              "      <td>0</td>\n",
              "      <td>0</td>\n",
              "      <td>0</td>\n",
              "      <td>0</td>\n",
              "      <td>0</td>\n",
              "      <td>0</td>\n",
              "      <td>...</td>\n",
              "      <td>243</td>\n",
              "      <td>259</td>\n",
              "      <td>277</td>\n",
              "      <td>304</td>\n",
              "      <td>333</td>\n",
              "      <td>361</td>\n",
              "      <td>377</td>\n",
              "      <td>383</td>\n",
              "      <td>400</td>\n",
              "      <td>409</td>\n",
              "      <td>416</td>\n",
              "      <td>433</td>\n",
              "      <td>446</td>\n",
              "      <td>467</td>\n",
              "      <td>475</td>\n",
              "      <td>494</td>\n",
              "      <td>518</td>\n",
              "      <td>539</td>\n",
              "      <td>548</td>\n",
              "      <td>562</td>\n",
              "      <td>584</td>\n",
              "      <td>609</td>\n",
              "      <td>634</td>\n",
              "      <td>663</td>\n",
              "      <td>678</td>\n",
              "      <td>712</td>\n",
              "      <td>726</td>\n",
              "      <td>736</td>\n",
              "      <td>750</td>\n",
              "      <td>766</td>\n",
              "      <td>773</td>\n",
              "      <td>782</td>\n",
              "      <td>789</td>\n",
              "      <td>795</td>\n",
              "      <td>803</td>\n",
              "      <td>820</td>\n",
              "      <td>832</td>\n",
              "      <td>842</td>\n",
              "      <td>850</td>\n",
              "      <td>856</td>\n",
              "    </tr>\n",
              "    <tr>\n",
              "      <th>2</th>\n",
              "      <td>NaN</td>\n",
              "      <td>Algeria</td>\n",
              "      <td>28.0339</td>\n",
              "      <td>1.6596</td>\n",
              "      <td>0</td>\n",
              "      <td>0</td>\n",
              "      <td>0</td>\n",
              "      <td>0</td>\n",
              "      <td>0</td>\n",
              "      <td>0</td>\n",
              "      <td>0</td>\n",
              "      <td>0</td>\n",
              "      <td>0</td>\n",
              "      <td>0</td>\n",
              "      <td>0</td>\n",
              "      <td>0</td>\n",
              "      <td>0</td>\n",
              "      <td>0</td>\n",
              "      <td>0</td>\n",
              "      <td>0</td>\n",
              "      <td>0</td>\n",
              "      <td>0</td>\n",
              "      <td>0</td>\n",
              "      <td>0</td>\n",
              "      <td>0</td>\n",
              "      <td>0</td>\n",
              "      <td>0</td>\n",
              "      <td>0</td>\n",
              "      <td>0</td>\n",
              "      <td>0</td>\n",
              "      <td>0</td>\n",
              "      <td>0</td>\n",
              "      <td>0</td>\n",
              "      <td>0</td>\n",
              "      <td>0</td>\n",
              "      <td>0</td>\n",
              "      <td>0</td>\n",
              "      <td>0</td>\n",
              "      <td>1</td>\n",
              "      <td>1</td>\n",
              "      <td>...</td>\n",
              "      <td>716</td>\n",
              "      <td>847</td>\n",
              "      <td>986</td>\n",
              "      <td>1171</td>\n",
              "      <td>1251</td>\n",
              "      <td>1320</td>\n",
              "      <td>1423</td>\n",
              "      <td>1468</td>\n",
              "      <td>1572</td>\n",
              "      <td>1666</td>\n",
              "      <td>1761</td>\n",
              "      <td>1825</td>\n",
              "      <td>1914</td>\n",
              "      <td>1983</td>\n",
              "      <td>2070</td>\n",
              "      <td>2160</td>\n",
              "      <td>2268</td>\n",
              "      <td>2418</td>\n",
              "      <td>2534</td>\n",
              "      <td>2629</td>\n",
              "      <td>2718</td>\n",
              "      <td>2811</td>\n",
              "      <td>2910</td>\n",
              "      <td>3007</td>\n",
              "      <td>3127</td>\n",
              "      <td>3256</td>\n",
              "      <td>3382</td>\n",
              "      <td>3517</td>\n",
              "      <td>3649</td>\n",
              "      <td>3848</td>\n",
              "      <td>4006</td>\n",
              "      <td>4154</td>\n",
              "      <td>4295</td>\n",
              "      <td>4474</td>\n",
              "      <td>4648</td>\n",
              "      <td>4838</td>\n",
              "      <td>4997</td>\n",
              "      <td>5182</td>\n",
              "      <td>5369</td>\n",
              "      <td>5558</td>\n",
              "    </tr>\n",
              "    <tr>\n",
              "      <th>3</th>\n",
              "      <td>NaN</td>\n",
              "      <td>Andorra</td>\n",
              "      <td>42.5063</td>\n",
              "      <td>1.5218</td>\n",
              "      <td>0</td>\n",
              "      <td>0</td>\n",
              "      <td>0</td>\n",
              "      <td>0</td>\n",
              "      <td>0</td>\n",
              "      <td>0</td>\n",
              "      <td>0</td>\n",
              "      <td>0</td>\n",
              "      <td>0</td>\n",
              "      <td>0</td>\n",
              "      <td>0</td>\n",
              "      <td>0</td>\n",
              "      <td>0</td>\n",
              "      <td>0</td>\n",
              "      <td>0</td>\n",
              "      <td>0</td>\n",
              "      <td>0</td>\n",
              "      <td>0</td>\n",
              "      <td>0</td>\n",
              "      <td>0</td>\n",
              "      <td>0</td>\n",
              "      <td>0</td>\n",
              "      <td>0</td>\n",
              "      <td>0</td>\n",
              "      <td>0</td>\n",
              "      <td>0</td>\n",
              "      <td>0</td>\n",
              "      <td>0</td>\n",
              "      <td>0</td>\n",
              "      <td>0</td>\n",
              "      <td>0</td>\n",
              "      <td>0</td>\n",
              "      <td>0</td>\n",
              "      <td>0</td>\n",
              "      <td>0</td>\n",
              "      <td>0</td>\n",
              "      <td>...</td>\n",
              "      <td>376</td>\n",
              "      <td>390</td>\n",
              "      <td>428</td>\n",
              "      <td>439</td>\n",
              "      <td>466</td>\n",
              "      <td>501</td>\n",
              "      <td>525</td>\n",
              "      <td>545</td>\n",
              "      <td>564</td>\n",
              "      <td>583</td>\n",
              "      <td>601</td>\n",
              "      <td>601</td>\n",
              "      <td>638</td>\n",
              "      <td>646</td>\n",
              "      <td>659</td>\n",
              "      <td>673</td>\n",
              "      <td>673</td>\n",
              "      <td>696</td>\n",
              "      <td>704</td>\n",
              "      <td>713</td>\n",
              "      <td>717</td>\n",
              "      <td>717</td>\n",
              "      <td>723</td>\n",
              "      <td>723</td>\n",
              "      <td>731</td>\n",
              "      <td>738</td>\n",
              "      <td>738</td>\n",
              "      <td>743</td>\n",
              "      <td>743</td>\n",
              "      <td>743</td>\n",
              "      <td>745</td>\n",
              "      <td>745</td>\n",
              "      <td>747</td>\n",
              "      <td>748</td>\n",
              "      <td>750</td>\n",
              "      <td>751</td>\n",
              "      <td>751</td>\n",
              "      <td>752</td>\n",
              "      <td>752</td>\n",
              "      <td>754</td>\n",
              "    </tr>\n",
              "    <tr>\n",
              "      <th>4</th>\n",
              "      <td>NaN</td>\n",
              "      <td>Angola</td>\n",
              "      <td>-11.2027</td>\n",
              "      <td>17.8739</td>\n",
              "      <td>0</td>\n",
              "      <td>0</td>\n",
              "      <td>0</td>\n",
              "      <td>0</td>\n",
              "      <td>0</td>\n",
              "      <td>0</td>\n",
              "      <td>0</td>\n",
              "      <td>0</td>\n",
              "      <td>0</td>\n",
              "      <td>0</td>\n",
              "      <td>0</td>\n",
              "      <td>0</td>\n",
              "      <td>0</td>\n",
              "      <td>0</td>\n",
              "      <td>0</td>\n",
              "      <td>0</td>\n",
              "      <td>0</td>\n",
              "      <td>0</td>\n",
              "      <td>0</td>\n",
              "      <td>0</td>\n",
              "      <td>0</td>\n",
              "      <td>0</td>\n",
              "      <td>0</td>\n",
              "      <td>0</td>\n",
              "      <td>0</td>\n",
              "      <td>0</td>\n",
              "      <td>0</td>\n",
              "      <td>0</td>\n",
              "      <td>0</td>\n",
              "      <td>0</td>\n",
              "      <td>0</td>\n",
              "      <td>0</td>\n",
              "      <td>0</td>\n",
              "      <td>0</td>\n",
              "      <td>0</td>\n",
              "      <td>0</td>\n",
              "      <td>...</td>\n",
              "      <td>7</td>\n",
              "      <td>8</td>\n",
              "      <td>8</td>\n",
              "      <td>8</td>\n",
              "      <td>10</td>\n",
              "      <td>14</td>\n",
              "      <td>16</td>\n",
              "      <td>17</td>\n",
              "      <td>19</td>\n",
              "      <td>19</td>\n",
              "      <td>19</td>\n",
              "      <td>19</td>\n",
              "      <td>19</td>\n",
              "      <td>19</td>\n",
              "      <td>19</td>\n",
              "      <td>19</td>\n",
              "      <td>19</td>\n",
              "      <td>19</td>\n",
              "      <td>24</td>\n",
              "      <td>24</td>\n",
              "      <td>24</td>\n",
              "      <td>24</td>\n",
              "      <td>25</td>\n",
              "      <td>25</td>\n",
              "      <td>25</td>\n",
              "      <td>25</td>\n",
              "      <td>26</td>\n",
              "      <td>27</td>\n",
              "      <td>27</td>\n",
              "      <td>27</td>\n",
              "      <td>27</td>\n",
              "      <td>30</td>\n",
              "      <td>35</td>\n",
              "      <td>35</td>\n",
              "      <td>35</td>\n",
              "      <td>36</td>\n",
              "      <td>36</td>\n",
              "      <td>36</td>\n",
              "      <td>43</td>\n",
              "      <td>43</td>\n",
              "    </tr>\n",
              "  </tbody>\n",
              "</table>\n",
              "<p>5 rows × 113 columns</p>\n",
              "</div>"
            ],
            "text/plain": [
              "  Province/State Country/Region      Lat  ...  5/7/20  5/8/20  5/9/20\n",
              "0            NaN    Afghanistan  33.0000  ...    3563    3778    4033\n",
              "1            NaN        Albania  41.1533  ...     842     850     856\n",
              "2            NaN        Algeria  28.0339  ...    5182    5369    5558\n",
              "3            NaN        Andorra  42.5063  ...     752     752     754\n",
              "4            NaN         Angola -11.2027  ...      36      43      43\n",
              "\n",
              "[5 rows x 113 columns]"
            ]
          },
          "metadata": {
            "tags": []
          },
          "execution_count": 18
        }
      ]
    },
    {
      "cell_type": "code",
      "metadata": {
        "id": "nzPQQEzDG197",
        "colab_type": "code",
        "colab": {
          "base_uri": "https://localhost:8080/",
          "height": 102
        },
        "outputId": "27b7580a-831b-4727-c76b-58d925a2769d"
      },
      "source": [
        "def window(serie, w=5):\n",
        "    pi =0\n",
        "    pf = w\n",
        "    X = serie[pi:pf].reshape(1,-1)\n",
        "    y = serie[pf].reshape(1,-1)\n",
        "    pi += 1\n",
        "    pf += 1\n",
        "    while pf+1 <= serie.shape[0]:\n",
        "        X = np.append(X,serie[pi:pf].reshape(1,-1),axis=0)\n",
        "        y = np.append(y,serie[pf].reshape(1,-1),axis=0)\n",
        "        pi += 1\n",
        "        pf += 1\n",
        "    return X, y # X \\in Real^{N x P = w}, y \\in Real^N\n",
        "\n",
        "#Contagios acumulados\n",
        "serie = np.array(Xdata.iloc[\n",
        "    np.where(Xdata[Xdata.columns[1]] == 'Colombia')[0][0], 4:])\n",
        "\n",
        "#Contagios por día\n",
        "serie_d = np.append(0, np.diff(serie))\n",
        "\n",
        "#Ventaneo\n",
        "w = 5\n",
        "X,y = window(serie, w)\n",
        "Xd,yd = window(serie_d, w)\n",
        "\n",
        "print('Serie:', serie.shape)\n",
        "print('X:', X.shape)\n",
        "print('y:', y.shape)\n",
        "print('Xd:', Xd.shape)\n",
        "print('Xd:', yd.shape)"
      ],
      "execution_count": 19,
      "outputs": [
        {
          "output_type": "stream",
          "text": [
            "Serie: (109,)\n",
            "X: (104, 5)\n",
            "y: (104, 1)\n",
            "Xd: (104, 5)\n",
            "Xd: (104, 1)\n"
          ],
          "name": "stdout"
        }
      ]
    },
    {
      "cell_type": "code",
      "metadata": {
        "id": "TTZ_2ctmG19-",
        "colab_type": "code",
        "colab": {
          "base_uri": "https://localhost:8080/",
          "height": 519
        },
        "outputId": "b2b11b50-cf2e-45fc-8167-d5a82751525b"
      },
      "source": [
        "# Plotendo la curva\n",
        "\n",
        "plt.plot(serie, 'b')\n",
        "plt.plot(y, 'orange')\n",
        "plt.figure()\n",
        "plt.plot(yd)\n",
        "plt.show()"
      ],
      "execution_count": 20,
      "outputs": [
        {
          "output_type": "display_data",
          "data": {
            "image/png": "[encoded data removed]",
            "text/plain": [
              "<Figure size 432x288 with 1 Axes>"
            ]
          },
          "metadata": {
            "tags": [],
            "needs_background": "light"
          }
        },
        {
          "output_type": "display_data",
          "data": {
            "image/png": "[encoded data removed]",
            "text/plain": [
              "<Figure size 432x288 with 1 Axes>"
            ]
          },
          "metadata": {
            "tags": [],
            "needs_background": "light"
          }
        }
      ]
    },
    {
      "cell_type": "markdown",
      "metadata": {
        "id": "bKhn8uypG1-B",
        "colab_type": "text"
      },
      "source": [
        "# Análisis Exploratorio"
      ]
    },
    {
      "cell_type": "code",
      "metadata": {
        "id": "O6GVd8CFG1-C",
        "colab_type": "code",
        "colab": {
          "base_uri": "https://localhost:8080/",
          "height": 1000
        },
        "outputId": "56e639db-55aa-4343-b772-6b0e79039f9f"
      },
      "source": [
        "red_pca = PCA(n_components=None, \n",
        "              copy=True, \n",
        "              whiten=False, \n",
        "              svd_solver='auto', \n",
        "              tol=0.0, \n",
        "              iterated_power='auto', \n",
        "              random_state=None)\n",
        "\n",
        "red_d_pca = PCA(n_components=None, \n",
        "              copy=True, \n",
        "              whiten=False, \n",
        "              svd_solver='auto', \n",
        "              tol=0.0, \n",
        "              iterated_power='auto', \n",
        "              random_state=None)\n",
        "\n",
        "red_tsne = TSNE(n_components=2, \n",
        "                perplexity=30.0, \n",
        "                early_exaggeration=12.0, \n",
        "                learning_rate=200.0, \n",
        "                n_iter=1000, \n",
        "                n_iter_without_progress=300, \n",
        "                min_grad_norm=1e-07, \n",
        "                metric='euclidean', \n",
        "                init='random', \n",
        "                verbose=0, \n",
        "                random_state=None, \n",
        "                method='barnes_hut', \n",
        "                angle=0.5, \n",
        "                n_jobs=None)\n",
        "\n",
        "red_d_tsne = TSNE(n_components=2, \n",
        "                perplexity=30.0, \n",
        "                early_exaggeration=12.0, \n",
        "                learning_rate=200.0, \n",
        "                n_iter=1000, \n",
        "                n_iter_without_progress=300, \n",
        "                min_grad_norm=1e-07, \n",
        "                metric='euclidean', \n",
        "                init='random', \n",
        "                verbose=0, \n",
        "                random_state=None, \n",
        "                method='barnes_hut', \n",
        "                angle=0.5, \n",
        "                n_jobs=None)\n",
        "\n",
        "z_pca = red_pca.fit_transform(X)\n",
        "zd_pca = red_d_pca.fit_transform(Xd)\n",
        "z_tsne = red_tsne.fit_transform(X)\n",
        "zd_tsne = red_d_tsne.fit_transform(Xd)\n",
        "\n",
        "plt.figure()\n",
        "plt.scatter(z_pca[:,0],z_pca[:,1], c=y[:,0])\n",
        "plt.colorbar()\n",
        "plt.title('PCA acumulados')\n",
        "\n",
        "plt.figure()\n",
        "plt.scatter(zd_pca[:,0],zd_pca[:,1], c=yd[:,0])\n",
        "plt.colorbar()\n",
        "plt.title('PCA días')\n",
        "\n",
        "plt.figure()\n",
        "plt.scatter(z_tsne[:,0],z_tsne[:,1], c=y[:,0])\n",
        "plt.colorbar()\n",
        "plt.title('TSNE acumulados')\n",
        "\n",
        "plt.figure()\n",
        "plt.scatter(zd_tsne[:,0],zd_tsne[:,1], c=yd[:,0])\n",
        "plt.colorbar()\n",
        "plt.title('TSNE días')\n",
        "\n",
        "plt.show()"
      ],
      "execution_count": 21,
      "outputs": [
        {
          "output_type": "display_data",
          "data": {
            "image/png": "[encoded data removed]",
            "text/plain": [
              "<Figure size 432x288 with 2 Axes>"
            ]
          },
          "metadata": {
            "tags": [],
            "needs_background": "light"
          }
        },
        {
          "output_type": "display_data",
          "data": {
            "image/png": "[encoded data removed]",
            "text/plain": [
              "<Figure size 432x288 with 2 Axes>"
            ]
          },
          "metadata": {
            "tags": [],
            "needs_background": "light"
          }
        },
        {
          "output_type": "display_data",
          "data": {
            "image/png": "[encoded data removed]",
            "text/plain": [
              "<Figure size 432x288 with 2 Axes>"
            ]
          },
          "metadata": {
            "tags": [],
            "needs_background": "light"
          }
        },
        {
          "output_type": "display_data",
          "data": {
            "image/png": "[encoded data removed]",
            "text/plain": [
              "<Figure size 432x288 with 2 Axes>"
            ]
          },
          "metadata": {
            "tags": [],
            "needs_background": "light"
          }
        }
      ]
    },
    {
      "cell_type": "markdown",
      "metadata": {
        "id": "u1VV8VKfG1-F",
        "colab_type": "text"
      },
      "source": [
        "Se pretende ajustar los hiperparámetros de algunos regresores lineales:\n",
        "\n",
        "* Regresor lineal (mínimos cuadrados o máxima verisimilitud)\n",
        "* Regresor Ridge (Regresión bayesiana al ruido isotrópico o regularización de tikonov)\n",
        "* Regresor Lasso (en vez de norma 2, pone norma 1)\n",
        "* ElasticNet (mezcla de las 2 normas)\n",
        "* Kernel Ridge (aplica kernel trick)\n",
        "\n",
        "Esto con el fin de poder realizar predicciones en el ventaneo anteriormente hecho, y así, estimar el valor del día siguiente de cada una de las ventanas.\n",
        "\n",
        "A continuación se profundiza en el funcionamiento de cada uno de estos regresores.\n",
        "\n",
        "### Regresor Lineal\n",
        "\n",
        "Este regresor ajusta un modelo con con coeficientes $\\theta = ({\\theta}_{1}, ...,{\\theta}_{p})$ para minimizar la suma residual de cuadrados entre los objetvos observados en el dataset, y los objetivos predichos por la aproximación lineal.\n",
        "\n",
        "La salida estimada de este regresor se da por \n",
        "\n",
        "\\begin{equation}\n",
        "    \\hat{y} = F(X|\\theta) = X\\theta = {\\theta}_{0}+{\\theta}_{1}{x}_{1}+{\\theta}_{2}{x}_{2}+...+{\\theta}_{n}{x}_{n}\n",
        "\\end{equation}\n",
        "\n",
        "\n",
        "* $\\hat{y}$ es el valor predicho\n",
        "* n es el número de características\n",
        "* ${x}_{i}$ es el valor de la iésima característica\n",
        "* ${\\theta}_{j}$ es el parámetro jotaésimo del modelo (incluyendo el término de sesgo ${\\theta}_{0}$ y los pesos de las características ${\\theta}_{1},{\\theta}_{2},...,{\\theta}_{n}$)\n",
        "\n",
        "Para entrenar el modelo, se debe tener una medida que describa que tan bien se está ajustando el conjunto de entrenamiento. Para esto se usa el Root Mean Square Error (RMSE), y se busca un $\\theta$ que minimice este valor, para eso, solo se debe minimizar el Mean Square Error (MSE)\n",
        "\n",
        "\\begin{equation}\n",
        "    MSE(X,{h}_{\\theta})=MSE(\\theta)=\\frac{1}{m}\\sum_{i=1}^{m}(\\theta^{T}x^{(i)}-y^{(i)})^{2}\n",
        "\\end{equation}\n",
        "\n",
        "El error se calcula como ${{\\left\\|y - \\hat{y}\\right\\|}_{2}}^{2}$\n",
        "\n",
        "La función de coste se da como ${\\theta}^{*} = \\underset{min}{arg} l(y, f(X(\\theta))$\n",
        "\n",
        "Para encontrar el $\\theta$ que minimice la función de costo, se utilizan mínimos cuadrados, si el modelo lineal tiene un error, se usa la máxima verosimilitud, ambos dan como resultado $\\theta = {({X}^{T}X)}^{-1}{X}^{T}y$\n",
        "\n",
        "### Regresor Ridge\n",
        "\n",
        "Es una versión regularizada de la regresión lineal, se añade un término de regularización a la función de costo igual a $\\alpha \\sum_{i=1}^{n} {\\theta}_{i}^{2}$ que también se puede ver como $\\alpha{{\\left\\|\\theta\\right\\|}_{2}}^{2}$ también llamado regularización Tikonov. Esto fuerza al modelo, no solo a ajustar los datos, sino a mantener los pesos del modelo lo más pequeños que sea posible. El término de regularización debe agregarse solamente a la función de costo durante el entrenamiento. Una vez que el modelo está entrenado, se quiere evaluar el rendimiento del modelos usando la medida de rendimiento no-regularizada.\n",
        "\n",
        "El hiperparámetro $\\alpha$ controla cuánto se quiere regularizar el modelo. Si $\\alpha=0$, entonces la Ridge Regression es simplemente una Linear Regression. SI $\\alpha$ es muy grande, todos los pesos estarán muy cerca de cero y el resultado es una línea delgada que va a través de la media de los datos.\n",
        "\n",
        "\\begin{equation}\n",
        "        {\\theta}^{*}=MSE(\\theta) + \\alpha\\frac{1}{2}\\sum_{i=1}^{n} {\\theta}_{i}^{2} = \\underset{min}{arg} {{\\left\\|y - \\hat{y}\\right\\|}_{2}}^{2} + \\alpha{{\\left\\|\\theta\\right\\|}_{2}}^{2}\n",
        "\\end{equation}\n",
        "\n",
        "El término de bias ${\\theta}_{0}$ no está regularizado (la suma comienza en i=1, y no en 0). Si se define **w** como el vector de pesos de características (${\\theta}_{1}$ a ${\\theta}_{n}$), entonces el término de regularización es igual a $\\frac{1}{2}{{(\\parallel w\\parallel_2)}}^{2}$, donde ${\\parallel w \\parallel}_{2}$ representa la norma ${\\ell}_{2}$ del vector de peso.\n",
        "\n",
        "**Es importante escalar los datos antes de utilizar Ride Regression**\n",
        "\n",
        "### Regresor Lasso\n",
        "\n",
        "Añade un término de regularización a la función de coste, pero usa la norma ${\\ell}_{1}$ del vector de pesos en lugar del cuadrado de la norma ${\\ell}_{2}$\n",
        "\n",
        "\\begin{equation}\n",
        "    {\\theta}^{*} = MSE(\\theta) + \\alpha \\sum_{i=1}^{n} \\mid {\\theta}_{i} \\mid = \\underset{min}{arg} {{\\left\\|y - \\hat{y}\\right\\|}_{2}}^{2} + \\alpha{\\left\\|\\theta\\right\\|}_{1}\n",
        "\\end{equation}\n",
        "\n",
        "### Elastic Net\n",
        "\n",
        "Es un punto medio entre Ride Regression y Lasso Regression. El término de regularización es una mezcla de los términos de cada una de las regresiones y puede controlarse el radio de mezcla r.\n",
        "\n",
        "\\begin{equation}\n",
        "    {\\theta}^{*} = MSE(\\theta) + r\\alpha \\sum_{i=1}^{n} \\mid {\\theta}_{i} \\mid + \\frac{1-r}{2}\\alpha \\sum_{i=1}^{n} {\\theta_i}^{2} = \\underset{min}{arg} {{\\left\\|y - \\hat{y}\\right\\|}_{2}}^{2} + r\\alpha{\\left\\|\\theta\\right\\|}_{1} + \\frac{1-r}{2}\\alpha{{\\left\\|\\theta\\right\\|}_{2}}^{2}\n",
        "\\end{equation}\n",
        "\n",
        "### Kernel Ridge\n",
        "\n",
        "Esta regresión combina **Ridge Regression** con el kernel trick\n",
        "\n",
        "* Kernel Trick: permite operar en un espacio de características multidimensional sin calcular las coordenadas de los datos en ese espacio, sino simplemente calculando los productos internos entre las imágenes de todos los pares de datos en el espacio de características. $k(x,{x}^{\\prime}) = \\langle\\varphi(x),\\varphi({x}^{\\prime})\\rangle = {\\varphi(x)}^{T} \\varphi({x}^{\\prime})$\n",
        "\n",
        "\n",
        "Por lo tanto, aprende una función lineal en el espacio inducida por el kernel respectivo y los datos. Para kernels no lineales, esto corresponde a una función no lineal en el espacio original.\n",
        "\n",
        "Como función de pérdida se usa el error al cuadrado."
      ]
    },
    {
      "cell_type": "markdown",
      "metadata": {
        "id": "_QmPhZVsG1-G",
        "colab_type": "text"
      },
      "source": [
        "# Contagios acumulados"
      ]
    },
    {
      "cell_type": "code",
      "metadata": {
        "id": "04o_h_FkG1-H",
        "colab_type": "code",
        "colab": {}
      },
      "source": [
        "steps = [\n",
        "    \n",
        "    [('scaler', StandardScaler()),\n",
        "    ('rep', PCA()),\n",
        "    ('reg', LinearRegression(fit_intercept = 'False'))],\n",
        "    \n",
        "    [('scaler', StandardScaler()),\n",
        "    ('rep', PCA()),\n",
        "    ('reg', LinearRegression())],\n",
        "    \n",
        "    [('scaler', StandardScaler()),\n",
        "    ('rep', PCA()),\n",
        "    ('reg', Ridge())],\n",
        "    \n",
        "    [('scaler', StandardScaler()),\n",
        "    ('rep', PCA()),\n",
        "    ('reg', Lasso())],\n",
        "    \n",
        "    [('scaler', StandardScaler()),\n",
        "    ('rep', PCA()),\n",
        "    ('reg', ElasticNet())],\n",
        "    \n",
        "    [('scaler', StandardScaler()),\n",
        "    ('rep', PCA()),\n",
        "    ('reg', KernelRidge(kernel = 'rbf'))],\n",
        "    \n",
        "    [('scaler', StandardScaler()),\n",
        "    ('rep', PCA()),\n",
        "    ('reg', KernelRidge(kernel = 'sigmoid'))],\n",
        "    \n",
        "    [('scaler', StandardScaler()),\n",
        "    ('rep', PCA()),\n",
        "    ('reg', KernelRidge(kernel = 'laplacian'))],\n",
        "    \n",
        "    \n",
        "    #Con este se demora el gridsearch (1875 fits)\n",
        "    [('scaler', StandardScaler()),\n",
        "    ('rep', tsne_map(n_components = 2,  \n",
        "                     perplexity = 30, \n",
        "                     n_neighbors = 3)),\n",
        "    ('reg', KernelRidge(kernel = 'sigmoid'))]\n",
        "    \n",
        "    \n",
        "]\n",
        "\n",
        "params = [\n",
        "    \n",
        "    {'rep__n_components': np.array([0.1, 0.2, 0.5, 0.7, 1]),\n",
        "    },\n",
        "    \n",
        "    {'rep__n_components': np.array([0.1, 0.2, 0.5, 0.7, 1]),\n",
        "    },\n",
        "    \n",
        "    {'rep__n_components': np.array([0.1, 0.2, 0.5, 0.7, 1]),\n",
        "     'reg__alpha': np.linspace(0.1,1,10)     \n",
        "    },\n",
        "    \n",
        "    {'rep__n_components': np.array([0.1, 0.2, 0.5, 0.7, 1]),\n",
        "     'reg__alpha': np.linspace(0.1,1,5)\n",
        "    }, \n",
        "    \n",
        "    {'rep__n_components': np.array([0.1, 0.2, 0.5, 0.7, 1]),\n",
        "     'reg__alpha': np.linspace(0.1,1,5),\n",
        "     'reg__l1_ratio': np.linspace(0.1,1,5)\n",
        "    }, \n",
        "    \n",
        "    {'rep__n_components': np.array([0.1, 0.2, 0.5, 0.7, 1]),\n",
        "     'reg__alpha': np.linspace(0.1,1,5),\n",
        "     'reg__gamma': np.linspace(0.1,1,5),\n",
        "    },\n",
        "    \n",
        "    {'rep__n_components': np.array([0.1, 0.2, 0.5, 0.7, 1]),\n",
        "     'reg__alpha': np.linspace(0.1,1,5),\n",
        "     'reg__gamma': np.linspace(0.1,1,5),\n",
        "    },\n",
        "    \n",
        "    {'rep__n_components': np.array([0.1, 0.2, 0.5, 0.7, 1]),\n",
        "     'reg__alpha': np.linspace(0.1,1,5),\n",
        "     'reg__gamma': np.linspace(0.1,1,5),\n",
        "    }, \n",
        "    \n",
        "    #con este se demora el gridsearch (1875 fits) \n",
        "    {#'rep__n_components': np.array([0.1, 0.2, 0.5, 0.7, 1]), \n",
        "     'reg__alpha': np.linspace(0.1,1,5),\n",
        "     'reg__gamma': np.linspace(0.1,1,5),\n",
        "    }\n",
        "    \n",
        "]\n",
        "\n",
        "\n",
        "label_model = ['Linear', 'Linear fit', 'Ridge', 'Lasso', 'Elastic', \n",
        "               'Kernel rbf', 'Kernel sigmoid', 'Kernel laplacian']"
      ],
      "execution_count": 0,
      "outputs": []
    },
    {
      "cell_type": "markdown",
      "metadata": {
        "id": "LC-1Kss2G1-K",
        "colab_type": "text"
      },
      "source": [
        "Como son muy pocos datos, se debe hacer validación cruzada anidada"
      ]
    },
    {
      "cell_type": "code",
      "metadata": {
        "scrolled": true,
        "id": "4wNbhnVwG1-L",
        "colab_type": "code",
        "outputId": "83002e72-070f-4b6e-a646-f9886f58c520",
        "colab": {
          "base_uri": "https://localhost:8080/",
          "height": 1000
        }
      },
      "source": [
        "Niter = 10 #Número de particiones\n",
        "mae = np.zeros((Niter, len(steps))) #Error absoluto\n",
        "best_estimators = Niter*[len(steps)*[None]]\n",
        "best_hyperparams = Niter*[len(steps)*[None]]\n",
        "\n",
        "for j in range(Niter):\n",
        "    \n",
        "    print(\"Iteración %d/%d\" %(j+1, Niter))\n",
        "    Xtrain, Xtest, ytrain, ytest = train_test_split(\n",
        "        X,y,test_size=0.3) #Xtrain(70%) ytrain(30%)\n",
        "    \n",
        "    #Recorre los modelos\n",
        "    for r in range(len(steps)):\n",
        "        \n",
        "        grid_search = GridSearchCV(Pipeline(steps[r]), params[r],\n",
        "                cv=5, verbose=5, scoring='neg_mean_absolute_error', n_jobs=4)\n",
        "        \n",
        "        #Entrenando\n",
        "        grid_search.fit(Xtrain, ytrain)\n",
        "        \n",
        "        #Realizando predicción con el mejor modelo\n",
        "        ypred = grid_search.best_estimator_.predict(Xtest)\n",
        "        \n",
        "        #Guardando el mejor modelo\n",
        "        best_estimators[j][r] = grid_search.best_estimator_\n",
        "        \n",
        "        #Guardando los mejores hiperparámetros\n",
        "        best_hyperparams[j][r] = grid_search.best_params_\n",
        "        \n",
        "        #Guardando error\n",
        "        mae[j,r] = mean_absolute_error(ytest, ypred)\n",
        "        \n",
        "        print('it %d/%d-Modelo %d/%d'%(j+1,Niter,r+1,len(steps)))\n",
        "        print('mae:',mae[j,r])\n",
        "\n",
        "        savedata = {\n",
        "            'acc':mae,\n",
        "            'best_models':best_estimators,\n",
        "            'best_parameters':best_hyperparams,\n",
        "              } \n",
        "        dump(savedata,'covid19_1.joblib')"
      ],
      "execution_count": 23,
      "outputs": [
        {
          "output_type": "stream",
          "text": [
            "Iteración 1/10\n",
            "Fitting 5 folds for each of 5 candidates, totalling 25 fits\n"
          ],
          "name": "stdout"
        },
        {
          "output_type": "stream",
          "text": [
            "[Parallel(n_jobs=4)]: Using backend LokyBackend with 4 concurrent workers.\n",
            "[Parallel(n_jobs=4)]: Done  10 tasks      | elapsed:    1.7s\n",
            "[Parallel(n_jobs=4)]: Done  25 out of  25 | elapsed:    1.9s finished\n",
            "[Parallel(n_jobs=4)]: Using backend LokyBackend with 4 concurrent workers.\n"
          ],
          "name": "stderr"
        },
        {
          "output_type": "stream",
          "text": [
            "it 1/10-Modelo 1/9\n",
            "mae: 55.55495966261034\n",
            "Fitting 5 folds for each of 5 candidates, totalling 25 fits\n",
            "it 1/10-Modelo 2/9\n",
            "mae: 55.55495966261034\n",
            "Fitting 5 folds for each of 50 candidates, totalling 250 fits\n"
          ],
          "name": "stdout"
        },
        {
          "output_type": "stream",
          "text": [
            "[Parallel(n_jobs=4)]: Done  14 tasks      | elapsed:    0.1s\n",
            "[Parallel(n_jobs=4)]: Done  18 out of  25 | elapsed:    0.1s remaining:    0.0s\n",
            "[Parallel(n_jobs=4)]: Done  25 out of  25 | elapsed:    0.1s finished\n",
            "[Parallel(n_jobs=4)]: Using backend LokyBackend with 4 concurrent workers.\n",
            "[Parallel(n_jobs=4)]: Done  14 tasks      | elapsed:    0.1s\n",
            "[Parallel(n_jobs=4)]: Done 250 out of 250 | elapsed:    0.7s finished\n",
            "[Parallel(n_jobs=4)]: Using backend LokyBackend with 4 concurrent workers.\n",
            "[Parallel(n_jobs=4)]: Done  14 tasks      | elapsed:    0.1s\n"
          ],
          "name": "stderr"
        },
        {
          "output_type": "stream",
          "text": [
            "it 1/10-Modelo 3/9\n",
            "mae: 55.74852943091666\n",
            "Fitting 5 folds for each of 25 candidates, totalling 125 fits\n"
          ],
          "name": "stdout"
        },
        {
          "output_type": "stream",
          "text": [
            "[Parallel(n_jobs=4)]: Done 125 out of 125 | elapsed:    0.4s finished\n",
            "[Parallel(n_jobs=4)]: Using backend LokyBackend with 4 concurrent workers.\n",
            "[Parallel(n_jobs=4)]: Done  12 tasks      | elapsed:    0.1s\n"
          ],
          "name": "stderr"
        },
        {
          "output_type": "stream",
          "text": [
            "it 1/10-Modelo 4/9\n",
            "mae: 55.56418213530978\n",
            "Fitting 5 folds for each of 125 candidates, totalling 625 fits\n"
          ],
          "name": "stdout"
        },
        {
          "output_type": "stream",
          "text": [
            "[Parallel(n_jobs=4)]: Done 552 tasks      | elapsed:    1.6s\n",
            "[Parallel(n_jobs=4)]: Done 625 out of 625 | elapsed:    1.8s finished\n"
          ],
          "name": "stderr"
        },
        {
          "output_type": "stream",
          "text": [
            "it 1/10-Modelo 5/9\n",
            "mae: 55.56418213530978\n",
            "Fitting 5 folds for each of 125 candidates, totalling 625 fits\n"
          ],
          "name": "stdout"
        },
        {
          "output_type": "stream",
          "text": [
            "[Parallel(n_jobs=4)]: Using backend LokyBackend with 4 concurrent workers.\n",
            "[Parallel(n_jobs=4)]: Done  18 tasks      | elapsed:    0.1s\n",
            "[Parallel(n_jobs=4)]: Done 561 tasks      | elapsed:    1.9s\n",
            "[Parallel(n_jobs=4)]: Done 618 out of 625 | elapsed:    2.1s remaining:    0.0s\n",
            "[Parallel(n_jobs=4)]: Done 625 out of 625 | elapsed:    2.1s finished\n",
            "[Parallel(n_jobs=4)]: Using backend LokyBackend with 4 concurrent workers.\n",
            "[Parallel(n_jobs=4)]: Done  14 tasks      | elapsed:    0.1s\n"
          ],
          "name": "stderr"
        },
        {
          "output_type": "stream",
          "text": [
            "it 1/10-Modelo 6/9\n",
            "mae: 40.441902012933014\n",
            "Fitting 5 folds for each of 125 candidates, totalling 625 fits\n"
          ],
          "name": "stdout"
        },
        {
          "output_type": "stream",
          "text": [
            "[Parallel(n_jobs=4)]: Done 558 tasks      | elapsed:    2.2s\n",
            "[Parallel(n_jobs=4)]: Done 625 out of 625 | elapsed:    2.5s finished\n",
            "[Parallel(n_jobs=4)]: Using backend LokyBackend with 4 concurrent workers.\n",
            "[Parallel(n_jobs=4)]: Done  12 tasks      | elapsed:    0.1s\n"
          ],
          "name": "stderr"
        },
        {
          "output_type": "stream",
          "text": [
            "it 1/10-Modelo 7/9\n",
            "mae: 41.713250938528496\n",
            "Fitting 5 folds for each of 125 candidates, totalling 625 fits\n"
          ],
          "name": "stdout"
        },
        {
          "output_type": "stream",
          "text": [
            "[Parallel(n_jobs=4)]: Done 552 tasks      | elapsed:    1.8s\n",
            "[Parallel(n_jobs=4)]: Done 618 out of 625 | elapsed:    2.0s remaining:    0.0s\n",
            "[Parallel(n_jobs=4)]: Done 625 out of 625 | elapsed:    2.0s finished\n",
            "[Parallel(n_jobs=4)]: Using backend LokyBackend with 4 concurrent workers.\n"
          ],
          "name": "stderr"
        },
        {
          "output_type": "stream",
          "text": [
            "it 1/10-Modelo 8/9\n",
            "mae: 37.55930419529719\n",
            "Fitting 5 folds for each of 25 candidates, totalling 125 fits\n"
          ],
          "name": "stdout"
        },
        {
          "output_type": "stream",
          "text": [
            "[Parallel(n_jobs=4)]: Done  10 tasks      | elapsed:    3.2s\n",
            "[Parallel(n_jobs=4)]: Done  64 tasks      | elapsed:   16.6s\n",
            "[Parallel(n_jobs=4)]: Done 125 out of 125 | elapsed:   32.2s finished\n"
          ],
          "name": "stderr"
        },
        {
          "output_type": "stream",
          "text": [
            "it 1/10-Modelo 9/9\n",
            "mae: 20142.99984011477\n",
            "Iteración 2/10\n",
            "Fitting 5 folds for each of 5 candidates, totalling 25 fits\n",
            "it 2/10-Modelo 1/9\n",
            "mae: 65.40926402184543\n",
            "Fitting 5 folds for each of 5 candidates, totalling 25 fits\n"
          ],
          "name": "stdout"
        },
        {
          "output_type": "stream",
          "text": [
            "[Parallel(n_jobs=4)]: Using backend LokyBackend with 4 concurrent workers.\n",
            "[Parallel(n_jobs=4)]: Done  18 tasks      | elapsed:    0.1s\n",
            "[Parallel(n_jobs=4)]: Done  25 out of  25 | elapsed:    0.1s finished\n",
            "[Parallel(n_jobs=4)]: Using backend LokyBackend with 4 concurrent workers.\n",
            "[Parallel(n_jobs=4)]: Done  18 tasks      | elapsed:    0.1s\n",
            "[Parallel(n_jobs=4)]: Done  25 out of  25 | elapsed:    0.1s finished\n",
            "[Parallel(n_jobs=4)]: Using backend LokyBackend with 4 concurrent workers.\n",
            "[Parallel(n_jobs=4)]: Done  10 tasks      | elapsed:    0.1s\n"
          ],
          "name": "stderr"
        },
        {
          "output_type": "stream",
          "text": [
            "it 2/10-Modelo 2/9\n",
            "mae: 65.40926402184543\n",
            "Fitting 5 folds for each of 50 candidates, totalling 250 fits\n"
          ],
          "name": "stdout"
        },
        {
          "output_type": "stream",
          "text": [
            "[Parallel(n_jobs=4)]: Done 250 out of 250 | elapsed:    0.9s finished\n",
            "[Parallel(n_jobs=4)]: Using backend LokyBackend with 4 concurrent workers.\n",
            "[Parallel(n_jobs=4)]: Done  24 tasks      | elapsed:    0.1s\n"
          ],
          "name": "stderr"
        },
        {
          "output_type": "stream",
          "text": [
            "it 2/10-Modelo 3/9\n",
            "mae: 65.54654583940504\n",
            "Fitting 5 folds for each of 25 candidates, totalling 125 fits\n"
          ],
          "name": "stdout"
        },
        {
          "output_type": "stream",
          "text": [
            "[Parallel(n_jobs=4)]: Done 112 tasks      | elapsed:    0.5s\n",
            "[Parallel(n_jobs=4)]: Done 125 out of 125 | elapsed:    0.6s finished\n",
            "[Parallel(n_jobs=4)]: Using backend LokyBackend with 4 concurrent workers.\n",
            "[Parallel(n_jobs=4)]: Done  14 tasks      | elapsed:    0.1s\n"
          ],
          "name": "stderr"
        },
        {
          "output_type": "stream",
          "text": [
            "it 2/10-Modelo 4/9\n",
            "mae: 65.41735027968801\n",
            "Fitting 5 folds for each of 125 candidates, totalling 625 fits\n"
          ],
          "name": "stdout"
        },
        {
          "output_type": "stream",
          "text": [
            "[Parallel(n_jobs=4)]: Done 555 tasks      | elapsed:    1.7s\n",
            "[Parallel(n_jobs=4)]: Done 625 out of 625 | elapsed:    1.9s finished\n",
            "[Parallel(n_jobs=4)]: Using backend LokyBackend with 4 concurrent workers.\n"
          ],
          "name": "stderr"
        },
        {
          "output_type": "stream",
          "text": [
            "it 2/10-Modelo 5/9\n",
            "mae: 65.41735027968801\n",
            "Fitting 5 folds for each of 125 candidates, totalling 625 fits\n"
          ],
          "name": "stdout"
        },
        {
          "output_type": "stream",
          "text": [
            "[Parallel(n_jobs=4)]: Done  12 tasks      | elapsed:    0.1s\n",
            "[Parallel(n_jobs=4)]: Done 552 tasks      | elapsed:    1.9s\n",
            "[Parallel(n_jobs=4)]: Done 618 out of 625 | elapsed:    2.1s remaining:    0.0s\n",
            "[Parallel(n_jobs=4)]: Done 625 out of 625 | elapsed:    2.1s finished\n",
            "[Parallel(n_jobs=4)]: Using backend LokyBackend with 4 concurrent workers.\n",
            "[Parallel(n_jobs=4)]: Done  12 tasks      | elapsed:    0.1s\n"
          ],
          "name": "stderr"
        },
        {
          "output_type": "stream",
          "text": [
            "it 2/10-Modelo 6/9\n",
            "mae: 54.804368712880986\n",
            "Fitting 5 folds for each of 125 candidates, totalling 625 fits\n"
          ],
          "name": "stdout"
        },
        {
          "output_type": "stream",
          "text": [
            "[Parallel(n_jobs=4)]: Done 542 tasks      | elapsed:    2.2s\n",
            "[Parallel(n_jobs=4)]: Done 625 out of 625 | elapsed:    2.4s finished\n",
            "[Parallel(n_jobs=4)]: Using backend LokyBackend with 4 concurrent workers.\n",
            "[Parallel(n_jobs=4)]: Done  18 tasks      | elapsed:    0.1s\n"
          ],
          "name": "stderr"
        },
        {
          "output_type": "stream",
          "text": [
            "it 2/10-Modelo 7/9\n",
            "mae: 68.64741559278445\n",
            "Fitting 5 folds for each of 125 candidates, totalling 625 fits\n"
          ],
          "name": "stdout"
        },
        {
          "output_type": "stream",
          "text": [
            "[Parallel(n_jobs=4)]: Done 561 tasks      | elapsed:    1.8s\n",
            "[Parallel(n_jobs=4)]: Done 625 out of 625 | elapsed:    2.0s finished\n"
          ],
          "name": "stderr"
        },
        {
          "output_type": "stream",
          "text": [
            "it 2/10-Modelo 8/9\n",
            "mae: 46.62065473892084\n",
            "Fitting 5 folds for each of 25 candidates, totalling 125 fits\n"
          ],
          "name": "stdout"
        },
        {
          "output_type": "stream",
          "text": [
            "[Parallel(n_jobs=4)]: Using backend LokyBackend with 4 concurrent workers.\n",
            "[Parallel(n_jobs=4)]: Done  10 tasks      | elapsed:    3.1s\n",
            "[Parallel(n_jobs=4)]: Done  64 tasks      | elapsed:   16.5s\n",
            "[Parallel(n_jobs=4)]: Done 125 out of 125 | elapsed:   31.9s finished\n"
          ],
          "name": "stderr"
        },
        {
          "output_type": "stream",
          "text": [
            "it 2/10-Modelo 9/9\n",
            "mae: 232.30463081772936\n",
            "Iteración 3/10\n",
            "Fitting 5 folds for each of 5 candidates, totalling 25 fits\n",
            "it 3/10-Modelo 1/9\n",
            "mae: 69.32103637641087\n",
            "Fitting 5 folds for each of 5 candidates, totalling 25 fits\n"
          ],
          "name": "stdout"
        },
        {
          "output_type": "stream",
          "text": [
            "[Parallel(n_jobs=4)]: Using backend LokyBackend with 4 concurrent workers.\n",
            "[Parallel(n_jobs=4)]: Done  14 tasks      | elapsed:    0.1s\n",
            "[Parallel(n_jobs=4)]: Done  25 out of  25 | elapsed:    0.1s finished\n",
            "[Parallel(n_jobs=4)]: Using backend LokyBackend with 4 concurrent workers.\n",
            "[Parallel(n_jobs=4)]: Done  17 tasks      | elapsed:    0.1s\n",
            "[Parallel(n_jobs=4)]: Done  25 out of  25 | elapsed:    0.2s finished\n",
            "[Parallel(n_jobs=4)]: Using backend LokyBackend with 4 concurrent workers.\n",
            "[Parallel(n_jobs=4)]: Done  20 tasks      | elapsed:    0.1s\n"
          ],
          "name": "stderr"
        },
        {
          "output_type": "stream",
          "text": [
            "it 3/10-Modelo 2/9\n",
            "mae: 69.32103637641087\n",
            "Fitting 5 folds for each of 50 candidates, totalling 250 fits\n"
          ],
          "name": "stdout"
        },
        {
          "output_type": "stream",
          "text": [
            "[Parallel(n_jobs=4)]: Done 250 out of 250 | elapsed:    0.9s finished\n",
            "[Parallel(n_jobs=4)]: Using backend LokyBackend with 4 concurrent workers.\n",
            "[Parallel(n_jobs=4)]: Done  14 tasks      | elapsed:    0.1s\n"
          ],
          "name": "stderr"
        },
        {
          "output_type": "stream",
          "text": [
            "it 3/10-Modelo 3/9\n",
            "mae: 69.45186587699897\n",
            "Fitting 5 folds for each of 25 candidates, totalling 125 fits\n"
          ],
          "name": "stdout"
        },
        {
          "output_type": "stream",
          "text": [
            "[Parallel(n_jobs=4)]: Done 125 out of 125 | elapsed:    0.5s finished\n",
            "[Parallel(n_jobs=4)]: Using backend LokyBackend with 4 concurrent workers.\n",
            "[Parallel(n_jobs=4)]: Done  14 tasks      | elapsed:    0.1s\n"
          ],
          "name": "stderr"
        },
        {
          "output_type": "stream",
          "text": [
            "it 3/10-Modelo 4/9\n",
            "mae: 69.32827597570093\n",
            "Fitting 5 folds for each of 125 candidates, totalling 625 fits\n"
          ],
          "name": "stdout"
        },
        {
          "output_type": "stream",
          "text": [
            "[Parallel(n_jobs=4)]: Done 555 tasks      | elapsed:    1.9s\n",
            "[Parallel(n_jobs=4)]: Done 618 out of 625 | elapsed:    2.0s remaining:    0.0s\n",
            "[Parallel(n_jobs=4)]: Done 625 out of 625 | elapsed:    2.1s finished\n",
            "[Parallel(n_jobs=4)]: Using backend LokyBackend with 4 concurrent workers.\n"
          ],
          "name": "stderr"
        },
        {
          "output_type": "stream",
          "text": [
            "it 3/10-Modelo 5/9\n",
            "mae: 69.32827597570093\n",
            "Fitting 5 folds for each of 125 candidates, totalling 625 fits\n"
          ],
          "name": "stdout"
        },
        {
          "output_type": "stream",
          "text": [
            "[Parallel(n_jobs=4)]: Done  12 tasks      | elapsed:    0.1s\n",
            "[Parallel(n_jobs=4)]: Done 542 tasks      | elapsed:    1.9s\n",
            "[Parallel(n_jobs=4)]: Done 625 out of 625 | elapsed:    2.2s finished\n",
            "[Parallel(n_jobs=4)]: Using backend LokyBackend with 4 concurrent workers.\n",
            "[Parallel(n_jobs=4)]: Done  12 tasks      | elapsed:    0.1s\n"
          ],
          "name": "stderr"
        },
        {
          "output_type": "stream",
          "text": [
            "it 3/10-Modelo 6/9\n",
            "mae: 49.731651312601485\n",
            "Fitting 5 folds for each of 125 candidates, totalling 625 fits\n"
          ],
          "name": "stdout"
        },
        {
          "output_type": "stream",
          "text": [
            "[Parallel(n_jobs=4)]: Done 542 tasks      | elapsed:    2.2s\n",
            "[Parallel(n_jobs=4)]: Done 625 out of 625 | elapsed:    2.5s finished\n",
            "[Parallel(n_jobs=4)]: Using backend LokyBackend with 4 concurrent workers.\n",
            "[Parallel(n_jobs=4)]: Done  18 tasks      | elapsed:    0.1s\n"
          ],
          "name": "stderr"
        },
        {
          "output_type": "stream",
          "text": [
            "it 3/10-Modelo 7/9\n",
            "mae: 70.29619441144806\n",
            "Fitting 5 folds for each of 125 candidates, totalling 625 fits\n"
          ],
          "name": "stdout"
        },
        {
          "output_type": "stream",
          "text": [
            "[Parallel(n_jobs=4)]: Done 561 tasks      | elapsed:    1.8s\n",
            "[Parallel(n_jobs=4)]: Done 625 out of 625 | elapsed:    2.0s finished\n"
          ],
          "name": "stderr"
        },
        {
          "output_type": "stream",
          "text": [
            "it 3/10-Modelo 8/9\n",
            "mae: 41.67222224139742\n",
            "Fitting 5 folds for each of 25 candidates, totalling 125 fits\n"
          ],
          "name": "stdout"
        },
        {
          "output_type": "stream",
          "text": [
            "[Parallel(n_jobs=4)]: Using backend LokyBackend with 4 concurrent workers.\n",
            "[Parallel(n_jobs=4)]: Done  10 tasks      | elapsed:    3.1s\n",
            "[Parallel(n_jobs=4)]: Done  64 tasks      | elapsed:   16.8s\n",
            "[Parallel(n_jobs=4)]: Done 125 out of 125 | elapsed:   32.0s finished\n"
          ],
          "name": "stderr"
        },
        {
          "output_type": "stream",
          "text": [
            "it 3/10-Modelo 9/9\n",
            "mae: 37297.58588383122\n",
            "Iteración 4/10\n",
            "Fitting 5 folds for each of 5 candidates, totalling 25 fits\n",
            "it 4/10-Modelo 1/9\n",
            "mae: 83.85506099173712\n",
            "Fitting 5 folds for each of 5 candidates, totalling 25 fits\n"
          ],
          "name": "stdout"
        },
        {
          "output_type": "stream",
          "text": [
            "[Parallel(n_jobs=4)]: Using backend LokyBackend with 4 concurrent workers.\n",
            "[Parallel(n_jobs=4)]: Done  14 tasks      | elapsed:    0.1s\n",
            "[Parallel(n_jobs=4)]: Done  18 out of  25 | elapsed:    0.1s remaining:    0.0s\n",
            "[Parallel(n_jobs=4)]: Done  25 out of  25 | elapsed:    0.1s finished\n",
            "[Parallel(n_jobs=4)]: Using backend LokyBackend with 4 concurrent workers.\n",
            "[Parallel(n_jobs=4)]: Done  12 out of  25 | elapsed:    0.1s remaining:    0.1s\n",
            "[Parallel(n_jobs=4)]: Done  18 out of  25 | elapsed:    0.1s remaining:    0.0s\n",
            "[Parallel(n_jobs=4)]: Done  25 out of  25 | elapsed:    0.1s finished\n",
            "[Parallel(n_jobs=4)]: Using backend LokyBackend with 4 concurrent workers.\n",
            "[Parallel(n_jobs=4)]: Done  15 tasks      | elapsed:    0.1s\n"
          ],
          "name": "stderr"
        },
        {
          "output_type": "stream",
          "text": [
            "it 4/10-Modelo 2/9\n",
            "mae: 83.85506099173712\n",
            "Fitting 5 folds for each of 50 candidates, totalling 250 fits\n"
          ],
          "name": "stdout"
        },
        {
          "output_type": "stream",
          "text": [
            "[Parallel(n_jobs=4)]: Done 250 out of 250 | elapsed:    0.9s finished\n",
            "[Parallel(n_jobs=4)]: Using backend LokyBackend with 4 concurrent workers.\n",
            "[Parallel(n_jobs=4)]: Done  13 tasks      | elapsed:    0.1s\n"
          ],
          "name": "stderr"
        },
        {
          "output_type": "stream",
          "text": [
            "it 4/10-Modelo 3/9\n",
            "mae: 83.96956794118846\n",
            "Fitting 5 folds for each of 25 candidates, totalling 125 fits\n"
          ],
          "name": "stdout"
        },
        {
          "output_type": "stream",
          "text": [
            "[Parallel(n_jobs=4)]: Done 118 out of 125 | elapsed:    0.5s remaining:    0.0s\n",
            "[Parallel(n_jobs=4)]: Done 125 out of 125 | elapsed:    0.5s finished\n",
            "[Parallel(n_jobs=4)]: Using backend LokyBackend with 4 concurrent workers.\n",
            "[Parallel(n_jobs=4)]: Done  14 tasks      | elapsed:    0.1s\n"
          ],
          "name": "stderr"
        },
        {
          "output_type": "stream",
          "text": [
            "it 4/10-Modelo 4/9\n",
            "mae: 83.86154784242552\n",
            "Fitting 5 folds for each of 125 candidates, totalling 625 fits\n"
          ],
          "name": "stdout"
        },
        {
          "output_type": "stream",
          "text": [
            "[Parallel(n_jobs=4)]: Done 555 tasks      | elapsed:    1.8s\n",
            "[Parallel(n_jobs=4)]: Done 618 out of 625 | elapsed:    2.0s remaining:    0.0s\n",
            "[Parallel(n_jobs=4)]: Done 625 out of 625 | elapsed:    2.0s finished\n",
            "[Parallel(n_jobs=4)]: Using backend LokyBackend with 4 concurrent workers.\n",
            "[Parallel(n_jobs=4)]: Done  12 tasks      | elapsed:    0.1s\n"
          ],
          "name": "stderr"
        },
        {
          "output_type": "stream",
          "text": [
            "it 4/10-Modelo 5/9\n",
            "mae: 83.86154784242552\n",
            "Fitting 5 folds for each of 125 candidates, totalling 625 fits\n"
          ],
          "name": "stdout"
        },
        {
          "output_type": "stream",
          "text": [
            "[Parallel(n_jobs=4)]: Done 552 tasks      | elapsed:    1.8s\n",
            "[Parallel(n_jobs=4)]: Done 618 out of 625 | elapsed:    2.1s remaining:    0.0s\n",
            "[Parallel(n_jobs=4)]: Done 625 out of 625 | elapsed:    2.1s finished\n",
            "[Parallel(n_jobs=4)]: Using backend LokyBackend with 4 concurrent workers.\n",
            "[Parallel(n_jobs=4)]: Done  16 tasks      | elapsed:    0.1s\n"
          ],
          "name": "stderr"
        },
        {
          "output_type": "stream",
          "text": [
            "it 4/10-Modelo 6/9\n",
            "mae: 89.35838325787304\n",
            "Fitting 5 folds for each of 125 candidates, totalling 625 fits\n"
          ],
          "name": "stdout"
        },
        {
          "output_type": "stream",
          "text": [
            "[Parallel(n_jobs=4)]: Done 559 tasks      | elapsed:    2.2s\n",
            "[Parallel(n_jobs=4)]: Done 625 out of 625 | elapsed:    2.4s finished\n",
            "[Parallel(n_jobs=4)]: Using backend LokyBackend with 4 concurrent workers.\n",
            "[Parallel(n_jobs=4)]: Done  13 tasks      | elapsed:    0.1s\n"
          ],
          "name": "stderr"
        },
        {
          "output_type": "stream",
          "text": [
            "it 4/10-Modelo 7/9\n",
            "mae: 65.67523274301743\n",
            "Fitting 5 folds for each of 125 candidates, totalling 625 fits\n"
          ],
          "name": "stdout"
        },
        {
          "output_type": "stream",
          "text": [
            "[Parallel(n_jobs=4)]: Done 536 tasks      | elapsed:    1.9s\n",
            "[Parallel(n_jobs=4)]: Done 625 out of 625 | elapsed:    2.1s finished\n"
          ],
          "name": "stderr"
        },
        {
          "output_type": "stream",
          "text": [
            "it 4/10-Modelo 8/9\n",
            "mae: 62.26171495136231\n",
            "Fitting 5 folds for each of 25 candidates, totalling 125 fits\n"
          ],
          "name": "stdout"
        },
        {
          "output_type": "stream",
          "text": [
            "[Parallel(n_jobs=4)]: Using backend LokyBackend with 4 concurrent workers.\n",
            "[Parallel(n_jobs=4)]: Done  10 tasks      | elapsed:    3.2s\n",
            "[Parallel(n_jobs=4)]: Done  64 tasks      | elapsed:   16.5s\n",
            "[Parallel(n_jobs=4)]: Done 125 out of 125 | elapsed:   31.9s finished\n"
          ],
          "name": "stderr"
        },
        {
          "output_type": "stream",
          "text": [
            "it 4/10-Modelo 9/9\n",
            "mae: 1970.2329663528353\n",
            "Iteración 5/10\n",
            "Fitting 5 folds for each of 5 candidates, totalling 25 fits\n",
            "it 5/10-Modelo 1/9\n",
            "mae: 74.30280668474072\n",
            "Fitting 5 folds for each of 5 candidates, totalling 25 fits\n"
          ],
          "name": "stdout"
        },
        {
          "output_type": "stream",
          "text": [
            "[Parallel(n_jobs=4)]: Using backend LokyBackend with 4 concurrent workers.\n",
            "[Parallel(n_jobs=4)]: Done  14 tasks      | elapsed:    0.1s\n",
            "[Parallel(n_jobs=4)]: Done  25 out of  25 | elapsed:    0.2s finished\n",
            "[Parallel(n_jobs=4)]: Using backend LokyBackend with 4 concurrent workers.\n",
            "[Parallel(n_jobs=4)]: Done  17 tasks      | elapsed:    0.1s\n",
            "[Parallel(n_jobs=4)]: Done  25 out of  25 | elapsed:    0.1s finished\n",
            "[Parallel(n_jobs=4)]: Using backend LokyBackend with 4 concurrent workers.\n",
            "[Parallel(n_jobs=4)]: Done  28 tasks      | elapsed:    0.1s\n"
          ],
          "name": "stderr"
        },
        {
          "output_type": "stream",
          "text": [
            "it 5/10-Modelo 2/9\n",
            "mae: 74.30280668474072\n",
            "Fitting 5 folds for each of 50 candidates, totalling 250 fits\n"
          ],
          "name": "stdout"
        },
        {
          "output_type": "stream",
          "text": [
            "[Parallel(n_jobs=4)]: Done 250 out of 250 | elapsed:    0.9s finished\n",
            "[Parallel(n_jobs=4)]: Using backend LokyBackend with 4 concurrent workers.\n",
            "[Parallel(n_jobs=4)]: Done  11 tasks      | elapsed:    0.1s\n"
          ],
          "name": "stderr"
        },
        {
          "output_type": "stream",
          "text": [
            "it 5/10-Modelo 3/9\n",
            "mae: 74.55597705796085\n",
            "Fitting 5 folds for each of 25 candidates, totalling 125 fits\n"
          ],
          "name": "stdout"
        },
        {
          "output_type": "stream",
          "text": [
            "[Parallel(n_jobs=4)]: Done 118 out of 125 | elapsed:    0.5s remaining:    0.0s\n",
            "[Parallel(n_jobs=4)]: Done 125 out of 125 | elapsed:    0.5s finished\n",
            "[Parallel(n_jobs=4)]: Using backend LokyBackend with 4 concurrent workers.\n",
            "[Parallel(n_jobs=4)]: Done  13 tasks      | elapsed:    0.1s\n"
          ],
          "name": "stderr"
        },
        {
          "output_type": "stream",
          "text": [
            "it 5/10-Modelo 4/9\n",
            "mae: 74.31849381980271\n",
            "Fitting 5 folds for each of 125 candidates, totalling 625 fits\n"
          ],
          "name": "stdout"
        },
        {
          "output_type": "stream",
          "text": [
            "[Parallel(n_jobs=4)]: Done 536 tasks      | elapsed:    1.7s\n",
            "[Parallel(n_jobs=4)]: Done 625 out of 625 | elapsed:    1.8s finished\n",
            "[Parallel(n_jobs=4)]: Using backend LokyBackend with 4 concurrent workers.\n"
          ],
          "name": "stderr"
        },
        {
          "output_type": "stream",
          "text": [
            "it 5/10-Modelo 5/9\n",
            "mae: 74.31849381980271\n",
            "Fitting 5 folds for each of 125 candidates, totalling 625 fits\n"
          ],
          "name": "stdout"
        },
        {
          "output_type": "stream",
          "text": [
            "[Parallel(n_jobs=4)]: Done  12 tasks      | elapsed:    0.1s\n",
            "[Parallel(n_jobs=4)]: Done 527 tasks      | elapsed:    1.8s\n",
            "[Parallel(n_jobs=4)]: Done 625 out of 625 | elapsed:    2.0s finished\n",
            "[Parallel(n_jobs=4)]: Using backend LokyBackend with 4 concurrent workers.\n",
            "[Parallel(n_jobs=4)]: Done  12 tasks      | elapsed:    0.1s\n"
          ],
          "name": "stderr"
        },
        {
          "output_type": "stream",
          "text": [
            "it 5/10-Modelo 6/9\n",
            "mae: 67.37092935533757\n",
            "Fitting 5 folds for each of 125 candidates, totalling 625 fits\n"
          ],
          "name": "stdout"
        },
        {
          "output_type": "stream",
          "text": [
            "[Parallel(n_jobs=4)]: Done 552 tasks      | elapsed:    1.9s\n",
            "[Parallel(n_jobs=4)]: Done 618 out of 625 | elapsed:    2.1s remaining:    0.0s\n",
            "[Parallel(n_jobs=4)]: Done 625 out of 625 | elapsed:    2.1s finished\n",
            "[Parallel(n_jobs=4)]: Using backend LokyBackend with 4 concurrent workers.\n",
            "[Parallel(n_jobs=4)]: Done  12 tasks      | elapsed:    0.1s\n"
          ],
          "name": "stderr"
        },
        {
          "output_type": "stream",
          "text": [
            "it 5/10-Modelo 7/9\n",
            "mae: 61.834396098040635\n",
            "Fitting 5 folds for each of 125 candidates, totalling 625 fits\n"
          ],
          "name": "stdout"
        },
        {
          "output_type": "stream",
          "text": [
            "[Parallel(n_jobs=4)]: Done 542 tasks      | elapsed:    1.7s\n",
            "[Parallel(n_jobs=4)]: Done 625 out of 625 | elapsed:    1.9s finished\n",
            "[Parallel(n_jobs=4)]: Using backend LokyBackend with 4 concurrent workers.\n"
          ],
          "name": "stderr"
        },
        {
          "output_type": "stream",
          "text": [
            "it 5/10-Modelo 8/9\n",
            "mae: 70.39015262542968\n",
            "Fitting 5 folds for each of 25 candidates, totalling 125 fits\n"
          ],
          "name": "stdout"
        },
        {
          "output_type": "stream",
          "text": [
            "[Parallel(n_jobs=4)]: Done  10 tasks      | elapsed:    3.0s\n",
            "[Parallel(n_jobs=4)]: Done  64 tasks      | elapsed:   16.6s\n",
            "[Parallel(n_jobs=4)]: Done 125 out of 125 | elapsed:   32.5s finished\n"
          ],
          "name": "stderr"
        },
        {
          "output_type": "stream",
          "text": [
            "it 5/10-Modelo 9/9\n",
            "mae: 526.5181200541459\n",
            "Iteración 6/10\n",
            "Fitting 5 folds for each of 5 candidates, totalling 25 fits\n",
            "it 6/10-Modelo 1/9\n",
            "mae: 62.60821195744406\n",
            "Fitting 5 folds for each of 5 candidates, totalling 25 fits\n"
          ],
          "name": "stdout"
        },
        {
          "output_type": "stream",
          "text": [
            "[Parallel(n_jobs=4)]: Using backend LokyBackend with 4 concurrent workers.\n",
            "[Parallel(n_jobs=4)]: Done  12 tasks      | elapsed:    0.1s\n",
            "[Parallel(n_jobs=4)]: Done  18 out of  25 | elapsed:    0.1s remaining:    0.0s\n",
            "[Parallel(n_jobs=4)]: Done  25 out of  25 | elapsed:    0.1s finished\n",
            "[Parallel(n_jobs=4)]: Using backend LokyBackend with 4 concurrent workers.\n",
            "[Parallel(n_jobs=4)]: Done  14 tasks      | elapsed:    0.1s\n",
            "[Parallel(n_jobs=4)]: Done  25 out of  25 | elapsed:    0.1s finished\n",
            "[Parallel(n_jobs=4)]: Using backend LokyBackend with 4 concurrent workers.\n"
          ],
          "name": "stderr"
        },
        {
          "output_type": "stream",
          "text": [
            "it 6/10-Modelo 2/9\n",
            "mae: 62.60821195744406\n",
            "Fitting 5 folds for each of 50 candidates, totalling 250 fits\n"
          ],
          "name": "stdout"
        },
        {
          "output_type": "stream",
          "text": [
            "[Parallel(n_jobs=4)]: Done  20 tasks      | elapsed:    0.1s\n",
            "[Parallel(n_jobs=4)]: Done 250 out of 250 | elapsed:    0.9s finished\n",
            "[Parallel(n_jobs=4)]: Using backend LokyBackend with 4 concurrent workers.\n",
            "[Parallel(n_jobs=4)]: Done  14 tasks      | elapsed:    0.1s\n"
          ],
          "name": "stderr"
        },
        {
          "output_type": "stream",
          "text": [
            "it 6/10-Modelo 3/9\n",
            "mae: 62.954884883120215\n",
            "Fitting 5 folds for each of 25 candidates, totalling 125 fits\n"
          ],
          "name": "stdout"
        },
        {
          "output_type": "stream",
          "text": [
            "[Parallel(n_jobs=4)]: Done 125 out of 125 | elapsed:    0.6s finished\n",
            "[Parallel(n_jobs=4)]: Using backend LokyBackend with 4 concurrent workers.\n",
            "[Parallel(n_jobs=4)]: Done  18 tasks      | elapsed:    0.1s\n"
          ],
          "name": "stderr"
        },
        {
          "output_type": "stream",
          "text": [
            "it 6/10-Modelo 4/9\n",
            "mae: 62.63020105103393\n",
            "Fitting 5 folds for each of 125 candidates, totalling 625 fits\n"
          ],
          "name": "stdout"
        },
        {
          "output_type": "stream",
          "text": [
            "[Parallel(n_jobs=4)]: Done 561 tasks      | elapsed:    1.8s\n",
            "[Parallel(n_jobs=4)]: Done 618 out of 625 | elapsed:    2.0s remaining:    0.0s\n",
            "[Parallel(n_jobs=4)]: Done 625 out of 625 | elapsed:    2.0s finished\n",
            "[Parallel(n_jobs=4)]: Using backend LokyBackend with 4 concurrent workers.\n"
          ],
          "name": "stderr"
        },
        {
          "output_type": "stream",
          "text": [
            "it 6/10-Modelo 5/9\n",
            "mae: 62.63020105103393\n",
            "Fitting 5 folds for each of 125 candidates, totalling 625 fits\n"
          ],
          "name": "stdout"
        },
        {
          "output_type": "stream",
          "text": [
            "[Parallel(n_jobs=4)]: Done  12 tasks      | elapsed:    0.1s\n",
            "[Parallel(n_jobs=4)]: Done 552 tasks      | elapsed:    1.9s\n",
            "[Parallel(n_jobs=4)]: Done 618 out of 625 | elapsed:    2.1s remaining:    0.0s\n",
            "[Parallel(n_jobs=4)]: Done 625 out of 625 | elapsed:    2.1s finished\n"
          ],
          "name": "stderr"
        },
        {
          "output_type": "stream",
          "text": [
            "it 6/10-Modelo 6/9\n",
            "mae: 125.569576920687\n",
            "Fitting 5 folds for each of 125 candidates, totalling 625 fits\n"
          ],
          "name": "stdout"
        },
        {
          "output_type": "stream",
          "text": [
            "[Parallel(n_jobs=4)]: Using backend LokyBackend with 4 concurrent workers.\n",
            "[Parallel(n_jobs=4)]: Done  12 tasks      | elapsed:    0.1s\n",
            "[Parallel(n_jobs=4)]: Done 542 tasks      | elapsed:    2.0s\n",
            "[Parallel(n_jobs=4)]: Done 625 out of 625 | elapsed:    2.3s finished\n",
            "[Parallel(n_jobs=4)]: Using backend LokyBackend with 4 concurrent workers.\n",
            "[Parallel(n_jobs=4)]: Done  14 tasks      | elapsed:    0.2s\n"
          ],
          "name": "stderr"
        },
        {
          "output_type": "stream",
          "text": [
            "it 6/10-Modelo 7/9\n",
            "mae: 61.64562325862386\n",
            "Fitting 5 folds for each of 125 candidates, totalling 625 fits\n"
          ],
          "name": "stdout"
        },
        {
          "output_type": "stream",
          "text": [
            "[Parallel(n_jobs=4)]: Done 555 tasks      | elapsed:    1.9s\n",
            "[Parallel(n_jobs=4)]: Done 618 out of 625 | elapsed:    2.1s remaining:    0.0s\n",
            "[Parallel(n_jobs=4)]: Done 625 out of 625 | elapsed:    2.1s finished\n"
          ],
          "name": "stderr"
        },
        {
          "output_type": "stream",
          "text": [
            "it 6/10-Modelo 8/9\n",
            "mae: 98.42073986629791\n",
            "Fitting 5 folds for each of 25 candidates, totalling 125 fits\n"
          ],
          "name": "stdout"
        },
        {
          "output_type": "stream",
          "text": [
            "[Parallel(n_jobs=4)]: Using backend LokyBackend with 4 concurrent workers.\n",
            "[Parallel(n_jobs=4)]: Done  10 tasks      | elapsed:    3.1s\n",
            "[Parallel(n_jobs=4)]: Done  64 tasks      | elapsed:   16.8s\n",
            "[Parallel(n_jobs=4)]: Done 125 out of 125 | elapsed:   31.8s finished\n"
          ],
          "name": "stderr"
        },
        {
          "output_type": "stream",
          "text": [
            "it 6/10-Modelo 9/9\n",
            "mae: 1356.4314896185074\n",
            "Iteración 7/10\n",
            "Fitting 5 folds for each of 5 candidates, totalling 25 fits\n",
            "it 7/10-Modelo 1/9\n",
            "mae: 79.65232766056863\n",
            "Fitting 5 folds for each of 5 candidates, totalling 25 fits\n"
          ],
          "name": "stdout"
        },
        {
          "output_type": "stream",
          "text": [
            "[Parallel(n_jobs=4)]: Using backend LokyBackend with 4 concurrent workers.\n",
            "[Parallel(n_jobs=4)]: Done  12 tasks      | elapsed:    0.1s\n",
            "[Parallel(n_jobs=4)]: Done  18 out of  25 | elapsed:    0.1s remaining:    0.0s\n",
            "[Parallel(n_jobs=4)]: Done  25 out of  25 | elapsed:    0.1s finished\n",
            "[Parallel(n_jobs=4)]: Using backend LokyBackend with 4 concurrent workers.\n",
            "[Parallel(n_jobs=4)]: Done  13 tasks      | elapsed:    0.1s\n",
            "[Parallel(n_jobs=4)]: Done  18 out of  25 | elapsed:    0.1s remaining:    0.0s\n",
            "[Parallel(n_jobs=4)]: Done  25 out of  25 | elapsed:    0.1s finished\n",
            "[Parallel(n_jobs=4)]: Using backend LokyBackend with 4 concurrent workers.\n"
          ],
          "name": "stderr"
        },
        {
          "output_type": "stream",
          "text": [
            "it 7/10-Modelo 2/9\n",
            "mae: 79.65232766056863\n",
            "Fitting 5 folds for each of 50 candidates, totalling 250 fits\n"
          ],
          "name": "stdout"
        },
        {
          "output_type": "stream",
          "text": [
            "[Parallel(n_jobs=4)]: Done  28 tasks      | elapsed:    0.2s\n",
            "[Parallel(n_jobs=4)]: Done 250 out of 250 | elapsed:    0.9s finished\n",
            "[Parallel(n_jobs=4)]: Using backend LokyBackend with 4 concurrent workers.\n",
            "[Parallel(n_jobs=4)]: Done  14 tasks      | elapsed:    0.1s\n"
          ],
          "name": "stderr"
        },
        {
          "output_type": "stream",
          "text": [
            "it 7/10-Modelo 3/9\n",
            "mae: 79.71808431257867\n",
            "Fitting 5 folds for each of 25 candidates, totalling 125 fits\n"
          ],
          "name": "stdout"
        },
        {
          "output_type": "stream",
          "text": [
            "[Parallel(n_jobs=4)]: Done 125 out of 125 | elapsed:    0.4s finished\n",
            "[Parallel(n_jobs=4)]: Using backend LokyBackend with 4 concurrent workers.\n",
            "[Parallel(n_jobs=4)]: Done  11 tasks      | elapsed:    0.1s\n"
          ],
          "name": "stderr"
        },
        {
          "output_type": "stream",
          "text": [
            "it 7/10-Modelo 4/9\n",
            "mae: 79.65600037812948\n",
            "Fitting 5 folds for each of 125 candidates, totalling 625 fits\n"
          ],
          "name": "stdout"
        },
        {
          "output_type": "stream",
          "text": [
            "[Parallel(n_jobs=4)]: Done 536 tasks      | elapsed:    1.7s\n",
            "[Parallel(n_jobs=4)]: Done 625 out of 625 | elapsed:    1.9s finished\n",
            "[Parallel(n_jobs=4)]: Using backend LokyBackend with 4 concurrent workers.\n"
          ],
          "name": "stderr"
        },
        {
          "output_type": "stream",
          "text": [
            "it 7/10-Modelo 5/9\n",
            "mae: 79.65600037812948\n",
            "Fitting 5 folds for each of 125 candidates, totalling 625 fits\n"
          ],
          "name": "stdout"
        },
        {
          "output_type": "stream",
          "text": [
            "[Parallel(n_jobs=4)]: Done  12 tasks      | elapsed:    0.1s\n",
            "[Parallel(n_jobs=4)]: Done 523 tasks      | elapsed:    1.9s\n",
            "[Parallel(n_jobs=4)]: Done 625 out of 625 | elapsed:    2.1s finished\n",
            "[Parallel(n_jobs=4)]: Using backend LokyBackend with 4 concurrent workers.\n",
            "[Parallel(n_jobs=4)]: Done  12 tasks      | elapsed:    0.1s\n"
          ],
          "name": "stderr"
        },
        {
          "output_type": "stream",
          "text": [
            "it 7/10-Modelo 6/9\n",
            "mae: 73.79421588772666\n",
            "Fitting 5 folds for each of 125 candidates, totalling 625 fits\n"
          ],
          "name": "stdout"
        },
        {
          "output_type": "stream",
          "text": [
            "[Parallel(n_jobs=4)]: Done 552 tasks      | elapsed:    2.1s\n",
            "[Parallel(n_jobs=4)]: Done 618 out of 625 | elapsed:    2.4s remaining:    0.0s\n",
            "[Parallel(n_jobs=4)]: Done 625 out of 625 | elapsed:    2.4s finished\n",
            "[Parallel(n_jobs=4)]: Using backend LokyBackend with 4 concurrent workers.\n",
            "[Parallel(n_jobs=4)]: Done  13 tasks      | elapsed:    0.1s\n"
          ],
          "name": "stderr"
        },
        {
          "output_type": "stream",
          "text": [
            "it 7/10-Modelo 7/9\n",
            "mae: 94.76379225852104\n",
            "Fitting 5 folds for each of 125 candidates, totalling 625 fits\n"
          ],
          "name": "stdout"
        },
        {
          "output_type": "stream",
          "text": [
            "[Parallel(n_jobs=4)]: Done 538 tasks      | elapsed:    1.9s\n",
            "[Parallel(n_jobs=4)]: Done 618 out of 625 | elapsed:    2.1s remaining:    0.0s\n",
            "[Parallel(n_jobs=4)]: Done 625 out of 625 | elapsed:    2.1s finished\n",
            "[Parallel(n_jobs=4)]: Using backend LokyBackend with 4 concurrent workers.\n"
          ],
          "name": "stderr"
        },
        {
          "output_type": "stream",
          "text": [
            "it 7/10-Modelo 8/9\n",
            "mae: 54.98150800312744\n",
            "Fitting 5 folds for each of 25 candidates, totalling 125 fits\n"
          ],
          "name": "stdout"
        },
        {
          "output_type": "stream",
          "text": [
            "[Parallel(n_jobs=4)]: Done  10 tasks      | elapsed:    3.1s\n",
            "[Parallel(n_jobs=4)]: Done  64 tasks      | elapsed:   16.8s\n",
            "[Parallel(n_jobs=4)]: Done 125 out of 125 | elapsed:   32.4s finished\n"
          ],
          "name": "stderr"
        },
        {
          "output_type": "stream",
          "text": [
            "it 7/10-Modelo 9/9\n",
            "mae: 4291.686854367379\n",
            "Iteración 8/10\n",
            "Fitting 5 folds for each of 5 candidates, totalling 25 fits\n",
            "it 8/10-Modelo 1/9\n",
            "mae: 75.79280403094693\n",
            "Fitting 5 folds for each of 5 candidates, totalling 25 fits\n"
          ],
          "name": "stdout"
        },
        {
          "output_type": "stream",
          "text": [
            "[Parallel(n_jobs=4)]: Using backend LokyBackend with 4 concurrent workers.\n",
            "[Parallel(n_jobs=4)]: Done  12 tasks      | elapsed:    0.1s\n",
            "[Parallel(n_jobs=4)]: Done  18 out of  25 | elapsed:    0.1s remaining:    0.0s\n",
            "[Parallel(n_jobs=4)]: Done  25 out of  25 | elapsed:    0.1s finished\n",
            "[Parallel(n_jobs=4)]: Using backend LokyBackend with 4 concurrent workers.\n",
            "[Parallel(n_jobs=4)]: Done  17 tasks      | elapsed:    0.1s\n",
            "[Parallel(n_jobs=4)]: Done  25 out of  25 | elapsed:    0.1s finished\n",
            "[Parallel(n_jobs=4)]: Using backend LokyBackend with 4 concurrent workers.\n"
          ],
          "name": "stderr"
        },
        {
          "output_type": "stream",
          "text": [
            "it 8/10-Modelo 2/9\n",
            "mae: 75.79280403094693\n",
            "Fitting 5 folds for each of 50 candidates, totalling 250 fits\n"
          ],
          "name": "stdout"
        },
        {
          "output_type": "stream",
          "text": [
            "[Parallel(n_jobs=4)]: Done  20 tasks      | elapsed:    0.1s\n",
            "[Parallel(n_jobs=4)]: Done 250 out of 250 | elapsed:    0.9s finished\n",
            "[Parallel(n_jobs=4)]: Using backend LokyBackend with 4 concurrent workers.\n",
            "[Parallel(n_jobs=4)]: Done  13 tasks      | elapsed:    0.1s\n"
          ],
          "name": "stderr"
        },
        {
          "output_type": "stream",
          "text": [
            "it 8/10-Modelo 3/9\n",
            "mae: 75.86135188433207\n",
            "Fitting 5 folds for each of 25 candidates, totalling 125 fits\n"
          ],
          "name": "stdout"
        },
        {
          "output_type": "stream",
          "text": [
            "[Parallel(n_jobs=4)]: Done 118 out of 125 | elapsed:    0.5s remaining:    0.0s\n",
            "[Parallel(n_jobs=4)]: Done 125 out of 125 | elapsed:    0.5s finished\n",
            "[Parallel(n_jobs=4)]: Using backend LokyBackend with 4 concurrent workers.\n",
            "[Parallel(n_jobs=4)]: Done  10 tasks      | elapsed:    0.1s\n"
          ],
          "name": "stderr"
        },
        {
          "output_type": "stream",
          "text": [
            "it 8/10-Modelo 4/9\n",
            "mae: 75.79674343384067\n",
            "Fitting 5 folds for each of 125 candidates, totalling 625 fits\n"
          ],
          "name": "stdout"
        },
        {
          "output_type": "stream",
          "text": [
            "[Parallel(n_jobs=4)]: Done 504 tasks      | elapsed:    1.7s\n",
            "[Parallel(n_jobs=4)]: Done 625 out of 625 | elapsed:    1.9s finished\n",
            "[Parallel(n_jobs=4)]: Using backend LokyBackend with 4 concurrent workers.\n",
            "[Parallel(n_jobs=4)]: Done  12 tasks      | elapsed:    0.1s\n"
          ],
          "name": "stderr"
        },
        {
          "output_type": "stream",
          "text": [
            "it 8/10-Modelo 5/9\n",
            "mae: 75.79674343384067\n",
            "Fitting 5 folds for each of 125 candidates, totalling 625 fits\n"
          ],
          "name": "stdout"
        },
        {
          "output_type": "stream",
          "text": [
            "[Parallel(n_jobs=4)]: Done 552 tasks      | elapsed:    1.8s\n",
            "[Parallel(n_jobs=4)]: Done 618 out of 625 | elapsed:    2.0s remaining:    0.0s\n",
            "[Parallel(n_jobs=4)]: Done 625 out of 625 | elapsed:    2.1s finished\n",
            "[Parallel(n_jobs=4)]: Using backend LokyBackend with 4 concurrent workers.\n",
            "[Parallel(n_jobs=4)]: Done  12 tasks      | elapsed:    0.1s\n"
          ],
          "name": "stderr"
        },
        {
          "output_type": "stream",
          "text": [
            "it 8/10-Modelo 6/9\n",
            "mae: 90.08722151648735\n",
            "Fitting 5 folds for each of 125 candidates, totalling 625 fits\n"
          ],
          "name": "stdout"
        },
        {
          "output_type": "stream",
          "text": [
            "[Parallel(n_jobs=4)]: Done 557 tasks      | elapsed:    2.1s\n",
            "[Parallel(n_jobs=4)]: Done 625 out of 625 | elapsed:    2.4s finished\n",
            "[Parallel(n_jobs=4)]: Using backend LokyBackend with 4 concurrent workers.\n",
            "[Parallel(n_jobs=4)]: Done  14 tasks      | elapsed:    0.1s\n"
          ],
          "name": "stderr"
        },
        {
          "output_type": "stream",
          "text": [
            "it 8/10-Modelo 7/9\n",
            "mae: 60.16619224111662\n",
            "Fitting 5 folds for each of 125 candidates, totalling 625 fits\n"
          ],
          "name": "stdout"
        },
        {
          "output_type": "stream",
          "text": [
            "[Parallel(n_jobs=4)]: Done 555 tasks      | elapsed:    1.8s\n",
            "[Parallel(n_jobs=4)]: Done 618 out of 625 | elapsed:    2.0s remaining:    0.0s\n",
            "[Parallel(n_jobs=4)]: Done 625 out of 625 | elapsed:    2.0s finished\n",
            "[Parallel(n_jobs=4)]: Using backend LokyBackend with 4 concurrent workers.\n"
          ],
          "name": "stderr"
        },
        {
          "output_type": "stream",
          "text": [
            "it 8/10-Modelo 8/9\n",
            "mae: 58.93572060411423\n",
            "Fitting 5 folds for each of 25 candidates, totalling 125 fits\n"
          ],
          "name": "stdout"
        },
        {
          "output_type": "stream",
          "text": [
            "[Parallel(n_jobs=4)]: Done  10 tasks      | elapsed:    3.0s\n",
            "[Parallel(n_jobs=4)]: Done  64 tasks      | elapsed:   16.7s\n",
            "[Parallel(n_jobs=4)]: Done 125 out of 125 | elapsed:   32.1s finished\n"
          ],
          "name": "stderr"
        },
        {
          "output_type": "stream",
          "text": [
            "it 8/10-Modelo 9/9\n",
            "mae: 1846.9658371549167\n",
            "Iteración 9/10\n",
            "Fitting 5 folds for each of 5 candidates, totalling 25 fits\n",
            "it 9/10-Modelo 1/9\n",
            "mae: 74.76851181401274\n",
            "Fitting 5 folds for each of 5 candidates, totalling 25 fits\n"
          ],
          "name": "stdout"
        },
        {
          "output_type": "stream",
          "text": [
            "[Parallel(n_jobs=4)]: Using backend LokyBackend with 4 concurrent workers.\n",
            "[Parallel(n_jobs=4)]: Done  14 tasks      | elapsed:    0.1s\n",
            "[Parallel(n_jobs=4)]: Done  18 out of  25 | elapsed:    0.1s remaining:    0.0s\n",
            "[Parallel(n_jobs=4)]: Done  25 out of  25 | elapsed:    0.1s finished\n",
            "[Parallel(n_jobs=4)]: Using backend LokyBackend with 4 concurrent workers.\n",
            "[Parallel(n_jobs=4)]: Done  12 tasks      | elapsed:    0.1s\n",
            "[Parallel(n_jobs=4)]: Done  18 out of  25 | elapsed:    0.1s remaining:    0.0s\n",
            "[Parallel(n_jobs=4)]: Done  25 out of  25 | elapsed:    0.1s finished\n",
            "[Parallel(n_jobs=4)]: Using backend LokyBackend with 4 concurrent workers.\n"
          ],
          "name": "stderr"
        },
        {
          "output_type": "stream",
          "text": [
            "it 9/10-Modelo 2/9\n",
            "mae: 74.76851181401274\n",
            "Fitting 5 folds for each of 50 candidates, totalling 250 fits\n"
          ],
          "name": "stdout"
        },
        {
          "output_type": "stream",
          "text": [
            "[Parallel(n_jobs=4)]: Done  24 tasks      | elapsed:    0.2s\n",
            "[Parallel(n_jobs=4)]: Done 250 out of 250 | elapsed:    0.9s finished\n",
            "[Parallel(n_jobs=4)]: Using backend LokyBackend with 4 concurrent workers.\n",
            "[Parallel(n_jobs=4)]: Done  12 tasks      | elapsed:    0.1s\n"
          ],
          "name": "stderr"
        },
        {
          "output_type": "stream",
          "text": [
            "it 9/10-Modelo 3/9\n",
            "mae: 74.83662895575617\n",
            "Fitting 5 folds for each of 25 candidates, totalling 125 fits\n"
          ],
          "name": "stdout"
        },
        {
          "output_type": "stream",
          "text": [
            "[Parallel(n_jobs=4)]: Done 125 out of 125 | elapsed:    0.5s finished\n",
            "[Parallel(n_jobs=4)]: Using backend LokyBackend with 4 concurrent workers.\n",
            "[Parallel(n_jobs=4)]: Done  12 tasks      | elapsed:    0.1s\n"
          ],
          "name": "stderr"
        },
        {
          "output_type": "stream",
          "text": [
            "it 9/10-Modelo 4/9\n",
            "mae: 74.77272360512822\n",
            "Fitting 5 folds for each of 125 candidates, totalling 625 fits\n"
          ],
          "name": "stdout"
        },
        {
          "output_type": "stream",
          "text": [
            "[Parallel(n_jobs=4)]: Done 557 tasks      | elapsed:    1.8s\n",
            "[Parallel(n_jobs=4)]: Done 625 out of 625 | elapsed:    2.1s finished\n",
            "[Parallel(n_jobs=4)]: Using backend LokyBackend with 4 concurrent workers.\n",
            "[Parallel(n_jobs=4)]: Done  12 tasks      | elapsed:    0.1s\n"
          ],
          "name": "stderr"
        },
        {
          "output_type": "stream",
          "text": [
            "it 9/10-Modelo 5/9\n",
            "mae: 74.77272360512822\n",
            "Fitting 5 folds for each of 125 candidates, totalling 625 fits\n"
          ],
          "name": "stdout"
        },
        {
          "output_type": "stream",
          "text": [
            "[Parallel(n_jobs=4)]: Done 552 tasks      | elapsed:    1.8s\n",
            "[Parallel(n_jobs=4)]: Done 625 out of 625 | elapsed:    2.0s finished\n",
            "[Parallel(n_jobs=4)]: Using backend LokyBackend with 4 concurrent workers.\n",
            "[Parallel(n_jobs=4)]: Done  12 tasks      | elapsed:    0.1s\n"
          ],
          "name": "stderr"
        },
        {
          "output_type": "stream",
          "text": [
            "it 9/10-Modelo 6/9\n",
            "mae: 104.04586785459432\n",
            "Fitting 5 folds for each of 125 candidates, totalling 625 fits\n"
          ],
          "name": "stdout"
        },
        {
          "output_type": "stream",
          "text": [
            "[Parallel(n_jobs=4)]: Done 552 tasks      | elapsed:    2.0s\n",
            "[Parallel(n_jobs=4)]: Done 625 out of 625 | elapsed:    2.2s finished\n",
            "[Parallel(n_jobs=4)]: Using backend LokyBackend with 4 concurrent workers.\n",
            "[Parallel(n_jobs=4)]: Done  12 tasks      | elapsed:    0.1s\n"
          ],
          "name": "stderr"
        },
        {
          "output_type": "stream",
          "text": [
            "it 9/10-Modelo 7/9\n",
            "mae: 96.31516646793371\n",
            "Fitting 5 folds for each of 125 candidates, totalling 625 fits\n"
          ],
          "name": "stdout"
        },
        {
          "output_type": "stream",
          "text": [
            "[Parallel(n_jobs=4)]: Done 527 tasks      | elapsed:    1.9s\n",
            "[Parallel(n_jobs=4)]: Done 625 out of 625 | elapsed:    2.1s finished\n",
            "[Parallel(n_jobs=4)]: Using backend LokyBackend with 4 concurrent workers.\n"
          ],
          "name": "stderr"
        },
        {
          "output_type": "stream",
          "text": [
            "it 9/10-Modelo 8/9\n",
            "mae: 62.29369366349499\n",
            "Fitting 5 folds for each of 25 candidates, totalling 125 fits\n"
          ],
          "name": "stdout"
        },
        {
          "output_type": "stream",
          "text": [
            "[Parallel(n_jobs=4)]: Done  10 tasks      | elapsed:    3.1s\n",
            "[Parallel(n_jobs=4)]: Done  64 tasks      | elapsed:   16.6s\n",
            "[Parallel(n_jobs=4)]: Done 125 out of 125 | elapsed:   32.2s finished\n"
          ],
          "name": "stderr"
        },
        {
          "output_type": "stream",
          "text": [
            "it 9/10-Modelo 9/9\n",
            "mae: 42616.99188129304\n",
            "Iteración 10/10\n",
            "Fitting 5 folds for each of 5 candidates, totalling 25 fits\n",
            "it 10/10-Modelo 1/9\n",
            "mae: 52.77628565011261\n",
            "Fitting 5 folds for each of 5 candidates, totalling 25 fits\n"
          ],
          "name": "stdout"
        },
        {
          "output_type": "stream",
          "text": [
            "[Parallel(n_jobs=4)]: Using backend LokyBackend with 4 concurrent workers.\n",
            "[Parallel(n_jobs=4)]: Done  12 tasks      | elapsed:    0.1s\n",
            "[Parallel(n_jobs=4)]: Done  18 out of  25 | elapsed:    0.1s remaining:    0.0s\n",
            "[Parallel(n_jobs=4)]: Done  25 out of  25 | elapsed:    0.1s finished\n",
            "[Parallel(n_jobs=4)]: Using backend LokyBackend with 4 concurrent workers.\n",
            "[Parallel(n_jobs=4)]: Done  16 tasks      | elapsed:    0.1s\n",
            "[Parallel(n_jobs=4)]: Done  18 out of  25 | elapsed:    0.1s remaining:    0.1s\n",
            "[Parallel(n_jobs=4)]: Done  25 out of  25 | elapsed:    0.2s finished\n",
            "[Parallel(n_jobs=4)]: Using backend LokyBackend with 4 concurrent workers.\n",
            "[Parallel(n_jobs=4)]: Done  20 tasks      | elapsed:    0.1s\n"
          ],
          "name": "stderr"
        },
        {
          "output_type": "stream",
          "text": [
            "it 10/10-Modelo 2/9\n",
            "mae: 52.77628565011261\n",
            "Fitting 5 folds for each of 50 candidates, totalling 250 fits\n"
          ],
          "name": "stdout"
        },
        {
          "output_type": "stream",
          "text": [
            "[Parallel(n_jobs=4)]: Done 250 out of 250 | elapsed:    0.9s finished\n",
            "[Parallel(n_jobs=4)]: Using backend LokyBackend with 4 concurrent workers.\n",
            "[Parallel(n_jobs=4)]: Done  14 tasks      | elapsed:    0.1s\n"
          ],
          "name": "stderr"
        },
        {
          "output_type": "stream",
          "text": [
            "it 10/10-Modelo 3/9\n",
            "mae: 52.81455344885652\n",
            "Fitting 5 folds for each of 25 candidates, totalling 125 fits\n"
          ],
          "name": "stdout"
        },
        {
          "output_type": "stream",
          "text": [
            "[Parallel(n_jobs=4)]: Done 125 out of 125 | elapsed:    0.5s finished\n",
            "[Parallel(n_jobs=4)]: Using backend LokyBackend with 4 concurrent workers.\n",
            "[Parallel(n_jobs=4)]: Done  12 tasks      | elapsed:    0.1s\n"
          ],
          "name": "stderr"
        },
        {
          "output_type": "stream",
          "text": [
            "it 10/10-Modelo 4/9\n",
            "mae: 52.77859199146669\n",
            "Fitting 5 folds for each of 125 candidates, totalling 625 fits\n"
          ],
          "name": "stdout"
        },
        {
          "output_type": "stream",
          "text": [
            "[Parallel(n_jobs=4)]: Done 552 tasks      | elapsed:    1.8s\n",
            "[Parallel(n_jobs=4)]: Done 618 out of 625 | elapsed:    2.0s remaining:    0.0s\n",
            "[Parallel(n_jobs=4)]: Done 625 out of 625 | elapsed:    2.0s finished\n",
            "[Parallel(n_jobs=4)]: Using backend LokyBackend with 4 concurrent workers.\n"
          ],
          "name": "stderr"
        },
        {
          "output_type": "stream",
          "text": [
            "it 10/10-Modelo 5/9\n",
            "mae: 52.77859199146669\n",
            "Fitting 5 folds for each of 125 candidates, totalling 625 fits\n"
          ],
          "name": "stdout"
        },
        {
          "output_type": "stream",
          "text": [
            "[Parallel(n_jobs=4)]: Done  12 tasks      | elapsed:    0.1s\n",
            "[Parallel(n_jobs=4)]: Done 552 tasks      | elapsed:    1.8s\n",
            "[Parallel(n_jobs=4)]: Done 625 out of 625 | elapsed:    2.1s finished\n",
            "[Parallel(n_jobs=4)]: Using backend LokyBackend with 4 concurrent workers.\n",
            "[Parallel(n_jobs=4)]: Done  12 tasks      | elapsed:    0.1s\n"
          ],
          "name": "stderr"
        },
        {
          "output_type": "stream",
          "text": [
            "it 10/10-Modelo 6/9\n",
            "mae: 107.45658125425565\n",
            "Fitting 5 folds for each of 125 candidates, totalling 625 fits\n"
          ],
          "name": "stdout"
        },
        {
          "output_type": "stream",
          "text": [
            "[Parallel(n_jobs=4)]: Done 552 tasks      | elapsed:    2.1s\n",
            "[Parallel(n_jobs=4)]: Done 625 out of 625 | elapsed:    2.3s finished\n",
            "[Parallel(n_jobs=4)]: Using backend LokyBackend with 4 concurrent workers.\n",
            "[Parallel(n_jobs=4)]: Done  18 tasks      | elapsed:    0.1s\n"
          ],
          "name": "stderr"
        },
        {
          "output_type": "stream",
          "text": [
            "it 10/10-Modelo 7/9\n",
            "mae: 68.86008548630225\n",
            "Fitting 5 folds for each of 125 candidates, totalling 625 fits\n"
          ],
          "name": "stdout"
        },
        {
          "output_type": "stream",
          "text": [
            "[Parallel(n_jobs=4)]: Done 561 tasks      | elapsed:    1.9s\n",
            "[Parallel(n_jobs=4)]: Done 618 out of 625 | elapsed:    2.1s remaining:    0.0s\n",
            "[Parallel(n_jobs=4)]: Done 625 out of 625 | elapsed:    2.1s finished\n"
          ],
          "name": "stderr"
        },
        {
          "output_type": "stream",
          "text": [
            "it 10/10-Modelo 8/9\n",
            "mae: 79.85065911364957\n",
            "Fitting 5 folds for each of 25 candidates, totalling 125 fits\n"
          ],
          "name": "stdout"
        },
        {
          "output_type": "stream",
          "text": [
            "[Parallel(n_jobs=4)]: Using backend LokyBackend with 4 concurrent workers.\n",
            "[Parallel(n_jobs=4)]: Done  10 tasks      | elapsed:    3.1s\n",
            "[Parallel(n_jobs=4)]: Done  64 tasks      | elapsed:   16.6s\n",
            "[Parallel(n_jobs=4)]: Done 125 out of 125 | elapsed:   32.1s finished\n"
          ],
          "name": "stderr"
        },
        {
          "output_type": "stream",
          "text": [
            "it 10/10-Modelo 9/9\n",
            "mae: 2128.7715292918556\n"
          ],
          "name": "stdout"
        }
      ]
    },
    {
      "cell_type": "code",
      "metadata": {
        "scrolled": true,
        "id": "e5Djv8FPG1-O",
        "colab_type": "code",
        "outputId": "8a02db0e-8182-415a-d76e-4e555aa6c745",
        "colab": {
          "base_uri": "https://localhost:8080/",
          "height": 887
        }
      },
      "source": [
        "plt.figure(figsize=(14,6))\n",
        "plt.boxplot(mae)\n",
        "plt.xticks(ticks=np.arange(len(steps))+1,\n",
        "                      labels=label_model)\n",
        "plt.ylabel('mae -- Contagios')\n",
        "plt.show()\n",
        "mae"
      ],
      "execution_count": 24,
      "outputs": [
        {
          "output_type": "display_data",
          "data": {
            "image/png": "[encoded data removed]",
            "text/plain": [
              "<Figure size 1008x432 with 1 Axes>"
            ]
          },
          "metadata": {
            "tags": [],
            "needs_background": "light"
          }
        },
        {
          "output_type": "execute_result",
          "data": {
            "text/plain": [
              "array([[5.55549597e+01, 5.55549597e+01, 5.57485294e+01, 5.55641821e+01,\n",
              "        5.55641821e+01, 4.04419020e+01, 4.17132509e+01, 3.75593042e+01,\n",
              "        2.01429998e+04],\n",
              "       [6.54092640e+01, 6.54092640e+01, 6.55465458e+01, 6.54173503e+01,\n",
              "        6.54173503e+01, 5.48043687e+01, 6.86474156e+01, 4.66206547e+01,\n",
              "        2.32304631e+02],\n",
              "       [6.93210364e+01, 6.93210364e+01, 6.94518659e+01, 6.93282760e+01,\n",
              "        6.93282760e+01, 4.97316513e+01, 7.02961944e+01, 4.16722222e+01,\n",
              "        3.72975859e+04],\n",
              "       [8.38550610e+01, 8.38550610e+01, 8.39695679e+01, 8.38615478e+01,\n",
              "        8.38615478e+01, 8.93583833e+01, 6.56752327e+01, 6.22617150e+01,\n",
              "        1.97023297e+03],\n",
              "       [7.43028067e+01, 7.43028067e+01, 7.45559771e+01, 7.43184938e+01,\n",
              "        7.43184938e+01, 6.73709294e+01, 6.18343961e+01, 7.03901526e+01,\n",
              "        5.26518120e+02],\n",
              "       [6.26082120e+01, 6.26082120e+01, 6.29548849e+01, 6.26302011e+01,\n",
              "        6.26302011e+01, 1.25569577e+02, 6.16456233e+01, 9.84207399e+01,\n",
              "        1.35643149e+03],\n",
              "       [7.96523277e+01, 7.96523277e+01, 7.97180843e+01, 7.96560004e+01,\n",
              "        7.96560004e+01, 7.37942159e+01, 9.47637923e+01, 5.49815080e+01,\n",
              "        4.29168685e+03],\n",
              "       [7.57928040e+01, 7.57928040e+01, 7.58613519e+01, 7.57967434e+01,\n",
              "        7.57967434e+01, 9.00872215e+01, 6.01661922e+01, 5.89357206e+01,\n",
              "        1.84696584e+03],\n",
              "       [7.47685118e+01, 7.47685118e+01, 7.48366290e+01, 7.47727236e+01,\n",
              "        7.47727236e+01, 1.04045868e+02, 9.63151665e+01, 6.22936937e+01,\n",
              "        4.26169919e+04],\n",
              "       [5.27762857e+01, 5.27762857e+01, 5.28145534e+01, 5.27785920e+01,\n",
              "        5.27785920e+01, 1.07456581e+02, 6.88600855e+01, 7.98506591e+01,\n",
              "        2.12877153e+03]])"
            ]
          },
          "metadata": {
            "tags": []
          },
          "execution_count": 24
        }
      ]
    },
    {
      "cell_type": "code",
      "metadata": {
        "scrolled": true,
        "id": "6kO5hIOPG1-R",
        "colab_type": "code",
        "outputId": "e55a1696-8fbe-4452-a3af-28c728ae1717",
        "colab": {
          "base_uri": "https://localhost:8080/",
          "height": 1000
        }
      },
      "source": [
        "modelo = [2, 3, 4, 6] #Linear, Lasso, Elastic Net, Kernel Ridge Sigmoide PCA\n",
        "\n",
        "def mode_hyperpar(modelo):    \n",
        "\n",
        "    nh = len(best_hyperparams[0][modelo])\n",
        "    hyperpar = np.zeros((Niter, nh))\n",
        "\n",
        "    for i in range(Niter):\n",
        "        for j in range(nh):\n",
        "            hyperpar[i,j] = best_hyperparams[i][modelo].get(list(best_hyperparams[i][modelo].keys())[j])\n",
        "\n",
        "    plt.boxplot(hyperpar)\n",
        "    plt.xticks(ticks=np.arange(nh)+1,labels=list(best_hyperparams[0][modelo].keys()))\n",
        "    plt.title('Best_hyperparameters ' + label_model[modelo])\n",
        "    plt.grid()\n",
        "    plt.show()\n",
        "    \n",
        "    mode_hyper = mode(hyperpar,axis=0)[0][0]\n",
        "    print(\"Modes= \", mode_hyper)\n",
        "    \n",
        "    return hyperpar, mode_hyper, nh\n",
        "\n",
        "hyperpar_0, mode_hyper_0, nh_0 = mode_hyperpar(modelo[0])\n",
        "hyperpar_1, mode_hyper_1, nh_1 = mode_hyperpar(modelo[1])\n",
        "hyperpar_2, mode_hyper_2, nh_2 = mode_hyperpar(modelo[2])\n",
        "hyperpar_3, mode_hyper_3, nh_3 = mode_hyperpar(modelo[3])"
      ],
      "execution_count": 36,
      "outputs": [
        {
          "output_type": "display_data",
          "data": {
            "image/png": "[encoded data removed]",
            "text/plain": [
              "<Figure size 432x288 with 1 Axes>"
            ]
          },
          "metadata": {
            "tags": [],
            "needs_background": "light"
          }
        },
        {
          "output_type": "stream",
          "text": [
            "Modes=  [0.1 0.1]\n"
          ],
          "name": "stdout"
        },
        {
          "output_type": "display_data",
          "data": {
            "image/png": "[encoded data removed]",
            "text/plain": [
              "<Figure size 432x288 with 1 Axes>"
            ]
          },
          "metadata": {
            "tags": [],
            "needs_background": "light"
          }
        },
        {
          "output_type": "stream",
          "text": [
            "Modes=  [0.1 0.1]\n"
          ],
          "name": "stdout"
        },
        {
          "output_type": "display_data",
          "data": {
            "image/png": "[encoded data removed]",
            "text/plain": [
              "<Figure size 432x288 with 1 Axes>"
            ]
          },
          "metadata": {
            "tags": [],
            "needs_background": "light"
          }
        },
        {
          "output_type": "stream",
          "text": [
            "Modes=  [0.1 1.  0.1]\n"
          ],
          "name": "stdout"
        },
        {
          "output_type": "display_data",
          "data": {
            "image/png": "[encoded data removed]",
            "text/plain": [
              "<Figure size 432x288 with 1 Axes>"
            ]
          },
          "metadata": {
            "tags": [],
            "needs_background": "light"
          }
        },
        {
          "output_type": "stream",
          "text": [
            "Modes=  [0.1 0.1 0.1]\n"
          ],
          "name": "stdout"
        }
      ]
    },
    {
      "cell_type": "code",
      "metadata": {
        "id": "ZoudKutOG1-U",
        "colab_type": "code",
        "outputId": "1885c4ab-a2a7-4a0d-e6ce-9f7f149e793f",
        "colab": {
          "base_uri": "https://localhost:8080/",
          "height": 204
        }
      },
      "source": [
        "def train_model(modelo, nh, mode_hyper):\n",
        "    model_f = Pipeline(steps[modelo])\n",
        "    paramsf = params[modelo]\n",
        "    hyperl = list(params[modelo].keys())\n",
        "\n",
        "    for j in range(nh):\n",
        "        paramsf[hyperl[j]] = mode_hyper[j]\n",
        "\n",
        "    return model_f, paramsf\n",
        "\n",
        "\n",
        "\n",
        "linear, params_0 = train_model(modelo[0], nh_0, mode_hyper_0)\n",
        "linear.set_params(**params_0)\n",
        "linear.fit(X,y)\n",
        "\n",
        "lasso, params_1 = train_model(modelo[1], nh_1, mode_hyper_1)\n",
        "lasso.set_params(**params_1)\n",
        "lasso.fit(X,y)\n",
        "\n",
        "elastic, params_2 = train_model(modelo[2], nh_2, mode_hyper_2)\n",
        "elastic.set_params(**params_2)\n",
        "elastic.fit(X,y)\n",
        "\n",
        "kernel, params_3 = train_model(modelo[3], nh_3, mode_hyper_3)\n",
        "kernel.set_params(**params_3)\n",
        "kernel.fit(X,y)\n",
        "\n"
      ],
      "execution_count": 38,
      "outputs": [
        {
          "output_type": "execute_result",
          "data": {
            "text/plain": [
              "Pipeline(memory=None,\n",
              "         steps=[('scaler',\n",
              "                 StandardScaler(copy=True, with_mean=True, with_std=True)),\n",
              "                ('rep',\n",
              "                 PCA(copy=True, iterated_power='auto', n_components=0.1,\n",
              "                     random_state=None, svd_solver='auto', tol=0.0,\n",
              "                     whiten=False)),\n",
              "                ('reg',\n",
              "                 KernelRidge(alpha=0.1, coef0=1, degree=3, gamma=0.1,\n",
              "                             kernel='sigmoid', kernel_params=None))],\n",
              "         verbose=False)"
            ]
          },
          "metadata": {
            "tags": []
          },
          "execution_count": 38
        }
      ]
    },
    {
      "cell_type": "code",
      "metadata": {
        "id": "xSTTElbcG1-Y",
        "colab_type": "code",
        "outputId": "3e4e0bb4-73eb-4aa3-8433-6b8ac3634baf",
        "colab": {
          "base_uri": "https://localhost:8080/",
          "height": 102
        }
      },
      "source": [
        "y_pred_lin = linear.predict(serie[len(serie)-w:].reshape(1,-1))[0]\n",
        "y_pred_las = lasso.predict(serie[len(serie)-w:].reshape(1,-1))[0]\n",
        "y_pred_ela = elastic.predict(serie[len(serie)-w:].reshape(1,-1))[0]\n",
        "y_pred_ker = kernel.predict(serie[len(serie)-w:].reshape(1,-1))[0]\n",
        "\n",
        "print('Predicción contagiados covid19 ',date.today(),\n",
        "      '\\nLinear:',y_pred_lin,\n",
        "      '\\nLasso:',y_pred_las,\n",
        "      '\\nElastic Net: ', y_pred_ela,\n",
        "      '\\nKernel Ridge (sigmoid): ', y_pred_ker)"
      ],
      "execution_count": 40,
      "outputs": [
        {
          "output_type": "stream",
          "text": [
            "Predicción contagiados covid19  2020-05-10 \n",
            "Linear: [11086.09212428] \n",
            "Lasso: 11087.7295825719 \n",
            "Elastic Net:  9667.447729186148 \n",
            "Kernel Ridge (sigmoid):  [11461.42235453]\n"
          ],
          "name": "stdout"
        }
      ]
    },
    {
      "cell_type": "code",
      "metadata": {
        "id": "5UpOkdmCG1-b",
        "colab_type": "code",
        "outputId": "e8fe3cda-b75a-4efc-c658-0b67aac8bd71",
        "colab": {
          "base_uri": "https://localhost:8080/",
          "height": 273
        }
      },
      "source": [
        "plt.plot(y)\n",
        "plt.plot(len(y),y_pred_lin, '*', label='Linear')\n",
        "plt.plot(len(y),y_pred_las, '*', label='Lasso')\n",
        "plt.plot(len(y),y_pred_ela, '*', label='Elastic net')\n",
        "plt.plot(len(y),y_pred_ker, '*', label='Kernel ridge')\n",
        "\n",
        "plt.legend(loc='best')\n",
        "plt.show()"
      ],
      "execution_count": 41,
      "outputs": [
        {
          "output_type": "display_data",
          "data": {
            "image/png": "[encoded data removed]",
            "text/plain": [
              "<Figure size 432x288 with 1 Axes>"
            ]
          },
          "metadata": {
            "tags": [],
            "needs_background": "light"
          }
        }
      ]
    },
    {
      "cell_type": "code",
      "metadata": {
        "id": "u2N08QKLG1-e",
        "colab_type": "code",
        "outputId": "469a8c20-2443-408b-a06b-83e7d8e7b7e8",
        "colab": {
          "base_uri": "https://localhost:8080/",
          "height": 268
        }
      },
      "source": [
        "plt.plot(y, label='objetivo')\n",
        "plt.plot(linear.predict(X), label='Linear')\n",
        "plt.plot(lasso.predict(X), label='Lasso')\n",
        "plt.plot(elastic.predict(X), label='ElasticNet')\n",
        "plt.plot(kernel.predict(X), label='KernelRidge')\n",
        "\n",
        "\n",
        "plt.legend(loc='best')\n",
        "plt.show()"
      ],
      "execution_count": 43,
      "outputs": [
        {
          "output_type": "display_data",
          "data": {
            "image/png": "[encoded data removed]",
            "text/plain": [
              "<Figure size 432x288 with 1 Axes>"
            ]
          },
          "metadata": {
            "tags": [],
            "needs_background": "light"
          }
        }
      ]
    },
    {
      "cell_type": "markdown",
      "metadata": {
        "id": "ZAWaHp6hG1-h",
        "colab_type": "text"
      },
      "source": [
        "# Contagios por días"
      ]
    },
    {
      "cell_type": "code",
      "metadata": {
        "id": "ep349JLf-lpY",
        "colab_type": "code",
        "colab": {}
      },
      "source": [
        "steps = [\n",
        "    \n",
        "    [('scaler', StandardScaler()),\n",
        "    ('rep', PCA()),\n",
        "    ('reg', LinearRegression(fit_intercept = 'False'))],\n",
        "    \n",
        "    [('scaler', StandardScaler()),\n",
        "    ('rep', PCA()),\n",
        "    ('reg', LinearRegression())],\n",
        "    \n",
        "    [('scaler', StandardScaler()),\n",
        "    ('rep', PCA()),\n",
        "    ('reg', Ridge())],\n",
        "    \n",
        "    [('scaler', StandardScaler()),\n",
        "    ('rep', PCA()),\n",
        "    ('reg', Lasso())],\n",
        "    \n",
        "    [('scaler', StandardScaler()),\n",
        "    ('rep', PCA()),\n",
        "    ('reg', ElasticNet())],\n",
        "    \n",
        "    [('scaler', StandardScaler()),\n",
        "    ('rep', PCA()),\n",
        "    ('reg', KernelRidge(kernel = 'rbf'))],\n",
        "    \n",
        "    [('scaler', StandardScaler()),\n",
        "    ('rep', PCA()),\n",
        "    ('reg', KernelRidge(kernel = 'sigmoid'))],\n",
        "    \n",
        "    [('scaler', StandardScaler()),\n",
        "    ('rep', PCA()),\n",
        "    ('reg', KernelRidge(kernel = 'laplacian'))],\n",
        "    \n",
        "    \n",
        "    #Con este se demora el gridsearch (1875 fits)\n",
        "    [('scaler', StandardScaler()),\n",
        "    ('rep', tsne_map(n_components = 2,  \n",
        "                     perplexity = 30, \n",
        "                     n_neighbors = 3)),\n",
        "    ('reg', KernelRidge(kernel = 'sigmoid'))]\n",
        "    \n",
        "    \n",
        "]\n",
        "\n",
        "params = [\n",
        "    \n",
        "    {'rep__n_components': np.array([0.1, 0.2, 0.5, 0.7, 1]),\n",
        "    },\n",
        "    \n",
        "    {'rep__n_components': np.array([0.1, 0.2, 0.5, 0.7, 1]),\n",
        "    },\n",
        "    \n",
        "    {'rep__n_components': np.array([0.1, 0.2, 0.5, 0.7, 1]),\n",
        "     'reg__alpha': np.linspace(0.1,1,10)     \n",
        "    },\n",
        "    \n",
        "    {'rep__n_components': np.array([0.1, 0.2, 0.5, 0.7, 1]),\n",
        "     'reg__alpha': np.linspace(0.1,1,5)\n",
        "    }, \n",
        "    \n",
        "    {'rep__n_components': np.array([0.1, 0.2, 0.5, 0.7, 1]),\n",
        "     'reg__alpha': np.linspace(0.1,1,5),\n",
        "     'reg__l1_ratio': np.linspace(0.1,1,5)\n",
        "    }, \n",
        "    \n",
        "    {'rep__n_components': np.array([0.1, 0.2, 0.5, 0.7, 1]),\n",
        "     'reg__alpha': np.linspace(0.1,1,5),\n",
        "     'reg__gamma': np.linspace(0.1,1,5),\n",
        "    },\n",
        "    \n",
        "    {'rep__n_components': np.array([0.1, 0.2, 0.5, 0.7, 1]),\n",
        "     'reg__alpha': np.linspace(0.1,1,5),\n",
        "     'reg__gamma': np.linspace(0.1,1,5),\n",
        "    },\n",
        "    \n",
        "    {'rep__n_components': np.array([0.1, 0.2, 0.5, 0.7, 1]),\n",
        "     'reg__alpha': np.linspace(0.1,1,5),\n",
        "     'reg__gamma': np.linspace(0.1,1,5),\n",
        "    }, \n",
        "    \n",
        "    #con este se demora el gridsearch (1875 fits) \n",
        "    {#'rep__n_components': np.array([0.1, 0.2, 0.5, 0.7, 1]), \n",
        "     'reg__alpha': np.linspace(0.1,1,5),\n",
        "     'reg__gamma': np.linspace(0.1,1,5),\n",
        "    }\n",
        "    \n",
        "]\n",
        "\n",
        "\n",
        "label_model = ['Linear', 'Linear fit', 'Ridge', 'Lasso', 'Elastic', \n",
        "               'Kernel rbf', 'Kernel sigmoid', 'Kernel laplacian']"
      ],
      "execution_count": 0,
      "outputs": []
    },
    {
      "cell_type": "code",
      "metadata": {
        "id": "tddmYKZFG1-h",
        "colab_type": "code",
        "outputId": "06f0b65a-d7d7-4cde-f229-fa5ed6bf024a",
        "colab": {
          "base_uri": "https://localhost:8080/",
          "height": 1000
        }
      },
      "source": [
        "Niter = 10 #Número de particiones\n",
        "maed = np.zeros((Niter, len(steps))) #Error absoluto\n",
        "best_estimatorsd = Niter*[len(steps)*[None]]\n",
        "best_hyperparamsd = Niter*[len(steps)*[None]]\n",
        "\n",
        "for j in range(Niter):\n",
        "    \n",
        "    print(\"Iteración %d/%d\" %(j+1, Niter))\n",
        "    Xtraind, Xtestd, ytraind, ytestd = train_test_split(\n",
        "        Xd,yd,test_size=0.3) #Xtrain(70%) ytrain(30%)\n",
        "    \n",
        "    #Recorre los modelos\n",
        "    for r in range(len(steps)):\n",
        "        \n",
        "        grid_search = GridSearchCV(Pipeline(steps[r]), params[r],cv=5, verbose=5, scoring='neg_mean_absolute_error', n_jobs=4)\n",
        "        \n",
        "        #Entrenando\n",
        "        grid_search.fit(Xtraind, ytraind)\n",
        "        \n",
        "        #Realizando predicción con el mejor modelo\n",
        "        ypredd = grid_search.best_estimator_.predict(Xtestd)\n",
        "        \n",
        "        #Guardando el mejor modelo\n",
        "        best_estimatorsd[j][r] = grid_search.best_estimator_\n",
        "        \n",
        "        #Guardando los mejores hiperparámetros\n",
        "        best_hyperparamsd[j][r] = grid_search.best_params_\n",
        "        \n",
        "        #Guardando error\n",
        "        maed[j,r] = mean_absolute_error(ytestd, ypredd)\n",
        "        \n",
        "        print('it %d/%d-Modelo %d/%d'%(j+1,Niter,r,len(steps)))\n",
        "        print('mae:',mae[j,r])\n",
        "\n",
        "        savedata = {\n",
        "            'acc':maed,\n",
        "            'best_models':best_estimatorsd,\n",
        "            'best_parameters':best_hyperparamsd,\n",
        "              } \n",
        "        dump(savedata,'covid19_2.joblib')"
      ],
      "execution_count": 59,
      "outputs": [
        {
          "output_type": "stream",
          "text": [
            "Iteración 1/10\n",
            "Fitting 5 folds for each of 5 candidates, totalling 25 fits\n"
          ],
          "name": "stdout"
        },
        {
          "output_type": "stream",
          "text": [
            "[Parallel(n_jobs=4)]: Using backend LokyBackend with 4 concurrent workers.\n",
            "[Parallel(n_jobs=4)]: Done  10 tasks      | elapsed:    1.6s\n",
            "[Parallel(n_jobs=4)]: Done  25 out of  25 | elapsed:    1.7s finished\n",
            "[Parallel(n_jobs=4)]: Using backend LokyBackend with 4 concurrent workers.\n",
            "[Parallel(n_jobs=4)]: Done  12 tasks      | elapsed:    0.1s\n",
            "[Parallel(n_jobs=4)]: Done  18 out of  25 | elapsed:    0.1s remaining:    0.0s\n",
            "[Parallel(n_jobs=4)]: Done  25 out of  25 | elapsed:    0.1s finished\n",
            "[Parallel(n_jobs=4)]: Using backend LokyBackend with 4 concurrent workers.\n"
          ],
          "name": "stderr"
        },
        {
          "output_type": "stream",
          "text": [
            "it 1/10-Modelo 0/9\n",
            "mae: 55.55495966261034\n",
            "Fitting 5 folds for each of 5 candidates, totalling 25 fits\n",
            "it 1/10-Modelo 1/9\n",
            "mae: 55.55495966261034\n",
            "Fitting 5 folds for each of 50 candidates, totalling 250 fits\n"
          ],
          "name": "stdout"
        },
        {
          "output_type": "stream",
          "text": [
            "[Parallel(n_jobs=4)]: Done  12 tasks      | elapsed:    0.1s\n",
            "[Parallel(n_jobs=4)]: Done 250 out of 250 | elapsed:    0.8s finished\n",
            "[Parallel(n_jobs=4)]: Using backend LokyBackend with 4 concurrent workers.\n",
            "[Parallel(n_jobs=4)]: Done  12 tasks      | elapsed:    0.1s\n"
          ],
          "name": "stderr"
        },
        {
          "output_type": "stream",
          "text": [
            "it 1/10-Modelo 2/9\n",
            "mae: 55.74852943091666\n",
            "Fitting 5 folds for each of 25 candidates, totalling 125 fits\n"
          ],
          "name": "stdout"
        },
        {
          "output_type": "stream",
          "text": [
            "[Parallel(n_jobs=4)]: Done 125 out of 125 | elapsed:    0.4s finished\n",
            "[Parallel(n_jobs=4)]: Using backend LokyBackend with 4 concurrent workers.\n",
            "[Parallel(n_jobs=4)]: Done  12 tasks      | elapsed:    0.1s\n"
          ],
          "name": "stderr"
        },
        {
          "output_type": "stream",
          "text": [
            "it 1/10-Modelo 3/9\n",
            "mae: 55.56418213530978\n",
            "Fitting 5 folds for each of 125 candidates, totalling 625 fits\n"
          ],
          "name": "stdout"
        },
        {
          "output_type": "stream",
          "text": [
            "[Parallel(n_jobs=4)]: Done 472 tasks      | elapsed:    1.6s\n",
            "[Parallel(n_jobs=4)]: Done 625 out of 625 | elapsed:    1.8s finished\n",
            "[Parallel(n_jobs=4)]: Using backend LokyBackend with 4 concurrent workers.\n",
            "[Parallel(n_jobs=4)]: Done  12 tasks      | elapsed:    0.1s\n"
          ],
          "name": "stderr"
        },
        {
          "output_type": "stream",
          "text": [
            "it 1/10-Modelo 4/9\n",
            "mae: 55.56418213530978\n",
            "Fitting 5 folds for each of 125 candidates, totalling 625 fits\n"
          ],
          "name": "stdout"
        },
        {
          "output_type": "stream",
          "text": [
            "[Parallel(n_jobs=4)]: Done 552 tasks      | elapsed:    1.9s\n",
            "[Parallel(n_jobs=4)]: Done 618 out of 625 | elapsed:    2.1s remaining:    0.0s\n",
            "[Parallel(n_jobs=4)]: Done 625 out of 625 | elapsed:    2.1s finished\n",
            "[Parallel(n_jobs=4)]: Using backend LokyBackend with 4 concurrent workers.\n",
            "[Parallel(n_jobs=4)]: Done  12 tasks      | elapsed:    0.1s\n"
          ],
          "name": "stderr"
        },
        {
          "output_type": "stream",
          "text": [
            "it 1/10-Modelo 5/9\n",
            "mae: 40.441902012933014\n",
            "Fitting 5 folds for each of 125 candidates, totalling 625 fits\n"
          ],
          "name": "stdout"
        },
        {
          "output_type": "stream",
          "text": [
            "[Parallel(n_jobs=4)]: Done 542 tasks      | elapsed:    2.1s\n",
            "[Parallel(n_jobs=4)]: Done 625 out of 625 | elapsed:    2.4s finished\n",
            "[Parallel(n_jobs=4)]: Using backend LokyBackend with 4 concurrent workers.\n",
            "[Parallel(n_jobs=4)]: Done  18 tasks      | elapsed:    0.1s\n"
          ],
          "name": "stderr"
        },
        {
          "output_type": "stream",
          "text": [
            "it 1/10-Modelo 6/9\n",
            "mae: 41.713250938528496\n",
            "Fitting 5 folds for each of 125 candidates, totalling 625 fits\n"
          ],
          "name": "stdout"
        },
        {
          "output_type": "stream",
          "text": [
            "[Parallel(n_jobs=4)]: Done 561 tasks      | elapsed:    1.8s\n",
            "[Parallel(n_jobs=4)]: Done 625 out of 625 | elapsed:    2.0s finished\n"
          ],
          "name": "stderr"
        },
        {
          "output_type": "stream",
          "text": [
            "it 1/10-Modelo 7/9\n",
            "mae: 37.55930419529719\n",
            "Fitting 5 folds for each of 25 candidates, totalling 125 fits\n"
          ],
          "name": "stdout"
        },
        {
          "output_type": "stream",
          "text": [
            "[Parallel(n_jobs=4)]: Using backend LokyBackend with 4 concurrent workers.\n",
            "[Parallel(n_jobs=4)]: Done  10 tasks      | elapsed:    3.2s\n",
            "[Parallel(n_jobs=4)]: Done  64 tasks      | elapsed:   16.8s\n",
            "[Parallel(n_jobs=4)]: Done 125 out of 125 | elapsed:   32.2s finished\n"
          ],
          "name": "stderr"
        },
        {
          "output_type": "stream",
          "text": [
            "it 1/10-Modelo 8/9\n",
            "mae: 20142.99984011477\n",
            "Iteración 2/10\n",
            "Fitting 5 folds for each of 5 candidates, totalling 25 fits\n",
            "it 2/10-Modelo 0/9\n",
            "mae: 65.40926402184543\n",
            "Fitting 5 folds for each of 5 candidates, totalling 25 fits\n"
          ],
          "name": "stdout"
        },
        {
          "output_type": "stream",
          "text": [
            "[Parallel(n_jobs=4)]: Using backend LokyBackend with 4 concurrent workers.\n",
            "[Parallel(n_jobs=4)]: Done  12 tasks      | elapsed:    0.1s\n",
            "[Parallel(n_jobs=4)]: Done  18 out of  25 | elapsed:    0.1s remaining:    0.0s\n",
            "[Parallel(n_jobs=4)]: Done  25 out of  25 | elapsed:    0.1s finished\n",
            "[Parallel(n_jobs=4)]: Using backend LokyBackend with 4 concurrent workers.\n",
            "[Parallel(n_jobs=4)]: Done  13 tasks      | elapsed:    0.1s\n",
            "[Parallel(n_jobs=4)]: Done  18 out of  25 | elapsed:    0.1s remaining:    0.0s\n",
            "[Parallel(n_jobs=4)]: Done  25 out of  25 | elapsed:    0.1s finished\n",
            "[Parallel(n_jobs=4)]: Using backend LokyBackend with 4 concurrent workers.\n",
            "[Parallel(n_jobs=4)]: Done  14 tasks      | elapsed:    0.1s\n"
          ],
          "name": "stderr"
        },
        {
          "output_type": "stream",
          "text": [
            "it 2/10-Modelo 1/9\n",
            "mae: 65.40926402184543\n",
            "Fitting 5 folds for each of 50 candidates, totalling 250 fits\n"
          ],
          "name": "stdout"
        },
        {
          "output_type": "stream",
          "text": [
            "[Parallel(n_jobs=4)]: Done 250 out of 250 | elapsed:    0.9s finished\n",
            "[Parallel(n_jobs=4)]: Using backend LokyBackend with 4 concurrent workers.\n",
            "[Parallel(n_jobs=4)]: Done  13 tasks      | elapsed:    0.1s\n"
          ],
          "name": "stderr"
        },
        {
          "output_type": "stream",
          "text": [
            "it 2/10-Modelo 2/9\n",
            "mae: 65.54654583940504\n",
            "Fitting 5 folds for each of 25 candidates, totalling 125 fits\n"
          ],
          "name": "stdout"
        },
        {
          "output_type": "stream",
          "text": [
            "[Parallel(n_jobs=4)]: Done 118 out of 125 | elapsed:    0.5s remaining:    0.0s\n",
            "[Parallel(n_jobs=4)]: Done 125 out of 125 | elapsed:    0.5s finished\n",
            "[Parallel(n_jobs=4)]: Using backend LokyBackend with 4 concurrent workers.\n",
            "[Parallel(n_jobs=4)]: Done  14 tasks      | elapsed:    0.1s\n"
          ],
          "name": "stderr"
        },
        {
          "output_type": "stream",
          "text": [
            "it 2/10-Modelo 3/9\n",
            "mae: 65.41735027968801\n",
            "Fitting 5 folds for each of 125 candidates, totalling 625 fits\n"
          ],
          "name": "stdout"
        },
        {
          "output_type": "stream",
          "text": [
            "[Parallel(n_jobs=4)]: Done 555 tasks      | elapsed:    1.7s\n",
            "[Parallel(n_jobs=4)]: Done 625 out of 625 | elapsed:    1.9s finished\n"
          ],
          "name": "stderr"
        },
        {
          "output_type": "stream",
          "text": [
            "it 2/10-Modelo 4/9\n",
            "mae: 65.41735027968801\n",
            "Fitting 5 folds for each of 125 candidates, totalling 625 fits\n"
          ],
          "name": "stdout"
        },
        {
          "output_type": "stream",
          "text": [
            "[Parallel(n_jobs=4)]: Using backend LokyBackend with 4 concurrent workers.\n",
            "[Parallel(n_jobs=4)]: Done  13 tasks      | elapsed:    0.1s\n",
            "[Parallel(n_jobs=4)]: Done 536 tasks      | elapsed:    1.8s\n",
            "[Parallel(n_jobs=4)]: Done 625 out of 625 | elapsed:    2.1s finished\n",
            "[Parallel(n_jobs=4)]: Using backend LokyBackend with 4 concurrent workers.\n",
            "[Parallel(n_jobs=4)]: Done  16 tasks      | elapsed:    0.2s\n"
          ],
          "name": "stderr"
        },
        {
          "output_type": "stream",
          "text": [
            "it 2/10-Modelo 5/9\n",
            "mae: 54.804368712880986\n",
            "Fitting 5 folds for each of 125 candidates, totalling 625 fits\n"
          ],
          "name": "stdout"
        },
        {
          "output_type": "stream",
          "text": [
            "[Parallel(n_jobs=4)]: Done 529 tasks      | elapsed:    2.1s\n",
            "[Parallel(n_jobs=4)]: Done 625 out of 625 | elapsed:    2.4s finished\n",
            "[Parallel(n_jobs=4)]: Using backend LokyBackend with 4 concurrent workers.\n",
            "[Parallel(n_jobs=4)]: Done  12 tasks      | elapsed:    0.1s\n"
          ],
          "name": "stderr"
        },
        {
          "output_type": "stream",
          "text": [
            "it 2/10-Modelo 6/9\n",
            "mae: 68.64741559278445\n",
            "Fitting 5 folds for each of 125 candidates, totalling 625 fits\n"
          ],
          "name": "stdout"
        },
        {
          "output_type": "stream",
          "text": [
            "[Parallel(n_jobs=4)]: Done 542 tasks      | elapsed:    1.7s\n",
            "[Parallel(n_jobs=4)]: Done 625 out of 625 | elapsed:    2.1s finished\n",
            "[Parallel(n_jobs=4)]: Using backend LokyBackend with 4 concurrent workers.\n"
          ],
          "name": "stderr"
        },
        {
          "output_type": "stream",
          "text": [
            "it 2/10-Modelo 7/9\n",
            "mae: 46.62065473892084\n",
            "Fitting 5 folds for each of 25 candidates, totalling 125 fits\n"
          ],
          "name": "stdout"
        },
        {
          "output_type": "stream",
          "text": [
            "[Parallel(n_jobs=4)]: Done  10 tasks      | elapsed:    3.2s\n",
            "[Parallel(n_jobs=4)]: Done  64 tasks      | elapsed:   16.7s\n",
            "[Parallel(n_jobs=4)]: Done 125 out of 125 | elapsed:   32.3s finished\n"
          ],
          "name": "stderr"
        },
        {
          "output_type": "stream",
          "text": [
            "it 2/10-Modelo 8/9\n",
            "mae: 232.30463081772936\n",
            "Iteración 3/10\n",
            "Fitting 5 folds for each of 5 candidates, totalling 25 fits\n",
            "it 3/10-Modelo 0/9\n",
            "mae: 69.32103637641087\n"
          ],
          "name": "stdout"
        },
        {
          "output_type": "stream",
          "text": [
            "[Parallel(n_jobs=4)]: Using backend LokyBackend with 4 concurrent workers.\n",
            "[Parallel(n_jobs=4)]: Done  12 tasks      | elapsed:    0.1s\n",
            "[Parallel(n_jobs=4)]: Done  18 out of  25 | elapsed:    0.1s remaining:    0.0s\n",
            "[Parallel(n_jobs=4)]: Done  25 out of  25 | elapsed:    0.1s finished\n",
            "[Parallel(n_jobs=4)]: Using backend LokyBackend with 4 concurrent workers.\n"
          ],
          "name": "stderr"
        },
        {
          "output_type": "stream",
          "text": [
            "Fitting 5 folds for each of 5 candidates, totalling 25 fits\n",
            "it 3/10-Modelo 1/9\n",
            "mae: 69.32103637641087\n",
            "Fitting 5 folds for each of 50 candidates, totalling 250 fits\n"
          ],
          "name": "stdout"
        },
        {
          "output_type": "stream",
          "text": [
            "[Parallel(n_jobs=4)]: Done  12 tasks      | elapsed:    0.1s\n",
            "[Parallel(n_jobs=4)]: Done  18 out of  25 | elapsed:    0.1s remaining:    0.0s\n",
            "[Parallel(n_jobs=4)]: Done  25 out of  25 | elapsed:    0.1s finished\n",
            "[Parallel(n_jobs=4)]: Using backend LokyBackend with 4 concurrent workers.\n",
            "[Parallel(n_jobs=4)]: Done  24 tasks      | elapsed:    0.2s\n",
            "[Parallel(n_jobs=4)]: Done 250 out of 250 | elapsed:    1.0s finished\n",
            "[Parallel(n_jobs=4)]: Using backend LokyBackend with 4 concurrent workers.\n",
            "[Parallel(n_jobs=4)]: Done  12 tasks      | elapsed:    0.1s\n"
          ],
          "name": "stderr"
        },
        {
          "output_type": "stream",
          "text": [
            "it 3/10-Modelo 2/9\n",
            "mae: 69.45186587699897\n",
            "Fitting 5 folds for each of 25 candidates, totalling 125 fits\n"
          ],
          "name": "stdout"
        },
        {
          "output_type": "stream",
          "text": [
            "[Parallel(n_jobs=4)]: Done 125 out of 125 | elapsed:    0.4s finished\n",
            "[Parallel(n_jobs=4)]: Using backend LokyBackend with 4 concurrent workers.\n",
            "[Parallel(n_jobs=4)]: Done  16 tasks      | elapsed:    0.1s\n"
          ],
          "name": "stderr"
        },
        {
          "output_type": "stream",
          "text": [
            "it 3/10-Modelo 3/9\n",
            "mae: 69.32827597570093\n",
            "Fitting 5 folds for each of 125 candidates, totalling 625 fits\n"
          ],
          "name": "stdout"
        },
        {
          "output_type": "stream",
          "text": [
            "[Parallel(n_jobs=4)]: Done 558 tasks      | elapsed:    1.7s\n",
            "[Parallel(n_jobs=4)]: Done 625 out of 625 | elapsed:    1.9s finished\n",
            "[Parallel(n_jobs=4)]: Using backend LokyBackend with 4 concurrent workers.\n"
          ],
          "name": "stderr"
        },
        {
          "output_type": "stream",
          "text": [
            "it 3/10-Modelo 4/9\n",
            "mae: 69.32827597570093\n",
            "Fitting 5 folds for each of 125 candidates, totalling 625 fits\n"
          ],
          "name": "stdout"
        },
        {
          "output_type": "stream",
          "text": [
            "[Parallel(n_jobs=4)]: Done  12 tasks      | elapsed:    0.1s\n",
            "[Parallel(n_jobs=4)]: Done 552 tasks      | elapsed:    1.8s\n",
            "[Parallel(n_jobs=4)]: Done 618 out of 625 | elapsed:    1.9s remaining:    0.0s\n",
            "[Parallel(n_jobs=4)]: Done 625 out of 625 | elapsed:    2.0s finished\n"
          ],
          "name": "stderr"
        },
        {
          "output_type": "stream",
          "text": [
            "it 3/10-Modelo 5/9\n",
            "mae: 49.731651312601485\n",
            "Fitting 5 folds for each of 125 candidates, totalling 625 fits\n"
          ],
          "name": "stdout"
        },
        {
          "output_type": "stream",
          "text": [
            "[Parallel(n_jobs=4)]: Using backend LokyBackend with 4 concurrent workers.\n",
            "[Parallel(n_jobs=4)]: Done  24 tasks      | elapsed:    0.2s\n",
            "[Parallel(n_jobs=4)]: Done 576 tasks      | elapsed:    2.3s\n",
            "[Parallel(n_jobs=4)]: Done 625 out of 625 | elapsed:    2.5s finished\n"
          ],
          "name": "stderr"
        },
        {
          "output_type": "stream",
          "text": [
            "it 3/10-Modelo 6/9\n",
            "mae: 70.29619441144806\n",
            "Fitting 5 folds for each of 125 candidates, totalling 625 fits\n"
          ],
          "name": "stdout"
        },
        {
          "output_type": "stream",
          "text": [
            "[Parallel(n_jobs=4)]: Using backend LokyBackend with 4 concurrent workers.\n",
            "[Parallel(n_jobs=4)]: Done  12 tasks      | elapsed:    0.1s\n",
            "[Parallel(n_jobs=4)]: Done 542 tasks      | elapsed:    1.9s\n",
            "[Parallel(n_jobs=4)]: Done 625 out of 625 | elapsed:    2.1s finished\n",
            "[Parallel(n_jobs=4)]: Using backend LokyBackend with 4 concurrent workers.\n"
          ],
          "name": "stderr"
        },
        {
          "output_type": "stream",
          "text": [
            "it 3/10-Modelo 7/9\n",
            "mae: 41.67222224139742\n",
            "Fitting 5 folds for each of 25 candidates, totalling 125 fits\n"
          ],
          "name": "stdout"
        },
        {
          "output_type": "stream",
          "text": [
            "[Parallel(n_jobs=4)]: Done  10 tasks      | elapsed:    3.1s\n",
            "[Parallel(n_jobs=4)]: Done  64 tasks      | elapsed:   16.4s\n",
            "[Parallel(n_jobs=4)]: Done 125 out of 125 | elapsed:   31.9s finished\n"
          ],
          "name": "stderr"
        },
        {
          "output_type": "stream",
          "text": [
            "it 3/10-Modelo 8/9\n",
            "mae: 37297.58588383122\n",
            "Iteración 4/10\n",
            "Fitting 5 folds for each of 5 candidates, totalling 25 fits\n",
            "it 4/10-Modelo 0/9\n",
            "mae: 83.85506099173712\n",
            "Fitting 5 folds for each of 5 candidates, totalling 25 fits\n"
          ],
          "name": "stdout"
        },
        {
          "output_type": "stream",
          "text": [
            "[Parallel(n_jobs=4)]: Using backend LokyBackend with 4 concurrent workers.\n",
            "[Parallel(n_jobs=4)]: Done  12 tasks      | elapsed:    0.1s\n",
            "[Parallel(n_jobs=4)]: Done  18 out of  25 | elapsed:    0.1s remaining:    0.0s\n",
            "[Parallel(n_jobs=4)]: Done  25 out of  25 | elapsed:    0.1s finished\n",
            "[Parallel(n_jobs=4)]: Using backend LokyBackend with 4 concurrent workers.\n",
            "[Parallel(n_jobs=4)]: Done  14 tasks      | elapsed:    0.1s\n",
            "[Parallel(n_jobs=4)]: Done  25 out of  25 | elapsed:    0.1s finished\n",
            "[Parallel(n_jobs=4)]: Using backend LokyBackend with 4 concurrent workers.\n",
            "[Parallel(n_jobs=4)]: Done  14 tasks      | elapsed:    0.1s\n"
          ],
          "name": "stderr"
        },
        {
          "output_type": "stream",
          "text": [
            "it 4/10-Modelo 1/9\n",
            "mae: 83.85506099173712\n",
            "Fitting 5 folds for each of 50 candidates, totalling 250 fits\n"
          ],
          "name": "stdout"
        },
        {
          "output_type": "stream",
          "text": [
            "[Parallel(n_jobs=4)]: Done 250 out of 250 | elapsed:    0.9s finished\n",
            "[Parallel(n_jobs=4)]: Using backend LokyBackend with 4 concurrent workers.\n",
            "[Parallel(n_jobs=4)]: Done  14 tasks      | elapsed:    0.1s\n"
          ],
          "name": "stderr"
        },
        {
          "output_type": "stream",
          "text": [
            "it 4/10-Modelo 2/9\n",
            "mae: 83.96956794118846\n",
            "Fitting 5 folds for each of 25 candidates, totalling 125 fits\n"
          ],
          "name": "stdout"
        },
        {
          "output_type": "stream",
          "text": [
            "[Parallel(n_jobs=4)]: Done 125 out of 125 | elapsed:    0.5s finished\n",
            "[Parallel(n_jobs=4)]: Using backend LokyBackend with 4 concurrent workers.\n",
            "[Parallel(n_jobs=4)]: Done  16 tasks      | elapsed:    0.1s\n"
          ],
          "name": "stderr"
        },
        {
          "output_type": "stream",
          "text": [
            "it 4/10-Modelo 3/9\n",
            "mae: 83.86154784242552\n",
            "Fitting 5 folds for each of 125 candidates, totalling 625 fits\n"
          ],
          "name": "stdout"
        },
        {
          "output_type": "stream",
          "text": [
            "[Parallel(n_jobs=4)]: Done 559 tasks      | elapsed:    1.9s\n",
            "[Parallel(n_jobs=4)]: Done 625 out of 625 | elapsed:    2.1s finished\n",
            "[Parallel(n_jobs=4)]: Using backend LokyBackend with 4 concurrent workers.\n",
            "[Parallel(n_jobs=4)]: Done  12 tasks      | elapsed:    0.1s\n"
          ],
          "name": "stderr"
        },
        {
          "output_type": "stream",
          "text": [
            "it 4/10-Modelo 4/9\n",
            "mae: 83.86154784242552\n",
            "Fitting 5 folds for each of 125 candidates, totalling 625 fits\n"
          ],
          "name": "stdout"
        },
        {
          "output_type": "stream",
          "text": [
            "[Parallel(n_jobs=4)]: Done 527 tasks      | elapsed:    1.9s\n",
            "[Parallel(n_jobs=4)]: Done 625 out of 625 | elapsed:    2.2s finished\n",
            "[Parallel(n_jobs=4)]: Using backend LokyBackend with 4 concurrent workers.\n",
            "[Parallel(n_jobs=4)]: Done  12 tasks      | elapsed:    0.1s\n"
          ],
          "name": "stderr"
        },
        {
          "output_type": "stream",
          "text": [
            "it 4/10-Modelo 5/9\n",
            "mae: 89.35838325787304\n",
            "Fitting 5 folds for each of 125 candidates, totalling 625 fits\n"
          ],
          "name": "stdout"
        },
        {
          "output_type": "stream",
          "text": [
            "[Parallel(n_jobs=4)]: Done 542 tasks      | elapsed:    2.1s\n",
            "[Parallel(n_jobs=4)]: Done 625 out of 625 | elapsed:    2.3s finished\n",
            "[Parallel(n_jobs=4)]: Using backend LokyBackend with 4 concurrent workers.\n",
            "[Parallel(n_jobs=4)]: Done  12 tasks      | elapsed:    0.1s\n"
          ],
          "name": "stderr"
        },
        {
          "output_type": "stream",
          "text": [
            "it 4/10-Modelo 6/9\n",
            "mae: 65.67523274301743\n",
            "Fitting 5 folds for each of 125 candidates, totalling 625 fits\n"
          ],
          "name": "stdout"
        },
        {
          "output_type": "stream",
          "text": [
            "[Parallel(n_jobs=4)]: Done 520 tasks      | elapsed:    1.9s\n",
            "[Parallel(n_jobs=4)]: Done 625 out of 625 | elapsed:    2.1s finished\n",
            "[Parallel(n_jobs=4)]: Using backend LokyBackend with 4 concurrent workers.\n"
          ],
          "name": "stderr"
        },
        {
          "output_type": "stream",
          "text": [
            "it 4/10-Modelo 7/9\n",
            "mae: 62.26171495136231\n",
            "Fitting 5 folds for each of 25 candidates, totalling 125 fits\n"
          ],
          "name": "stdout"
        },
        {
          "output_type": "stream",
          "text": [
            "[Parallel(n_jobs=4)]: Done  10 tasks      | elapsed:    3.0s\n",
            "[Parallel(n_jobs=4)]: Done  64 tasks      | elapsed:   16.6s\n",
            "[Parallel(n_jobs=4)]: Done 125 out of 125 | elapsed:   32.0s finished\n"
          ],
          "name": "stderr"
        },
        {
          "output_type": "stream",
          "text": [
            "it 4/10-Modelo 8/9\n",
            "mae: 1970.2329663528353\n",
            "Iteración 5/10\n",
            "Fitting 5 folds for each of 5 candidates, totalling 25 fits\n",
            "it 5/10-Modelo 0/9\n",
            "mae: 74.30280668474072\n",
            "Fitting 5 folds for each of 5 candidates, totalling 25 fits\n"
          ],
          "name": "stdout"
        },
        {
          "output_type": "stream",
          "text": [
            "[Parallel(n_jobs=4)]: Using backend LokyBackend with 4 concurrent workers.\n",
            "[Parallel(n_jobs=4)]: Done  14 tasks      | elapsed:    0.1s\n",
            "[Parallel(n_jobs=4)]: Done  25 out of  25 | elapsed:    0.1s finished\n",
            "[Parallel(n_jobs=4)]: Using backend LokyBackend with 4 concurrent workers.\n",
            "[Parallel(n_jobs=4)]: Done  17 tasks      | elapsed:    0.1s\n",
            "[Parallel(n_jobs=4)]: Done  25 out of  25 | elapsed:    0.1s finished\n",
            "[Parallel(n_jobs=4)]: Using backend LokyBackend with 4 concurrent workers.\n",
            "[Parallel(n_jobs=4)]: Done  14 tasks      | elapsed:    0.1s\n"
          ],
          "name": "stderr"
        },
        {
          "output_type": "stream",
          "text": [
            "it 5/10-Modelo 1/9\n",
            "mae: 74.30280668474072\n",
            "Fitting 5 folds for each of 50 candidates, totalling 250 fits\n"
          ],
          "name": "stdout"
        },
        {
          "output_type": "stream",
          "text": [
            "[Parallel(n_jobs=4)]: Done 250 out of 250 | elapsed:    0.9s finished\n",
            "[Parallel(n_jobs=4)]: Using backend LokyBackend with 4 concurrent workers.\n",
            "[Parallel(n_jobs=4)]: Done  18 tasks      | elapsed:    0.1s\n"
          ],
          "name": "stderr"
        },
        {
          "output_type": "stream",
          "text": [
            "it 5/10-Modelo 2/9\n",
            "mae: 74.55597705796085\n",
            "Fitting 5 folds for each of 25 candidates, totalling 125 fits\n"
          ],
          "name": "stdout"
        },
        {
          "output_type": "stream",
          "text": [
            "[Parallel(n_jobs=4)]: Done 125 out of 125 | elapsed:    0.5s finished\n",
            "[Parallel(n_jobs=4)]: Using backend LokyBackend with 4 concurrent workers.\n",
            "[Parallel(n_jobs=4)]: Done  12 tasks      | elapsed:    0.1s\n"
          ],
          "name": "stderr"
        },
        {
          "output_type": "stream",
          "text": [
            "it 5/10-Modelo 3/9\n",
            "mae: 74.31849381980271\n",
            "Fitting 5 folds for each of 125 candidates, totalling 625 fits\n"
          ],
          "name": "stdout"
        },
        {
          "output_type": "stream",
          "text": [
            "[Parallel(n_jobs=4)]: Done 542 tasks      | elapsed:    1.8s\n",
            "[Parallel(n_jobs=4)]: Done 625 out of 625 | elapsed:    2.1s finished\n",
            "[Parallel(n_jobs=4)]: Using backend LokyBackend with 4 concurrent workers.\n",
            "[Parallel(n_jobs=4)]: Done  12 tasks      | elapsed:    0.1s\n"
          ],
          "name": "stderr"
        },
        {
          "output_type": "stream",
          "text": [
            "it 5/10-Modelo 4/9\n",
            "mae: 74.31849381980271\n",
            "Fitting 5 folds for each of 125 candidates, totalling 625 fits\n"
          ],
          "name": "stdout"
        },
        {
          "output_type": "stream",
          "text": [
            "[Parallel(n_jobs=4)]: Done 557 tasks      | elapsed:    1.8s\n",
            "[Parallel(n_jobs=4)]: Done 625 out of 625 | elapsed:    2.1s finished\n",
            "[Parallel(n_jobs=4)]: Using backend LokyBackend with 4 concurrent workers.\n",
            "[Parallel(n_jobs=4)]: Done  12 tasks      | elapsed:    0.1s\n"
          ],
          "name": "stderr"
        },
        {
          "output_type": "stream",
          "text": [
            "it 5/10-Modelo 5/9\n",
            "mae: 67.37092935533757\n",
            "Fitting 5 folds for each of 125 candidates, totalling 625 fits\n"
          ],
          "name": "stdout"
        },
        {
          "output_type": "stream",
          "text": [
            "[Parallel(n_jobs=4)]: Done 527 tasks      | elapsed:    2.2s\n",
            "[Parallel(n_jobs=4)]: Done 625 out of 625 | elapsed:    2.5s finished\n",
            "[Parallel(n_jobs=4)]: Using backend LokyBackend with 4 concurrent workers.\n",
            "[Parallel(n_jobs=4)]: Done  12 tasks      | elapsed:    0.1s\n"
          ],
          "name": "stderr"
        },
        {
          "output_type": "stream",
          "text": [
            "it 5/10-Modelo 6/9\n",
            "mae: 61.834396098040635\n",
            "Fitting 5 folds for each of 125 candidates, totalling 625 fits\n"
          ],
          "name": "stdout"
        },
        {
          "output_type": "stream",
          "text": [
            "[Parallel(n_jobs=4)]: Done 552 tasks      | elapsed:    1.9s\n",
            "[Parallel(n_jobs=4)]: Done 618 out of 625 | elapsed:    2.1s remaining:    0.0s\n",
            "[Parallel(n_jobs=4)]: Done 625 out of 625 | elapsed:    2.1s finished\n",
            "[Parallel(n_jobs=4)]: Using backend LokyBackend with 4 concurrent workers.\n"
          ],
          "name": "stderr"
        },
        {
          "output_type": "stream",
          "text": [
            "it 5/10-Modelo 7/9\n",
            "mae: 70.39015262542968\n",
            "Fitting 5 folds for each of 25 candidates, totalling 125 fits\n"
          ],
          "name": "stdout"
        },
        {
          "output_type": "stream",
          "text": [
            "[Parallel(n_jobs=4)]: Done  10 tasks      | elapsed:    3.1s\n",
            "[Parallel(n_jobs=4)]: Done  64 tasks      | elapsed:   16.5s\n",
            "[Parallel(n_jobs=4)]: Done 125 out of 125 | elapsed:   32.2s finished\n"
          ],
          "name": "stderr"
        },
        {
          "output_type": "stream",
          "text": [
            "it 5/10-Modelo 8/9\n",
            "mae: 526.5181200541459\n",
            "Iteración 6/10\n",
            "Fitting 5 folds for each of 5 candidates, totalling 25 fits\n",
            "it 6/10-Modelo 0/9\n",
            "mae: 62.60821195744406\n",
            "Fitting 5 folds for each of 5 candidates, totalling 25 fits\n"
          ],
          "name": "stdout"
        },
        {
          "output_type": "stream",
          "text": [
            "[Parallel(n_jobs=4)]: Using backend LokyBackend with 4 concurrent workers.\n",
            "[Parallel(n_jobs=4)]: Done  14 tasks      | elapsed:    0.1s\n",
            "[Parallel(n_jobs=4)]: Done  18 out of  25 | elapsed:    0.1s remaining:    0.0s\n",
            "[Parallel(n_jobs=4)]: Done  25 out of  25 | elapsed:    0.1s finished\n",
            "[Parallel(n_jobs=4)]: Using backend LokyBackend with 4 concurrent workers.\n",
            "[Parallel(n_jobs=4)]: Done  12 tasks      | elapsed:    0.1s\n",
            "[Parallel(n_jobs=4)]: Done  18 out of  25 | elapsed:    0.1s remaining:    0.0s\n",
            "[Parallel(n_jobs=4)]: Done  25 out of  25 | elapsed:    0.1s finished\n",
            "[Parallel(n_jobs=4)]: Using backend LokyBackend with 4 concurrent workers.\n",
            "[Parallel(n_jobs=4)]: Done  16 tasks      | elapsed:    0.1s\n"
          ],
          "name": "stderr"
        },
        {
          "output_type": "stream",
          "text": [
            "it 6/10-Modelo 1/9\n",
            "mae: 62.60821195744406\n",
            "Fitting 5 folds for each of 50 candidates, totalling 250 fits\n"
          ],
          "name": "stdout"
        },
        {
          "output_type": "stream",
          "text": [
            "[Parallel(n_jobs=4)]: Done 250 out of 250 | elapsed:    0.9s finished\n",
            "[Parallel(n_jobs=4)]: Using backend LokyBackend with 4 concurrent workers.\n",
            "[Parallel(n_jobs=4)]: Done  32 tasks      | elapsed:    0.2s\n"
          ],
          "name": "stderr"
        },
        {
          "output_type": "stream",
          "text": [
            "it 6/10-Modelo 2/9\n",
            "mae: 62.954884883120215\n",
            "Fitting 5 folds for each of 25 candidates, totalling 125 fits\n"
          ],
          "name": "stdout"
        },
        {
          "output_type": "stream",
          "text": [
            "[Parallel(n_jobs=4)]: Done 114 tasks      | elapsed:    0.5s\n",
            "[Parallel(n_jobs=4)]: Done 125 out of 125 | elapsed:    0.6s finished\n",
            "[Parallel(n_jobs=4)]: Using backend LokyBackend with 4 concurrent workers.\n"
          ],
          "name": "stderr"
        },
        {
          "output_type": "stream",
          "text": [
            "it 6/10-Modelo 3/9\n",
            "mae: 62.63020105103393\n",
            "Fitting 5 folds for each of 125 candidates, totalling 625 fits\n"
          ],
          "name": "stdout"
        },
        {
          "output_type": "stream",
          "text": [
            "[Parallel(n_jobs=4)]: Done  24 tasks      | elapsed:    0.2s\n",
            "[Parallel(n_jobs=4)]: Done 576 tasks      | elapsed:    1.8s\n",
            "[Parallel(n_jobs=4)]: Done 625 out of 625 | elapsed:    2.0s finished\n"
          ],
          "name": "stderr"
        },
        {
          "output_type": "stream",
          "text": [
            "it 6/10-Modelo 4/9\n",
            "mae: 62.63020105103393\n",
            "Fitting 5 folds for each of 125 candidates, totalling 625 fits\n"
          ],
          "name": "stdout"
        },
        {
          "output_type": "stream",
          "text": [
            "[Parallel(n_jobs=4)]: Using backend LokyBackend with 4 concurrent workers.\n",
            "[Parallel(n_jobs=4)]: Done  12 tasks      | elapsed:    0.1s\n",
            "[Parallel(n_jobs=4)]: Done 552 tasks      | elapsed:    1.8s\n",
            "[Parallel(n_jobs=4)]: Done 618 out of 625 | elapsed:    2.0s remaining:    0.0s\n",
            "[Parallel(n_jobs=4)]: Done 625 out of 625 | elapsed:    2.0s finished\n"
          ],
          "name": "stderr"
        },
        {
          "output_type": "stream",
          "text": [
            "it 6/10-Modelo 5/9\n",
            "mae: 125.569576920687\n",
            "Fitting 5 folds for each of 125 candidates, totalling 625 fits\n"
          ],
          "name": "stdout"
        },
        {
          "output_type": "stream",
          "text": [
            "[Parallel(n_jobs=4)]: Using backend LokyBackend with 4 concurrent workers.\n",
            "[Parallel(n_jobs=4)]: Done  18 tasks      | elapsed:    0.1s\n",
            "[Parallel(n_jobs=4)]: Done 560 tasks      | elapsed:    2.3s\n",
            "[Parallel(n_jobs=4)]: Done 625 out of 625 | elapsed:    2.5s finished\n",
            "[Parallel(n_jobs=4)]: Using backend LokyBackend with 4 concurrent workers.\n",
            "[Parallel(n_jobs=4)]: Done  12 tasks      | elapsed:    0.1s\n"
          ],
          "name": "stderr"
        },
        {
          "output_type": "stream",
          "text": [
            "it 6/10-Modelo 6/9\n",
            "mae: 61.64562325862386\n",
            "Fitting 5 folds for each of 125 candidates, totalling 625 fits\n"
          ],
          "name": "stdout"
        },
        {
          "output_type": "stream",
          "text": [
            "[Parallel(n_jobs=4)]: Done 557 tasks      | elapsed:    1.9s\n",
            "[Parallel(n_jobs=4)]: Done 625 out of 625 | elapsed:    2.1s finished\n",
            "[Parallel(n_jobs=4)]: Using backend LokyBackend with 4 concurrent workers.\n"
          ],
          "name": "stderr"
        },
        {
          "output_type": "stream",
          "text": [
            "it 6/10-Modelo 7/9\n",
            "mae: 98.42073986629791\n",
            "Fitting 5 folds for each of 25 candidates, totalling 125 fits\n"
          ],
          "name": "stdout"
        },
        {
          "output_type": "stream",
          "text": [
            "[Parallel(n_jobs=4)]: Done  10 tasks      | elapsed:    3.0s\n",
            "[Parallel(n_jobs=4)]: Done  64 tasks      | elapsed:   16.7s\n",
            "[Parallel(n_jobs=4)]: Done 125 out of 125 | elapsed:   32.0s finished\n"
          ],
          "name": "stderr"
        },
        {
          "output_type": "stream",
          "text": [
            "it 6/10-Modelo 8/9\n",
            "mae: 1356.4314896185074\n",
            "Iteración 7/10\n",
            "Fitting 5 folds for each of 5 candidates, totalling 25 fits\n",
            "it 7/10-Modelo 0/9\n",
            "mae: 79.65232766056863\n",
            "Fitting 5 folds for each of 5 candidates, totalling 25 fits\n"
          ],
          "name": "stdout"
        },
        {
          "output_type": "stream",
          "text": [
            "[Parallel(n_jobs=4)]: Using backend LokyBackend with 4 concurrent workers.\n",
            "[Parallel(n_jobs=4)]: Done  12 tasks      | elapsed:    0.1s\n",
            "[Parallel(n_jobs=4)]: Done  18 out of  25 | elapsed:    0.1s remaining:    0.0s\n",
            "[Parallel(n_jobs=4)]: Done  25 out of  25 | elapsed:    0.1s finished\n",
            "[Parallel(n_jobs=4)]: Using backend LokyBackend with 4 concurrent workers.\n",
            "[Parallel(n_jobs=4)]: Done  14 tasks      | elapsed:    0.1s\n",
            "[Parallel(n_jobs=4)]: Done  25 out of  25 | elapsed:    0.1s finished\n",
            "[Parallel(n_jobs=4)]: Using backend LokyBackend with 4 concurrent workers.\n",
            "[Parallel(n_jobs=4)]: Done  14 tasks      | elapsed:    0.1s\n"
          ],
          "name": "stderr"
        },
        {
          "output_type": "stream",
          "text": [
            "it 7/10-Modelo 1/9\n",
            "mae: 79.65232766056863\n",
            "Fitting 5 folds for each of 50 candidates, totalling 250 fits\n"
          ],
          "name": "stdout"
        },
        {
          "output_type": "stream",
          "text": [
            "[Parallel(n_jobs=4)]: Done 250 out of 250 | elapsed:    0.9s finished\n",
            "[Parallel(n_jobs=4)]: Using backend LokyBackend with 4 concurrent workers.\n",
            "[Parallel(n_jobs=4)]: Done  15 tasks      | elapsed:    0.1s\n"
          ],
          "name": "stderr"
        },
        {
          "output_type": "stream",
          "text": [
            "it 7/10-Modelo 2/9\n",
            "mae: 79.71808431257867\n",
            "Fitting 5 folds for each of 25 candidates, totalling 125 fits\n"
          ],
          "name": "stdout"
        },
        {
          "output_type": "stream",
          "text": [
            "[Parallel(n_jobs=4)]: Done 125 out of 125 | elapsed:    0.5s finished\n",
            "[Parallel(n_jobs=4)]: Using backend LokyBackend with 4 concurrent workers.\n",
            "[Parallel(n_jobs=4)]: Done  10 tasks      | elapsed:    0.1s\n"
          ],
          "name": "stderr"
        },
        {
          "output_type": "stream",
          "text": [
            "it 7/10-Modelo 3/9\n",
            "mae: 79.65600037812948\n",
            "Fitting 5 folds for each of 125 candidates, totalling 625 fits\n"
          ],
          "name": "stdout"
        },
        {
          "output_type": "stream",
          "text": [
            "[Parallel(n_jobs=4)]: Done 336 tasks      | elapsed:    1.3s\n",
            "[Parallel(n_jobs=4)]: Done 625 out of 625 | elapsed:    2.1s finished\n",
            "[Parallel(n_jobs=4)]: Using backend LokyBackend with 4 concurrent workers.\n",
            "[Parallel(n_jobs=4)]: Done  12 tasks      | elapsed:    0.1s\n"
          ],
          "name": "stderr"
        },
        {
          "output_type": "stream",
          "text": [
            "it 7/10-Modelo 4/9\n",
            "mae: 79.65600037812948\n",
            "Fitting 5 folds for each of 125 candidates, totalling 625 fits\n"
          ],
          "name": "stdout"
        },
        {
          "output_type": "stream",
          "text": [
            "[Parallel(n_jobs=4)]: Done 552 tasks      | elapsed:    1.9s\n",
            "[Parallel(n_jobs=4)]: Done 618 out of 625 | elapsed:    2.1s remaining:    0.0s\n",
            "[Parallel(n_jobs=4)]: Done 625 out of 625 | elapsed:    2.1s finished\n",
            "[Parallel(n_jobs=4)]: Using backend LokyBackend with 4 concurrent workers.\n",
            "[Parallel(n_jobs=4)]: Done  12 tasks      | elapsed:    0.1s\n"
          ],
          "name": "stderr"
        },
        {
          "output_type": "stream",
          "text": [
            "it 7/10-Modelo 5/9\n",
            "mae: 73.79421588772666\n",
            "Fitting 5 folds for each of 125 candidates, totalling 625 fits\n"
          ],
          "name": "stdout"
        },
        {
          "output_type": "stream",
          "text": [
            "[Parallel(n_jobs=4)]: Done 552 tasks      | elapsed:    2.0s\n",
            "[Parallel(n_jobs=4)]: Done 625 out of 625 | elapsed:    2.2s finished\n",
            "[Parallel(n_jobs=4)]: Using backend LokyBackend with 4 concurrent workers.\n",
            "[Parallel(n_jobs=4)]: Done  12 tasks      | elapsed:    0.1s\n"
          ],
          "name": "stderr"
        },
        {
          "output_type": "stream",
          "text": [
            "it 7/10-Modelo 6/9\n",
            "mae: 94.76379225852104\n",
            "Fitting 5 folds for each of 125 candidates, totalling 625 fits\n"
          ],
          "name": "stdout"
        },
        {
          "output_type": "stream",
          "text": [
            "[Parallel(n_jobs=4)]: Done 552 tasks      | elapsed:    1.7s\n",
            "[Parallel(n_jobs=4)]: Done 618 out of 625 | elapsed:    1.9s remaining:    0.0s\n",
            "[Parallel(n_jobs=4)]: Done 625 out of 625 | elapsed:    1.9s finished\n",
            "[Parallel(n_jobs=4)]: Using backend LokyBackend with 4 concurrent workers.\n"
          ],
          "name": "stderr"
        },
        {
          "output_type": "stream",
          "text": [
            "it 7/10-Modelo 7/9\n",
            "mae: 54.98150800312744\n",
            "Fitting 5 folds for each of 25 candidates, totalling 125 fits\n"
          ],
          "name": "stdout"
        },
        {
          "output_type": "stream",
          "text": [
            "[Parallel(n_jobs=4)]: Done  10 tasks      | elapsed:    3.1s\n",
            "[Parallel(n_jobs=4)]: Done  64 tasks      | elapsed:   16.5s\n",
            "[Parallel(n_jobs=4)]: Done 125 out of 125 | elapsed:   31.9s finished\n"
          ],
          "name": "stderr"
        },
        {
          "output_type": "stream",
          "text": [
            "it 7/10-Modelo 8/9\n",
            "mae: 4291.686854367379\n",
            "Iteración 8/10\n",
            "Fitting 5 folds for each of 5 candidates, totalling 25 fits\n",
            "it 8/10-Modelo 0/9\n",
            "mae: 75.79280403094693\n",
            "Fitting 5 folds for each of 5 candidates, totalling 25 fits\n"
          ],
          "name": "stdout"
        },
        {
          "output_type": "stream",
          "text": [
            "[Parallel(n_jobs=4)]: Using backend LokyBackend with 4 concurrent workers.\n",
            "[Parallel(n_jobs=4)]: Done  12 tasks      | elapsed:    0.1s\n",
            "[Parallel(n_jobs=4)]: Done  18 out of  25 | elapsed:    0.1s remaining:    0.0s\n",
            "[Parallel(n_jobs=4)]: Done  25 out of  25 | elapsed:    0.1s finished\n",
            "[Parallel(n_jobs=4)]: Using backend LokyBackend with 4 concurrent workers.\n",
            "[Parallel(n_jobs=4)]: Done  12 tasks      | elapsed:    0.1s\n",
            "[Parallel(n_jobs=4)]: Done  18 out of  25 | elapsed:    0.1s remaining:    0.0s\n",
            "[Parallel(n_jobs=4)]: Done  25 out of  25 | elapsed:    0.1s finished\n",
            "[Parallel(n_jobs=4)]: Using backend LokyBackend with 4 concurrent workers.\n",
            "[Parallel(n_jobs=4)]: Done  14 tasks      | elapsed:    0.1s\n"
          ],
          "name": "stderr"
        },
        {
          "output_type": "stream",
          "text": [
            "it 8/10-Modelo 1/9\n",
            "mae: 75.79280403094693\n",
            "Fitting 5 folds for each of 50 candidates, totalling 250 fits\n"
          ],
          "name": "stdout"
        },
        {
          "output_type": "stream",
          "text": [
            "[Parallel(n_jobs=4)]: Done 250 out of 250 | elapsed:    0.9s finished\n",
            "[Parallel(n_jobs=4)]: Using backend LokyBackend with 4 concurrent workers.\n",
            "[Parallel(n_jobs=4)]: Done  24 tasks      | elapsed:    0.2s\n"
          ],
          "name": "stderr"
        },
        {
          "output_type": "stream",
          "text": [
            "it 8/10-Modelo 2/9\n",
            "mae: 75.86135188433207\n",
            "Fitting 5 folds for each of 25 candidates, totalling 125 fits\n"
          ],
          "name": "stdout"
        },
        {
          "output_type": "stream",
          "text": [
            "[Parallel(n_jobs=4)]: Done 112 tasks      | elapsed:    0.5s\n",
            "[Parallel(n_jobs=4)]: Done 125 out of 125 | elapsed:    0.6s finished\n",
            "[Parallel(n_jobs=4)]: Using backend LokyBackend with 4 concurrent workers.\n",
            "[Parallel(n_jobs=4)]: Done  12 tasks      | elapsed:    0.1s\n"
          ],
          "name": "stderr"
        },
        {
          "output_type": "stream",
          "text": [
            "it 8/10-Modelo 3/9\n",
            "mae: 75.79674343384067\n",
            "Fitting 5 folds for each of 125 candidates, totalling 625 fits\n"
          ],
          "name": "stdout"
        },
        {
          "output_type": "stream",
          "text": [
            "[Parallel(n_jobs=4)]: Done 472 tasks      | elapsed:    1.8s\n",
            "[Parallel(n_jobs=4)]: Done 625 out of 625 | elapsed:    2.0s finished\n",
            "[Parallel(n_jobs=4)]: Using backend LokyBackend with 4 concurrent workers.\n",
            "[Parallel(n_jobs=4)]: Done  12 tasks      | elapsed:    0.1s\n"
          ],
          "name": "stderr"
        },
        {
          "output_type": "stream",
          "text": [
            "it 8/10-Modelo 4/9\n",
            "mae: 75.79674343384067\n",
            "Fitting 5 folds for each of 125 candidates, totalling 625 fits\n"
          ],
          "name": "stdout"
        },
        {
          "output_type": "stream",
          "text": [
            "[Parallel(n_jobs=4)]: Done 527 tasks      | elapsed:    1.8s\n",
            "[Parallel(n_jobs=4)]: Done 625 out of 625 | elapsed:    2.1s finished\n",
            "[Parallel(n_jobs=4)]: Using backend LokyBackend with 4 concurrent workers.\n",
            "[Parallel(n_jobs=4)]: Done   7 tasks      | elapsed:    0.1s\n"
          ],
          "name": "stderr"
        },
        {
          "output_type": "stream",
          "text": [
            "it 8/10-Modelo 5/9\n",
            "mae: 90.08722151648735\n",
            "Fitting 5 folds for each of 125 candidates, totalling 625 fits\n"
          ],
          "name": "stdout"
        },
        {
          "output_type": "stream",
          "text": [
            "[Parallel(n_jobs=4)]: Done 448 tasks      | elapsed:    1.9s\n",
            "[Parallel(n_jobs=4)]: Done 625 out of 625 | elapsed:    2.3s finished\n",
            "[Parallel(n_jobs=4)]: Using backend LokyBackend with 4 concurrent workers.\n",
            "[Parallel(n_jobs=4)]: Done  12 tasks      | elapsed:    0.1s\n"
          ],
          "name": "stderr"
        },
        {
          "output_type": "stream",
          "text": [
            "it 8/10-Modelo 6/9\n",
            "mae: 60.16619224111662\n",
            "Fitting 5 folds for each of 125 candidates, totalling 625 fits\n"
          ],
          "name": "stdout"
        },
        {
          "output_type": "stream",
          "text": [
            "[Parallel(n_jobs=4)]: Done 552 tasks      | elapsed:    1.9s\n",
            "[Parallel(n_jobs=4)]: Done 618 out of 625 | elapsed:    2.1s remaining:    0.0s\n",
            "[Parallel(n_jobs=4)]: Done 625 out of 625 | elapsed:    2.1s finished\n",
            "[Parallel(n_jobs=4)]: Using backend LokyBackend with 4 concurrent workers.\n"
          ],
          "name": "stderr"
        },
        {
          "output_type": "stream",
          "text": [
            "it 8/10-Modelo 7/9\n",
            "mae: 58.93572060411423\n",
            "Fitting 5 folds for each of 25 candidates, totalling 125 fits\n"
          ],
          "name": "stdout"
        },
        {
          "output_type": "stream",
          "text": [
            "[Parallel(n_jobs=4)]: Done  10 tasks      | elapsed:    3.1s\n",
            "[Parallel(n_jobs=4)]: Done  64 tasks      | elapsed:   16.9s\n",
            "[Parallel(n_jobs=4)]: Done 125 out of 125 | elapsed:   32.0s finished\n"
          ],
          "name": "stderr"
        },
        {
          "output_type": "stream",
          "text": [
            "it 8/10-Modelo 8/9\n",
            "mae: 1846.9658371549167\n",
            "Iteración 9/10\n",
            "Fitting 5 folds for each of 5 candidates, totalling 25 fits\n",
            "it 9/10-Modelo 0/9\n",
            "mae: 74.76851181401274\n",
            "Fitting 5 folds for each of 5 candidates, totalling 25 fits\n"
          ],
          "name": "stdout"
        },
        {
          "output_type": "stream",
          "text": [
            "[Parallel(n_jobs=4)]: Using backend LokyBackend with 4 concurrent workers.\n",
            "[Parallel(n_jobs=4)]: Done  12 tasks      | elapsed:    0.1s\n",
            "[Parallel(n_jobs=4)]: Done  18 out of  25 | elapsed:    0.1s remaining:    0.0s\n",
            "[Parallel(n_jobs=4)]: Done  25 out of  25 | elapsed:    0.1s finished\n",
            "[Parallel(n_jobs=4)]: Using backend LokyBackend with 4 concurrent workers.\n",
            "[Parallel(n_jobs=4)]: Done  18 tasks      | elapsed:    0.1s\n",
            "[Parallel(n_jobs=4)]: Done  25 out of  25 | elapsed:    0.1s finished\n",
            "[Parallel(n_jobs=4)]: Using backend LokyBackend with 4 concurrent workers.\n",
            "[Parallel(n_jobs=4)]: Done  14 tasks      | elapsed:    0.1s\n"
          ],
          "name": "stderr"
        },
        {
          "output_type": "stream",
          "text": [
            "it 9/10-Modelo 1/9\n",
            "mae: 74.76851181401274\n",
            "Fitting 5 folds for each of 50 candidates, totalling 250 fits\n"
          ],
          "name": "stdout"
        },
        {
          "output_type": "stream",
          "text": [
            "[Parallel(n_jobs=4)]: Done 250 out of 250 | elapsed:    0.9s finished\n",
            "[Parallel(n_jobs=4)]: Using backend LokyBackend with 4 concurrent workers.\n",
            "[Parallel(n_jobs=4)]: Done  12 tasks      | elapsed:    0.1s\n"
          ],
          "name": "stderr"
        },
        {
          "output_type": "stream",
          "text": [
            "it 9/10-Modelo 2/9\n",
            "mae: 74.83662895575617\n",
            "Fitting 5 folds for each of 25 candidates, totalling 125 fits\n"
          ],
          "name": "stdout"
        },
        {
          "output_type": "stream",
          "text": [
            "[Parallel(n_jobs=4)]: Done 125 out of 125 | elapsed:    0.5s finished\n",
            "[Parallel(n_jobs=4)]: Using backend LokyBackend with 4 concurrent workers.\n",
            "[Parallel(n_jobs=4)]: Done  16 tasks      | elapsed:    0.1s\n"
          ],
          "name": "stderr"
        },
        {
          "output_type": "stream",
          "text": [
            "it 9/10-Modelo 3/9\n",
            "mae: 74.77272360512822\n",
            "Fitting 5 folds for each of 125 candidates, totalling 625 fits\n"
          ],
          "name": "stdout"
        },
        {
          "output_type": "stream",
          "text": [
            "[Parallel(n_jobs=4)]: Done 558 tasks      | elapsed:    1.7s\n",
            "[Parallel(n_jobs=4)]: Done 625 out of 625 | elapsed:    1.9s finished\n",
            "[Parallel(n_jobs=4)]: Using backend LokyBackend with 4 concurrent workers.\n"
          ],
          "name": "stderr"
        },
        {
          "output_type": "stream",
          "text": [
            "it 9/10-Modelo 4/9\n",
            "mae: 74.77272360512822\n",
            "Fitting 5 folds for each of 125 candidates, totalling 625 fits\n"
          ],
          "name": "stdout"
        },
        {
          "output_type": "stream",
          "text": [
            "[Parallel(n_jobs=4)]: Done  12 tasks      | elapsed:    0.1s\n",
            "[Parallel(n_jobs=4)]: Done 552 tasks      | elapsed:    1.8s\n",
            "[Parallel(n_jobs=4)]: Done 618 out of 625 | elapsed:    2.0s remaining:    0.0s\n",
            "[Parallel(n_jobs=4)]: Done 625 out of 625 | elapsed:    2.0s finished\n",
            "[Parallel(n_jobs=4)]: Using backend LokyBackend with 4 concurrent workers.\n",
            "[Parallel(n_jobs=4)]: Done  16 tasks      | elapsed:    0.1s\n"
          ],
          "name": "stderr"
        },
        {
          "output_type": "stream",
          "text": [
            "it 9/10-Modelo 5/9\n",
            "mae: 104.04586785459432\n",
            "Fitting 5 folds for each of 125 candidates, totalling 625 fits\n"
          ],
          "name": "stdout"
        },
        {
          "output_type": "stream",
          "text": [
            "[Parallel(n_jobs=4)]: Done 544 tasks      | elapsed:    2.1s\n",
            "[Parallel(n_jobs=4)]: Done 625 out of 625 | elapsed:    2.4s finished\n",
            "[Parallel(n_jobs=4)]: Using backend LokyBackend with 4 concurrent workers.\n",
            "[Parallel(n_jobs=4)]: Done  16 tasks      | elapsed:    0.1s\n"
          ],
          "name": "stderr"
        },
        {
          "output_type": "stream",
          "text": [
            "it 9/10-Modelo 6/9\n",
            "mae: 96.31516646793371\n",
            "Fitting 5 folds for each of 125 candidates, totalling 625 fits\n"
          ],
          "name": "stdout"
        },
        {
          "output_type": "stream",
          "text": [
            "[Parallel(n_jobs=4)]: Done 558 tasks      | elapsed:    1.8s\n",
            "[Parallel(n_jobs=4)]: Done 618 out of 625 | elapsed:    2.0s remaining:    0.0s\n",
            "[Parallel(n_jobs=4)]: Done 625 out of 625 | elapsed:    2.0s finished\n",
            "[Parallel(n_jobs=4)]: Using backend LokyBackend with 4 concurrent workers.\n"
          ],
          "name": "stderr"
        },
        {
          "output_type": "stream",
          "text": [
            "it 9/10-Modelo 7/9\n",
            "mae: 62.29369366349499\n",
            "Fitting 5 folds for each of 25 candidates, totalling 125 fits\n"
          ],
          "name": "stdout"
        },
        {
          "output_type": "stream",
          "text": [
            "[Parallel(n_jobs=4)]: Done  10 tasks      | elapsed:    3.1s\n",
            "[Parallel(n_jobs=4)]: Done  64 tasks      | elapsed:   16.5s\n",
            "[Parallel(n_jobs=4)]: Done 125 out of 125 | elapsed:   32.1s finished\n"
          ],
          "name": "stderr"
        },
        {
          "output_type": "stream",
          "text": [
            "it 9/10-Modelo 8/9\n",
            "mae: 42616.99188129304\n",
            "Iteración 10/10\n",
            "Fitting 5 folds for each of 5 candidates, totalling 25 fits\n",
            "it 10/10-Modelo 0/9\n",
            "mae: 52.77628565011261\n",
            "Fitting 5 folds for each of 5 candidates, totalling 25 fits\n"
          ],
          "name": "stdout"
        },
        {
          "output_type": "stream",
          "text": [
            "[Parallel(n_jobs=4)]: Using backend LokyBackend with 4 concurrent workers.\n",
            "[Parallel(n_jobs=4)]: Done  12 tasks      | elapsed:    0.1s\n",
            "[Parallel(n_jobs=4)]: Done  18 out of  25 | elapsed:    0.1s remaining:    0.0s\n",
            "[Parallel(n_jobs=4)]: Done  25 out of  25 | elapsed:    0.2s finished\n",
            "[Parallel(n_jobs=4)]: Using backend LokyBackend with 4 concurrent workers.\n",
            "[Parallel(n_jobs=4)]: Done  17 tasks      | elapsed:    0.1s\n",
            "[Parallel(n_jobs=4)]: Done  25 out of  25 | elapsed:    0.1s finished\n",
            "[Parallel(n_jobs=4)]: Using backend LokyBackend with 4 concurrent workers.\n",
            "[Parallel(n_jobs=4)]: Done  12 tasks      | elapsed:    0.1s\n"
          ],
          "name": "stderr"
        },
        {
          "output_type": "stream",
          "text": [
            "it 10/10-Modelo 1/9\n",
            "mae: 52.77628565011261\n",
            "Fitting 5 folds for each of 50 candidates, totalling 250 fits\n"
          ],
          "name": "stdout"
        },
        {
          "output_type": "stream",
          "text": [
            "[Parallel(n_jobs=4)]: Done 250 out of 250 | elapsed:    0.9s finished\n",
            "[Parallel(n_jobs=4)]: Using backend LokyBackend with 4 concurrent workers.\n",
            "[Parallel(n_jobs=4)]: Done  16 tasks      | elapsed:    0.1s\n"
          ],
          "name": "stderr"
        },
        {
          "output_type": "stream",
          "text": [
            "it 10/10-Modelo 2/9\n",
            "mae: 52.81455344885652\n",
            "Fitting 5 folds for each of 25 candidates, totalling 125 fits\n"
          ],
          "name": "stdout"
        },
        {
          "output_type": "stream",
          "text": [
            "[Parallel(n_jobs=4)]: Done 125 out of 125 | elapsed:    0.5s finished\n",
            "[Parallel(n_jobs=4)]: Using backend LokyBackend with 4 concurrent workers.\n",
            "[Parallel(n_jobs=4)]: Done  18 tasks      | elapsed:    0.1s\n"
          ],
          "name": "stderr"
        },
        {
          "output_type": "stream",
          "text": [
            "it 10/10-Modelo 3/9\n",
            "mae: 52.77859199146669\n",
            "Fitting 5 folds for each of 125 candidates, totalling 625 fits\n"
          ],
          "name": "stdout"
        },
        {
          "output_type": "stream",
          "text": [
            "[Parallel(n_jobs=4)]: Done 561 tasks      | elapsed:    1.9s\n",
            "[Parallel(n_jobs=4)]: Done 618 out of 625 | elapsed:    2.1s remaining:    0.0s\n",
            "[Parallel(n_jobs=4)]: Done 625 out of 625 | elapsed:    2.1s finished\n",
            "[Parallel(n_jobs=4)]: Using backend LokyBackend with 4 concurrent workers.\n",
            "[Parallel(n_jobs=4)]: Done  12 tasks      | elapsed:    0.1s\n"
          ],
          "name": "stderr"
        },
        {
          "output_type": "stream",
          "text": [
            "it 10/10-Modelo 4/9\n",
            "mae: 52.77859199146669\n",
            "Fitting 5 folds for each of 125 candidates, totalling 625 fits\n"
          ],
          "name": "stdout"
        },
        {
          "output_type": "stream",
          "text": [
            "[Parallel(n_jobs=4)]: Done 542 tasks      | elapsed:    1.9s\n",
            "[Parallel(n_jobs=4)]: Done 625 out of 625 | elapsed:    2.2s finished\n",
            "[Parallel(n_jobs=4)]: Using backend LokyBackend with 4 concurrent workers.\n",
            "[Parallel(n_jobs=4)]: Done  12 tasks      | elapsed:    0.1s\n"
          ],
          "name": "stderr"
        },
        {
          "output_type": "stream",
          "text": [
            "it 10/10-Modelo 5/9\n",
            "mae: 107.45658125425565\n",
            "Fitting 5 folds for each of 125 candidates, totalling 625 fits\n"
          ],
          "name": "stdout"
        },
        {
          "output_type": "stream",
          "text": [
            "[Parallel(n_jobs=4)]: Done 552 tasks      | elapsed:    2.1s\n",
            "[Parallel(n_jobs=4)]: Done 625 out of 625 | elapsed:    2.4s finished\n",
            "[Parallel(n_jobs=4)]: Using backend LokyBackend with 4 concurrent workers.\n",
            "[Parallel(n_jobs=4)]: Done  14 tasks      | elapsed:    0.1s\n"
          ],
          "name": "stderr"
        },
        {
          "output_type": "stream",
          "text": [
            "it 10/10-Modelo 6/9\n",
            "mae: 68.86008548630225\n",
            "Fitting 5 folds for each of 125 candidates, totalling 625 fits\n"
          ],
          "name": "stdout"
        },
        {
          "output_type": "stream",
          "text": [
            "[Parallel(n_jobs=4)]: Done 555 tasks      | elapsed:    1.8s\n",
            "[Parallel(n_jobs=4)]: Done 618 out of 625 | elapsed:    2.0s remaining:    0.0s\n",
            "[Parallel(n_jobs=4)]: Done 625 out of 625 | elapsed:    2.0s finished\n"
          ],
          "name": "stderr"
        },
        {
          "output_type": "stream",
          "text": [
            "it 10/10-Modelo 7/9\n",
            "mae: 79.85065911364957\n",
            "Fitting 5 folds for each of 25 candidates, totalling 125 fits\n"
          ],
          "name": "stdout"
        },
        {
          "output_type": "stream",
          "text": [
            "[Parallel(n_jobs=4)]: Using backend LokyBackend with 4 concurrent workers.\n",
            "[Parallel(n_jobs=4)]: Done  10 tasks      | elapsed:    3.1s\n",
            "[Parallel(n_jobs=4)]: Done  64 tasks      | elapsed:   16.6s\n",
            "[Parallel(n_jobs=4)]: Done 125 out of 125 | elapsed:   32.0s finished\n"
          ],
          "name": "stderr"
        },
        {
          "output_type": "stream",
          "text": [
            "it 10/10-Modelo 8/9\n",
            "mae: 2128.7715292918556\n"
          ],
          "name": "stdout"
        }
      ]
    },
    {
      "cell_type": "code",
      "metadata": {
        "id": "Efy8ISR4G1-k",
        "colab_type": "code",
        "colab": {
          "base_uri": "https://localhost:8080/",
          "height": 887
        },
        "outputId": "e5eb9a6f-0f44-4491-bb68-2ac588ac694d"
      },
      "source": [
        "plt.figure(figsize=(10,6))\n",
        "plt.boxplot(mae)\n",
        "plt.xticks(ticks=np.arange(len(steps))+1,\n",
        "                      labels=label_model)\n",
        "plt.ylabel('mae -- Contagios')\n",
        "plt.show()\n",
        "mae"
      ],
      "execution_count": 60,
      "outputs": [
        {
          "output_type": "display_data",
          "data": {
            "image/png": "[encoded data removed]",
            "text/plain": [
              "<Figure size 720x432 with 1 Axes>"
            ]
          },
          "metadata": {
            "tags": [],
            "needs_background": "light"
          }
        },
        {
          "output_type": "execute_result",
          "data": {
            "text/plain": [
              "array([[5.55549597e+01, 5.55549597e+01, 5.57485294e+01, 5.55641821e+01,\n",
              "        5.55641821e+01, 4.04419020e+01, 4.17132509e+01, 3.75593042e+01,\n",
              "        2.01429998e+04],\n",
              "       [6.54092640e+01, 6.54092640e+01, 6.55465458e+01, 6.54173503e+01,\n",
              "        6.54173503e+01, 5.48043687e+01, 6.86474156e+01, 4.66206547e+01,\n",
              "        2.32304631e+02],\n",
              "       [6.93210364e+01, 6.93210364e+01, 6.94518659e+01, 6.93282760e+01,\n",
              "        6.93282760e+01, 4.97316513e+01, 7.02961944e+01, 4.16722222e+01,\n",
              "        3.72975859e+04],\n",
              "       [8.38550610e+01, 8.38550610e+01, 8.39695679e+01, 8.38615478e+01,\n",
              "        8.38615478e+01, 8.93583833e+01, 6.56752327e+01, 6.22617150e+01,\n",
              "        1.97023297e+03],\n",
              "       [7.43028067e+01, 7.43028067e+01, 7.45559771e+01, 7.43184938e+01,\n",
              "        7.43184938e+01, 6.73709294e+01, 6.18343961e+01, 7.03901526e+01,\n",
              "        5.26518120e+02],\n",
              "       [6.26082120e+01, 6.26082120e+01, 6.29548849e+01, 6.26302011e+01,\n",
              "        6.26302011e+01, 1.25569577e+02, 6.16456233e+01, 9.84207399e+01,\n",
              "        1.35643149e+03],\n",
              "       [7.96523277e+01, 7.96523277e+01, 7.97180843e+01, 7.96560004e+01,\n",
              "        7.96560004e+01, 7.37942159e+01, 9.47637923e+01, 5.49815080e+01,\n",
              "        4.29168685e+03],\n",
              "       [7.57928040e+01, 7.57928040e+01, 7.58613519e+01, 7.57967434e+01,\n",
              "        7.57967434e+01, 9.00872215e+01, 6.01661922e+01, 5.89357206e+01,\n",
              "        1.84696584e+03],\n",
              "       [7.47685118e+01, 7.47685118e+01, 7.48366290e+01, 7.47727236e+01,\n",
              "        7.47727236e+01, 1.04045868e+02, 9.63151665e+01, 6.22936937e+01,\n",
              "        4.26169919e+04],\n",
              "       [5.27762857e+01, 5.27762857e+01, 5.28145534e+01, 5.27785920e+01,\n",
              "        5.27785920e+01, 1.07456581e+02, 6.88600855e+01, 7.98506591e+01,\n",
              "        2.12877153e+03]])"
            ]
          },
          "metadata": {
            "tags": []
          },
          "execution_count": 60
        }
      ]
    },
    {
      "cell_type": "code",
      "metadata": {
        "id": "BfGw851oG1-o",
        "colab_type": "code",
        "colab": {
          "base_uri": "https://localhost:8080/",
          "height": 1000
        },
        "outputId": "e45f8618-ae00-40c7-925e-7240bb38b121"
      },
      "source": [
        "hyperpard_0, mode_hyperd_0, nhd_0 = mode_hyperpard(modelo[0])\n",
        "hyperpard_1, mode_hyperd_1, nhd_1 = mode_hyperpard(modelo[1])\n",
        "hyperpard_2, mode_hyperd_2, nhd_2 = mode_hyperpard(modelo[2])\n",
        "hyperpard_3, mode_hyperd_3, nhd_3 = mode_hyperpard(modelo[3])"
      ],
      "execution_count": 61,
      "outputs": [
        {
          "output_type": "display_data",
          "data": {
            "image/png": "[encoded data removed]",
            "text/plain": [
              "<Figure size 432x288 with 1 Axes>"
            ]
          },
          "metadata": {
            "tags": [],
            "needs_background": "light"
          }
        },
        {
          "output_type": "stream",
          "text": [
            "Modes=  [0.1 0.1]\n"
          ],
          "name": "stdout"
        },
        {
          "output_type": "display_data",
          "data": {
            "image/png": "[encoded data removed]",
            "text/plain": [
              "<Figure size 432x288 with 1 Axes>"
            ]
          },
          "metadata": {
            "tags": [],
            "needs_background": "light"
          }
        },
        {
          "output_type": "stream",
          "text": [
            "Modes=  [0.1 0.1]\n"
          ],
          "name": "stdout"
        },
        {
          "output_type": "display_data",
          "data": {
            "image/png": "[encoded data removed]",
            "text/plain": [
              "<Figure size 432x288 with 1 Axes>"
            ]
          },
          "metadata": {
            "tags": [],
            "needs_background": "light"
          }
        },
        {
          "output_type": "stream",
          "text": [
            "Modes=  [0.1 1.  0.1]\n"
          ],
          "name": "stdout"
        },
        {
          "output_type": "display_data",
          "data": {
            "image/png": "[encoded data removed]",
            "text/plain": [
              "<Figure size 432x288 with 1 Axes>"
            ]
          },
          "metadata": {
            "tags": [],
            "needs_background": "light"
          }
        },
        {
          "output_type": "stream",
          "text": [
            "Modes=  [0.1 0.1 0.1]\n"
          ],
          "name": "stdout"
        }
      ]
    },
    {
      "cell_type": "code",
      "metadata": {
        "id": "KqrRJxX8iAeU",
        "colab_type": "code",
        "colab": {
          "base_uri": "https://localhost:8080/",
          "height": 204
        },
        "outputId": "14578c71-7911-4fea-f620-36ff1e8c0e07"
      },
      "source": [
        "lassod, paramsd_1 = train_model(modelo[1], nh_1, mode_hyper_1)\n",
        "lassod.set_params(**params_1)\n",
        "lassod.fit(X,y)\n",
        "\n",
        "elasticd, paramsd_2 = train_model(modelo[2], nh_2, mode_hyper_2)\n",
        "elasticd.set_params(**params_2)\n",
        "elasticd.fit(X,y)\n",
        "\n",
        "kerneld, paramsd_3 = train_model(modelo[3], nh_3, mode_hyper_3)\n",
        "kerneld.set_params(**params_3)\n",
        "kerneld.fit(X,y)"
      ],
      "execution_count": 63,
      "outputs": [
        {
          "output_type": "execute_result",
          "data": {
            "text/plain": [
              "Pipeline(memory=None,\n",
              "         steps=[('scaler',\n",
              "                 StandardScaler(copy=True, with_mean=True, with_std=True)),\n",
              "                ('rep',\n",
              "                 PCA(copy=True, iterated_power='auto', n_components=0.1,\n",
              "                     random_state=None, svd_solver='auto', tol=0.0,\n",
              "                     whiten=False)),\n",
              "                ('reg',\n",
              "                 KernelRidge(alpha=0.1, coef0=1, degree=3, gamma=0.1,\n",
              "                             kernel='sigmoid', kernel_params=None))],\n",
              "         verbose=False)"
            ]
          },
          "metadata": {
            "tags": []
          },
          "execution_count": 63
        }
      ]
    },
    {
      "cell_type": "code",
      "metadata": {
        "id": "9oC_nB2Slu_V",
        "colab_type": "code",
        "colab": {
          "base_uri": "https://localhost:8080/",
          "height": 85
        },
        "outputId": "d592c8d8-6d6c-4fca-b001-0b260d28339c"
      },
      "source": [
        "y_pred_lasd = lassod.predict(serie_d[len(serie_d)-w:].reshape(1,-1))[0]\n",
        "y_pred_elad = elasticd.predict(serie_d[len(serie_d)-w:].reshape(1,-1))[0]\n",
        "y_pred_kerd = kerneld.predict(serie_d[len(serie_d)-w:].reshape(1,-1))[0]\n",
        "\n",
        "print('Predicción contagiados covid19 ',date.today(),\n",
        "      '\\nLasso:',y_pred_lasd,\n",
        "      '\\nElastic Net: ', y_pred_elad,\n",
        "      '\\nKernel Ridge (sigmoid): ', y_pred_kerd)"
      ],
      "execution_count": 64,
      "outputs": [
        {
          "output_type": "stream",
          "text": [
            "Predicción contagiados covid19  2020-05-10 \n",
            "Lasso: 635.2199239535016 \n",
            "Elastic Net:  809.969719530191 \n",
            "Kernel Ridge (sigmoid):  [705.89808997]\n"
          ],
          "name": "stdout"
        }
      ]
    },
    {
      "cell_type": "code",
      "metadata": {
        "id": "iCzcl5k_lwBv",
        "colab_type": "code",
        "colab": {
          "base_uri": "https://localhost:8080/",
          "height": 268
        },
        "outputId": "c21338f9-bd4e-48b2-a33f-eb19dd861be7"
      },
      "source": [
        "plt.plot(yd)\n",
        "plt.plot(len(y),y_pred_lasd, '*', label='Lasso')\n",
        "plt.plot(len(y),y_pred_elad, '*', label='Elastic net')\n",
        "plt.plot(len(y),y_pred_kerd, '*', label='Kernel ridge')\n",
        "\n",
        "plt.legend(loc='best')\n",
        "plt.show()"
      ],
      "execution_count": 66,
      "outputs": [
        {
          "output_type": "display_data",
          "data": {
            "image/png": "[encoded data removed]",
            "text/plain": [
              "<Figure size 432x288 with 1 Axes>"
            ]
          },
          "metadata": {
            "tags": [],
            "needs_background": "light"
          }
        }
      ]
    },
    {
      "cell_type": "code",
      "metadata": {
        "id": "_xR3w-bBG1-r",
        "colab_type": "code",
        "colab": {
          "base_uri": "https://localhost:8080/",
          "height": 268
        },
        "outputId": "96a719f7-e32c-4e44-f0cb-325db2728c98"
      },
      "source": [
        "plt.plot(y, label='objetivo')\n",
        "plt.plot(lassod.predict(X), label='Lasso')\n",
        "plt.plot(elasticd.predict(X), label='ElasticNet')\n",
        "plt.plot(kerneld.predict(X), label='KernelRidge')\n",
        "\n",
        "\n",
        "plt.legend(loc='best')\n",
        "plt.show()"
      ],
      "execution_count": 69,
      "outputs": [
        {
          "output_type": "display_data",
          "data": {
            "image/png": "[encoded data removed]",
            "text/plain": [
              "<Figure size 432x288 with 1 Axes>"
            ]
          },
          "metadata": {
            "tags": [],
            "needs_background": "light"
          }
        }
      ]
    }
  ]
}